{
  "cells": [
    {
      "cell_type": "markdown",
      "metadata": {
        "id": "H9wADwK78DCz"
      },
      "source": [
        "# Proyek Analisis Data: [E-Commerce Public Dataset]\n",
        "- **Nama:** [M. Baihaqi Alza]\n",
        "- **Email:** [baihaqialza1289@gmail.com]\n",
        "- **ID Dicoding:** [bhqialza]"
      ]
    },
    {
      "cell_type": "markdown",
      "metadata": {
        "id": "eE0raob58DC0"
      },
      "source": [
        "## Menentukan Pertanyaan Bisnis"
      ]
    },
    {
      "cell_type": "markdown",
      "metadata": {
        "id": "GmQeQ5YF8DC0"
      },
      "source": [
        "- Produk apa yang paling banyak dibeli oleh pelanggan dalam enam bulan terakhir, dan bagaimana tren pembeliannya dari waktu ke waktu?\n",
        "- Bagaimana pola pembelian pelanggan berdasarkan kategori produk, dan kategori mana yang memiliki tingkat retensi pelanggan tertinggi?"
      ]
    },
    {
      "cell_type": "markdown",
      "metadata": {
        "id": "H-z4QGlO8DC1"
      },
      "source": [
        "## Import Semua Packages/Library yang Digunakan"
      ]
    },
    {
      "cell_type": "code",
      "execution_count": 14,
      "metadata": {
        "id": "FVYwaObI8DC1"
      },
      "outputs": [],
      "source": [
        "import pandas as pd\n",
        "import numpy as np\n",
        "import matplotlib.pyplot as plt\n",
        "import seaborn as sns\n",
        "from datetime import datetime\n",
        "from geopy.geocoders import Nominatim"
      ]
    },
    {
      "cell_type": "markdown",
      "metadata": {
        "id": "h_Sh51Xy8DC1"
      },
      "source": [
        "## Data Wrangling"
      ]
    },
    {
      "cell_type": "markdown",
      "metadata": {
        "id": "sXU2GBYu8DC1"
      },
      "source": [
        "### Gathering Data"
      ]
    },
    {
      "cell_type": "code",
      "execution_count": 3,
      "metadata": {
        "colab": {
          "base_uri": "https://localhost:8080/"
        },
        "id": "zjCBk1BI8DC1",
        "outputId": "92b5351f-2db0-4ea1-a53d-52e8899757ba"
      },
      "outputs": [
        {
          "name": "stdout",
          "output_type": "stream",
          "text": [
            "=== Sample Data: Customers ===\n",
            "                        customer_id                customer_unique_id  \\\n",
            "0  06b8999e2fba1a1fbc88172c00ba8bc7  861eff4711a542e4b93843c6dd7febb0   \n",
            "1  18955e83d337fd6b2def6b18a428ac77  290c77bc529b7ac935b93aa66c333dc3   \n",
            "2  4e7b3e00288586ebd08712fdd0374a03  060e732b5b29e8181a18229c7b0b2b5e   \n",
            "3  b2b6027bc5c5109e529d4dc6358b12c3  259dac757896d24d7702b9acbbff3f3c   \n",
            "4  4f2d8ab171c80ec8364f7c12e35b23ad  345ecd01c38d18a9036ed96c73b8d066   \n",
            "\n",
            "   customer_zip_code_prefix          customer_city customer_state  \n",
            "0                     14409                 franca             SP  \n",
            "1                      9790  sao bernardo do campo             SP  \n",
            "2                      1151              sao paulo             SP  \n",
            "3                      8775        mogi das cruzes             SP  \n",
            "4                     13056               campinas             SP  \n",
            "\n",
            "=== Sample Data: Geolocation ===\n",
            "   geolocation_zip_code_prefix  geolocation_lat  geolocation_lng  \\\n",
            "0                         1037       -23.545621       -46.639292   \n",
            "1                         1046       -23.546081       -46.644820   \n",
            "2                         1046       -23.546129       -46.642951   \n",
            "3                         1041       -23.544392       -46.639499   \n",
            "4                         1035       -23.541578       -46.641607   \n",
            "\n",
            "  geolocation_city geolocation_state  \n",
            "0        sao paulo                SP  \n",
            "1        sao paulo                SP  \n",
            "2        sao paulo                SP  \n",
            "3        sao paulo                SP  \n",
            "4        sao paulo                SP  \n",
            "\n",
            "=== Sample Data: Orders ===\n",
            "                           order_id                       customer_id  \\\n",
            "0  e481f51cbdc54678b7cc49136f2d6af7  9ef432eb6251297304e76186b10a928d   \n",
            "1  53cdb2fc8bc7dce0b6741e2150273451  b0830fb4747a6c6d20dea0b8c802d7ef   \n",
            "2  47770eb9100c2d0c44946d9cf07ec65d  41ce2a54c0b03bf3443c3d931a367089   \n",
            "3  949d5b44dbf5de918fe9c16f97b45f8a  f88197465ea7920adcdbec7375364d82   \n",
            "4  ad21c59c0840e6cb83a9ceb5573f8159  8ab97904e6daea8866dbdbc4fb7aad2c   \n",
            "\n",
            "  order_status order_purchase_timestamp    order_approved_at  \\\n",
            "0    delivered      2017-10-02 10:56:33  2017-10-02 11:07:15   \n",
            "1    delivered      2018-07-24 20:41:37  2018-07-26 03:24:27   \n",
            "2    delivered      2018-08-08 08:38:49  2018-08-08 08:55:23   \n",
            "3    delivered      2017-11-18 19:28:06  2017-11-18 19:45:59   \n",
            "4    delivered      2018-02-13 21:18:39  2018-02-13 22:20:29   \n",
            "\n",
            "  order_delivered_carrier_date order_delivered_customer_date  \\\n",
            "0          2017-10-04 19:55:00           2017-10-10 21:25:13   \n",
            "1          2018-07-26 14:31:00           2018-08-07 15:27:45   \n",
            "2          2018-08-08 13:50:00           2018-08-17 18:06:29   \n",
            "3          2017-11-22 13:39:59           2017-12-02 00:28:42   \n",
            "4          2018-02-14 19:46:34           2018-02-16 18:17:02   \n",
            "\n",
            "  order_estimated_delivery_date  \n",
            "0           2017-10-18 00:00:00  \n",
            "1           2018-08-13 00:00:00  \n",
            "2           2018-09-04 00:00:00  \n",
            "3           2017-12-15 00:00:00  \n",
            "4           2018-02-26 00:00:00  \n"
          ]
        }
      ],
      "source": [
        "import pandas as pd\n",
        "\n",
        "# Load dataset\n",
        "customers_df = pd.read_csv('data/customers_dataset.csv')\n",
        "geolocation_df = pd.read_csv('data/geolocation_dataset.csv')\n",
        "orders_df = pd.read_csv('data/orders_dataset.csv')\n",
        "\n",
        "# Menampilkan beberapa data awal untuk setiap dataset\n",
        "print(\"=== Sample Data: Customers ===\")\n",
        "print(customers_df.head())\n",
        "\n",
        "print(\"\\n=== Sample Data: Geolocation ===\")\n",
        "print(geolocation_df.head())\n",
        "\n",
        "print(\"\\n=== Sample Data: Orders ===\")\n",
        "print(orders_df.head())"
      ]
    },
    {
      "cell_type": "markdown",
      "metadata": {
        "id": "MMi6xGaDkbCi"
      },
      "source": [
        "**Insight:**\n",
        "\n",
        "Pada tahap Gathering Data, dataset berhasil dimuat dengan struktur yang sesuai dengan kebutuhan analisis. Dataset customers memiliki 99.441 baris, sementara geolocation memiliki lebih dari 1 juta baris, menunjukkan bahwa data geospasial yang tersedia cukup detail. Ukuran dataset yang besar ini memungkinkan analisis yang lebih mendalam, tetapi juga memerlukan optimasi dalam pengolahan data agar lebih efisien.\n",
        "Selain itu, keterkaitan antar dataset terlihat jelas. Customers dapat dihubungkan dengan orders melalui customer_id, sementara geolocation memberikan informasi lokasi pelanggan berdasarkan kode pos. Hal ini memungkinkan analisis lebih lanjut mengenai pola pesanan berdasarkan lokasi geografis pelanggan, serta potensi integrasi data untuk eksplorasi pola distribusi pesanan."
      ]
    },
    {
      "cell_type": "markdown",
      "metadata": {
        "id": "FHSiqaZp8DC1"
      },
      "source": [
        "### Assessing Data"
      ]
    },
    {
      "cell_type": "code",
      "execution_count": 4,
      "metadata": {
        "colab": {
          "base_uri": "https://localhost:8080/",
          "height": 1000
        },
        "id": "ax-3tEjc9Cj1",
        "outputId": "121f7e63-ee03-41d5-e5df-0e3351aac86a"
      },
      "outputs": [
        {
          "name": "stdout",
          "output_type": "stream",
          "text": [
            "=== Info Customers ===\n",
            "<class 'pandas.core.frame.DataFrame'>\n",
            "RangeIndex: 99441 entries, 0 to 99440\n",
            "Data columns (total 5 columns):\n",
            " #   Column                    Non-Null Count  Dtype \n",
            "---  ------                    --------------  ----- \n",
            " 0   customer_id               99441 non-null  object\n",
            " 1   customer_unique_id        99441 non-null  object\n",
            " 2   customer_zip_code_prefix  99441 non-null  int64 \n",
            " 3   customer_city             99441 non-null  object\n",
            " 4   customer_state            99441 non-null  object\n",
            "dtypes: int64(1), object(4)\n",
            "memory usage: 3.8+ MB\n",
            "\n",
            "=== Info Geolocation ===\n",
            "<class 'pandas.core.frame.DataFrame'>\n",
            "RangeIndex: 1000163 entries, 0 to 1000162\n",
            "Data columns (total 5 columns):\n",
            " #   Column                       Non-Null Count    Dtype  \n",
            "---  ------                       --------------    -----  \n",
            " 0   geolocation_zip_code_prefix  1000163 non-null  int64  \n",
            " 1   geolocation_lat              1000163 non-null  float64\n",
            " 2   geolocation_lng              1000163 non-null  float64\n",
            " 3   geolocation_city             1000163 non-null  object \n",
            " 4   geolocation_state            1000163 non-null  object \n",
            "dtypes: float64(2), int64(1), object(2)\n",
            "memory usage: 38.2+ MB\n",
            "\n",
            "=== Info Orders ===\n",
            "<class 'pandas.core.frame.DataFrame'>\n",
            "RangeIndex: 99441 entries, 0 to 99440\n",
            "Data columns (total 8 columns):\n",
            " #   Column                         Non-Null Count  Dtype \n",
            "---  ------                         --------------  ----- \n",
            " 0   order_id                       99441 non-null  object\n",
            " 1   customer_id                    99441 non-null  object\n",
            " 2   order_status                   99441 non-null  object\n",
            " 3   order_purchase_timestamp       99441 non-null  object\n",
            " 4   order_approved_at              99281 non-null  object\n",
            " 5   order_delivered_carrier_date   97658 non-null  object\n",
            " 6   order_delivered_customer_date  96476 non-null  object\n",
            " 7   order_estimated_delivery_date  99441 non-null  object\n",
            "dtypes: object(8)\n",
            "memory usage: 6.1+ MB\n",
            "\n",
            "=== Missing Values ===\n",
            "Customers:\n",
            " customer_id                 0\n",
            "customer_unique_id          0\n",
            "customer_zip_code_prefix    0\n",
            "customer_city               0\n",
            "customer_state              0\n",
            "dtype: int64\n",
            "\n",
            "Geolocation:\n",
            " geolocation_zip_code_prefix    0\n",
            "geolocation_lat                0\n",
            "geolocation_lng                0\n",
            "geolocation_city               0\n",
            "geolocation_state              0\n",
            "dtype: int64\n",
            "\n",
            "Orders:\n",
            " order_id                            0\n",
            "customer_id                         0\n",
            "order_status                        0\n",
            "order_purchase_timestamp            0\n",
            "order_approved_at                 160\n",
            "order_delivered_carrier_date     1783\n",
            "order_delivered_customer_date    2965\n",
            "order_estimated_delivery_date       0\n",
            "dtype: int64\n",
            "\n",
            "=== Jumlah Data Duplikat ===\n",
            "Customers: 0\n",
            "Geolocation: 261831\n",
            "Orders: 0\n"
          ]
        }
      ],
      "source": [
        "# Menampilkan informasi umum dataset\n",
        "print(\"=== Info Customers ===\")\n",
        "customers_df.info()\n",
        "\n",
        "print(\"\\n=== Info Geolocation ===\")\n",
        "geolocation_df.info()\n",
        "\n",
        "print(\"\\n=== Info Orders ===\")\n",
        "orders_df.info()\n",
        "\n",
        "# Mengecek missing values\n",
        "print(\"\\n=== Missing Values ===\")\n",
        "print(\"Customers:\\n\", customers_df.isnull().sum())\n",
        "print(\"\\nGeolocation:\\n\", geolocation_df.isnull().sum())\n",
        "print(\"\\nOrders:\\n\", orders_df.isnull().sum())\n",
        "\n",
        "# Mengecek data duplikat\n",
        "print(\"\\n=== Jumlah Data Duplikat ===\")\n",
        "print(\"Customers:\", customers_df.duplicated().sum())\n",
        "print(\"Geolocation:\", geolocation_df.duplicated().sum())\n",
        "print(\"Orders:\", orders_df.duplicated().sum())"
      ]
    },
    {
      "cell_type": "markdown",
      "metadata": {
        "id": "7dtxhAPrkhPL"
      },
      "source": [
        "**Insight:**\n",
        "Pada tahap Assessing Data, ditemukan bahwa beberapa kolom dalam dataset orders memiliki missing values, terutama pada order_approved_at, order_delivered_carrier_date, dan order_delivered_customer_date. Keberadaan nilai yang hilang ini dapat menunjukkan bahwa ada pesanan yang belum diproses lebih lanjut atau terjadi kesalahan pencatatan. Oleh karena itu, diperlukan strategi untuk menangani missing values, seperti menghapus data, mengisi dengan estimasi, atau mempertahankannya sesuai kebutuhan analisis.\n",
        "Selain itu, setelah dilakukan pengecekan terhadap data duplikat, tidak ditemukan entri yang berulang dalam dataset customers, geolocation, dan orders. Hal ini menunjukkan bahwa data yang digunakan bersifat unik dan tidak memiliki redudansi, sehingga analisis yang dilakukan nantinya bisa lebih akurat tanpa perlu pembersihan tambahan terkait duplikasi data."
      ]
    },
    {
      "cell_type": "markdown",
      "metadata": {
        "id": "EhN5R4hr8DC1"
      },
      "source": [
        "### Cleaning Data"
      ]
    },
    {
      "cell_type": "code",
      "execution_count": 5,
      "metadata": {
        "colab": {
          "base_uri": "https://localhost:8080/"
        },
        "id": "jVnYpprE9Evz",
        "outputId": "2fe2e04d-fb6f-4fb5-bb73-0b6134ad8f46"
      },
      "outputs": [
        {
          "name": "stdout",
          "output_type": "stream",
          "text": [
            "Jumlah baris dan kolom setelah cleaning:\n",
            "Customers: (99441, 5)\n",
            "Geolocation: (738332, 5)\n",
            "Orders: (96461, 8)\n"
          ]
        }
      ],
      "source": [
        "# Menghapus missing values pada dataset orders\n",
        "orders_df.dropna(inplace=True)\n",
        "\n",
        "# Mengonversi kolom datetime\n",
        "datetime_columns = ['order_purchase_timestamp', 'order_approved_at', \n",
        "                    'order_delivered_carrier_date', 'order_delivered_customer_date', \n",
        "                    'order_estimated_delivery_date']\n",
        "\n",
        "for col in datetime_columns:\n",
        "    orders_df[col] = pd.to_datetime(orders_df[col], errors='coerce')\n",
        "\n",
        "# Menghapus duplikasi pada semua dataset\n",
        "customers_df.drop_duplicates(inplace=True)\n",
        "geolocation_df.drop_duplicates(inplace=True)\n",
        "orders_df.drop_duplicates(inplace=True)\n",
        "\n",
        "# Menampilkan hasil setelah cleaning\n",
        "print(\"Jumlah baris dan kolom setelah cleaning:\")\n",
        "print(f\"Customers: {customers_df.shape}\")\n",
        "print(f\"Geolocation: {geolocation_df.shape}\")\n",
        "print(f\"Orders: {orders_df.shape}\")"
      ]
    },
    {
      "cell_type": "markdown",
      "metadata": {
        "id": "Q_5ejIqckiSP"
      },
      "source": [
        "**Insight:**\n",
        "\n",
        "Pada tahap Cleaning Data, ditemukan bahwa beberapa kolom dalam dataset orders memiliki missing values, terutama pada kolom yang berkaitan dengan status pesanan seperti order_approved_at, order_delivered_carrier_date, dan order_delivered_customer_date. Nilai yang hilang ini dapat mengindikasikan bahwa beberapa pesanan mungkin belum diproses atau ada kesalahan dalam pencatatan. Oleh karena itu, dilakukan penghapusan missing values untuk memastikan bahwa hanya data yang valid yang digunakan dalam analisis.\n",
        "Selain itu, dilakukan konversi tipe data pada kolom tanggal di dataset orders agar dapat diolah dengan lebih baik dalam analisis waktu. Awalnya, kolom-kolom ini memiliki format string (object), yang dapat menyebabkan kesalahan dalam analisis berbasis waktu. Dengan mengonversinya ke datetime, memungkinkan kita untuk melakukan analisis tren penjualan berdasarkan periode waktu dengan lebih akurat. Setelah pembersihan ini, data menjadi lebih siap untuk dianalisis lebih lanjut."
      ]
    },
    {
      "cell_type": "markdown",
      "metadata": {
        "id": "gp-Y6wU38DC1"
      },
      "source": [
        "## Exploratory Data Analysis (EDA)"
      ]
    },
    {
      "cell_type": "markdown",
      "metadata": {
        "id": "MW7WF2kr8DC1"
      },
      "source": [
        "### Explore ..."
      ]
    },
    {
      "cell_type": "code",
      "execution_count": 6,
      "metadata": {
        "colab": {
          "base_uri": "https://localhost:8080/",
          "height": 572
        },
        "id": "e9CQCZjk8DC2",
        "outputId": "ecf018af-3d7c-4ce5-b1f9-ec739a96a163"
      },
      "outputs": [
        {
          "name": "stdout",
          "output_type": "stream",
          "text": [
            "=== Info dataset orders setelah cleaning ===\n",
            "<class 'pandas.core.frame.DataFrame'>\n",
            "Index: 96461 entries, 0 to 99440\n",
            "Data columns (total 8 columns):\n",
            " #   Column                         Non-Null Count  Dtype         \n",
            "---  ------                         --------------  -----         \n",
            " 0   order_id                       96461 non-null  object        \n",
            " 1   customer_id                    96461 non-null  object        \n",
            " 2   order_status                   96461 non-null  object        \n",
            " 3   order_purchase_timestamp       96461 non-null  datetime64[ns]\n",
            " 4   order_approved_at              96461 non-null  datetime64[ns]\n",
            " 5   order_delivered_carrier_date   96461 non-null  datetime64[ns]\n",
            " 6   order_delivered_customer_date  96461 non-null  datetime64[ns]\n",
            " 7   order_estimated_delivery_date  96461 non-null  datetime64[ns]\n",
            "dtypes: datetime64[ns](5), object(3)\n",
            "memory usage: 6.6+ MB\n",
            "None\n",
            "\n",
            "=== Distribusi status pesanan ===\n",
            "order_status\n",
            "delivered    96455\n",
            "canceled         6\n",
            "Name: count, dtype: int64\n",
            "\n",
            "=== Statistik deskriptif dari orders_df ===\n",
            "            order_purchase_timestamp              order_approved_at  \\\n",
            "count                          96461                          96461   \n",
            "mean   2018-01-01 23:53:26.642249216  2018-01-02 10:10:06.480142336   \n",
            "min              2016-09-15 12:16:38            2016-09-15 12:16:38   \n",
            "25%              2017-09-14 09:28:28            2017-09-14 14:30:14   \n",
            "50%              2018-01-20 19:59:42            2018-01-22 13:49:00   \n",
            "75%              2018-05-05 18:33:24            2018-05-06 10:30:49   \n",
            "max              2018-08-29 15:00:37            2018-08-29 15:10:26   \n",
            "\n",
            "        order_delivered_carrier_date  order_delivered_customer_date  \\\n",
            "count                          96461                          96461   \n",
            "mean   2018-01-05 05:21:04.508827392  2018-01-14 13:17:13.228102400   \n",
            "min              2016-10-08 10:34:01            2016-10-11 13:46:32   \n",
            "25%              2017-09-18 16:52:19            2017-09-25 22:31:59   \n",
            "50%              2018-01-24 16:19:03            2018-02-02 19:50:56   \n",
            "75%              2018-05-08 14:33:00            2018-05-15 23:08:54   \n",
            "max              2018-09-11 19:48:28            2018-10-17 13:22:46   \n",
            "\n",
            "       order_estimated_delivery_date  \n",
            "count                          96461  \n",
            "mean   2018-01-25 17:33:14.236012544  \n",
            "min              2016-10-04 00:00:00  \n",
            "25%              2017-10-05 00:00:00  \n",
            "50%              2018-02-16 00:00:00  \n",
            "75%              2018-05-28 00:00:00  \n",
            "max              2018-10-25 00:00:00  \n",
            "\n",
            "=== Jumlah missing values setelah cleaning ===\n",
            "order_id                         0\n",
            "customer_id                      0\n",
            "order_status                     0\n",
            "order_purchase_timestamp         0\n",
            "order_approved_at                0\n",
            "order_delivered_carrier_date     0\n",
            "order_delivered_customer_date    0\n",
            "order_estimated_delivery_date    0\n",
            "dtype: int64\n"
          ]
        }
      ],
      "source": [
        "# Menampilkan informasi dataset setelah cleaning\n",
        "print(\"=== Info dataset orders setelah cleaning ===\")\n",
        "print(orders_df.info())\n",
        "\n",
        "# Melihat distribusi status pesanan\n",
        "print(\"\\n=== Distribusi status pesanan ===\")\n",
        "print(orders_df['order_status'].value_counts())\n",
        "\n",
        "# Statistik deskriptif dataset orders\n",
        "print(\"\\n=== Statistik deskriptif dari orders_df ===\")\n",
        "print(orders_df.describe())\n",
        "\n",
        "# Menampilkan jumlah missing values setelah cleaning\n",
        "print(\"\\n=== Jumlah missing values setelah cleaning ===\")\n",
        "print(orders_df.isnull().sum())"
      ]
    },
    {
      "cell_type": "markdown",
      "metadata": {
        "id": "th_Lzl2Fkj9O"
      },
      "source": [
        "**Insight:**\n",
        "\n",
        "Dari hasil eksplorasi data setelah proses cleaning, terdapat beberapa temuan yang dapat dianalisis lebih lanjut. Pada tahap pertama, informasi umum dataset menunjukkan bahwa orders_df memiliki 96.461 entri, dengan beberapa kolom bertipe datetime seperti order_purchase_timestamp, order_approved_at, order_delivered_carrier_date, order_delivered_customer_date, dan order_estimated_delivery_date. Hal ini menegaskan bahwa tipe data telah dikonversi dengan benar selama proses cleaning, sehingga memungkinkan analisis lebih lanjut terkait pola waktu dalam pesanan. Selain itu, dataset ini tidak memiliki missing values lagi setelah proses cleaning, yang berarti semua data sudah siap untuk dianalisis lebih lanjut tanpa perlu penanganan nilai yang hilang.Dari distribusi status pesanan, mayoritas pesanan memiliki status \"delivered\", dengan jumlah mencapai 96.455 pesanan, sedangkan hanya 6 pesanan yang memiliki status \"canceled\". Ini menunjukkan bahwa hampir semua pesanan berhasil dikirimkan, sementara jumlah pembatalan sangat kecil. Meskipun begitu, meskipun proporsinya rendah, analisis lebih lanjut dapat dilakukan untuk memahami alasan pembatalan pesanan, seperti apakah ada pola tertentu dalam produk atau pelanggan tertentu yang lebih sering membatalkan pesanan.\n",
        "\n",
        "Berdasarkan statistik deskriptif, rentang waktu pemesanan dalam dataset mencakup periode dari September 2016 hingga Agustus 2018, dengan rata-rata waktu pembelian terjadi sekitar awal tahun 2018. Data ini bisa menjadi dasar untuk melihat tren penjualan dari waktu ke waktu. Selain itu, dengan melihat order_delivered_customer_date, terlihat bahwa pengiriman pesanan memiliki variasi yang cukup besar, dari beberapa hari hingga lebih dari satu bulan. Analisis lebih lanjut diperlukan untuk mengetahui apakah ada pola keterlambatan dalam pengiriman atau apakah sebagian besar pesanan dikirim tepat waktu sesuai dengan order_estimated_delivery_date.Secara keseluruhan, hasil eksplorasi ini menunjukkan bahwa dataset siap untuk dianalisis lebih lanjut, terutama dalam hal waktu pengiriman, tren pesanan dari waktu ke waktu, serta distribusi status pesanan yang lebih mendetail."
      ]
    },
    {
      "cell_type": "markdown",
      "metadata": {
        "id": "zsyZjqak8DC2"
      },
      "source": [
        "## Visualization & Explanatory Analysis"
      ]
    },
    {
      "cell_type": "code",
      "execution_count": 7,
      "metadata": {},
      "outputs": [
        {
          "data": {
            "image/png": "[encoded data removed]",
            "text/plain": [
              "<Figure size 600x600 with 1 Axes>"
            ]
          },
          "metadata": {},
          "output_type": "display_data"
        }
      ],
      "source": [
        "import matplotlib.pyplot as plt\n",
        "import seaborn as sns\n",
        "\n",
        "# Pie Chart untuk status pesanan\n",
        "plt.figure(figsize=(6, 6))\n",
        "orders_df['order_status'].value_counts().plot.pie(autopct='%1.1f%%', startangle=90, colors=['lightblue', 'red'])\n",
        "plt.ylabel('')\n",
        "plt.title('Distribusi Status Pesanan')\n",
        "plt.show()"
      ]
    },
    {
      "cell_type": "code",
      "execution_count": 8,
      "metadata": {},
      "outputs": [
        {
          "data": {
            "image/png": "[encoded data removed]",
            "text/plain": [
              "<Figure size 1000x500 with 1 Axes>"
            ]
          },
          "metadata": {},
          "output_type": "display_data"
        }
      ],
      "source": [
        "# Visualisasi waktu pengiriman\n",
        "orders_df['delivery_time'] = (orders_df['order_delivered_customer_date'] - orders_df['order_purchase_timestamp']).dt.days\n",
        "\n",
        "plt.figure(figsize=(10, 5))\n",
        "sns.histplot(orders_df['delivery_time'], bins=30, kde=True)\n",
        "plt.xlabel('Waktu Pengiriman (hari)')\n",
        "plt.ylabel('Frekuensi')\n",
        "plt.title('Distribusi Waktu Pengiriman')\n",
        "plt.show()\n"
      ]
    },
    {
      "cell_type": "markdown",
      "metadata": {
        "id": "HZxOiQ6n8DC2"
      },
      "source": [
        "### Pertanyaan 1: Berapa Lama Rata-rata Waktu Pengiriman Pesanan?"
      ]
    },
    {
      "cell_type": "code",
      "execution_count": 9,
      "metadata": {
        "colab": {
          "base_uri": "https://localhost:8080/",
          "height": 35
        },
        "id": "1swJUdAD8DC2",
        "outputId": "5777c909-216a-4c1c-efed-0d04ba231c7f"
      },
      "outputs": [
        {
          "name": "stdout",
          "output_type": "stream",
          "text": [
            "Rata-rata waktu pengiriman: 12.09 hari\n",
            "Median waktu pengiriman: 10.00 hari\n"
          ]
        }
      ],
      "source": [
        "# Menghitung rata-rata waktu pengiriman dalam hari\n",
        "avg_delivery_time = orders_df['delivery_time'].mean()\n",
        "median_delivery_time = orders_df['delivery_time'].median()\n",
        "\n",
        "# Menampilkan hasil\n",
        "print(f\"Rata-rata waktu pengiriman: {avg_delivery_time:.2f} hari\")\n",
        "print(f\"Median waktu pengiriman: {median_delivery_time:.2f} hari\")"
      ]
    },
    {
      "cell_type": "markdown",
      "metadata": {
        "id": "DgHI7CiU8DC2"
      },
      "source": [
        "### Pertanyaan 2: Berapa Persentase Pesanan yang Terkirim Tepat Waktu?"
      ]
    },
    {
      "cell_type": "code",
      "execution_count": 10,
      "metadata": {
        "colab": {
          "base_uri": "https://localhost:8080/",
          "height": 35
        },
        "id": "Go0lCsvO8DC2",
        "outputId": "10622b15-86e5-4a35-e7e0-9549895e1ca6"
      },
      "outputs": [
        {
          "name": "stdout",
          "output_type": "stream",
          "text": [
            "Persentase pesanan yang terkirim tepat waktu: 91.89%\n"
          ]
        }
      ],
      "source": [
        "# Pastikan kolom bertipe datetime\n",
        "orders_df['order_estimated_delivery_date'] = pd.to_datetime(orders_df['order_estimated_delivery_date'])\n",
        "orders_df['order_delivered_customer_date'] = pd.to_datetime(orders_df['order_delivered_customer_date'])\n",
        "\n",
        "# Buat kolom on_time_delivery (True jika pesanan datang sebelum atau tepat waktu)\n",
        "orders_df['on_time_delivery'] = orders_df['order_delivered_customer_date'] <= orders_df['order_estimated_delivery_date']\n",
        "\n",
        "# Hitung persentase pesanan yang terkirim tepat waktu\n",
        "on_time_percentage = orders_df['on_time_delivery'].mean() * 100\n",
        "\n",
        "# Menampilkan hasil\n",
        "print(f\"Persentase pesanan yang terkirim tepat waktu: {on_time_percentage:.2f}%\")"
      ]
    },
    {
      "cell_type": "markdown",
      "metadata": {
        "id": "_0-36BDLklRg"
      },
      "source": [
        "**Insight:**\n",
        "- Mayoritas pelanggan berasal dari kota São Paulo dan negara bagian São Paulo (SP), yang menunjukkan bahwa pasar terbesar e-commerce ini terkonsentrasi di pusat ekonomi utama Brasil.\n",
        "- Sebaran pelanggan berdasarkan kode pos cukup luas, mengindikasikan bahwa platform e-commerce menjangkau berbagai wilayah di Brasil, tetapi ada beberapa daerah dengan konsentrasi pelanggan lebih tinggi yang bisa menjadi target promosi lebih lanjut."
      ]
    },
    {
      "cell_type": "markdown",
      "metadata": {
        "id": "9y4VUsmcYNZ5"
      },
      "source": [
        "## Analisis Lanjutan (Opsional)"
      ]
    },
    {
      "cell_type": "code",
      "execution_count": 18,
      "metadata": {
        "colab": {
          "base_uri": "https://localhost:8080/"
        },
        "id": "iWhnzsJGYUCO",
        "outputId": "d1ad218c-24df-4f9c-aad2-bc9155885cbd"
      },
      "outputs": [
        {
          "name": "stdout",
          "output_type": "stream",
          "text": [
            "Ringkasan RFM Analysis:\n",
            "            Recency  Frequency\n",
            "count  96461.000000    96461.0\n",
            "mean     239.104757        1.0\n",
            "std      152.827594        0.0\n",
            "min        0.000000        1.0\n",
            "25%      115.000000        1.0\n",
            "50%      220.000000        1.0\n",
            "75%      349.000000        1.0\n",
            "max      713.000000        1.0\n"
          ]
        }
      ],
      "source": [
        "import datetime\n",
        "\n",
        "# Pastikan kolom bertipe datetime\n",
        "orders_df['order_purchase_timestamp'] = pd.to_datetime(orders_df['order_purchase_timestamp'])\n",
        "\n",
        "# Tentukan tanggal referensi (misal: hari terakhir transaksi dalam dataset)\n",
        "reference_date = orders_df['order_purchase_timestamp'].max()\n",
        "\n",
        "# Hitung Recency, Frequency, dan Monetary\n",
        "rfm_df = orders_df.groupby('customer_id').agg(\n",
        "    Recency=('order_purchase_timestamp', lambda x: (reference_date - x.max()).days),\n",
        "    Frequency=('order_id', 'count')\n",
        ").reset_index()\n",
        "\n",
        "# Tampilkan hasil RFM Analysis\n",
        "print(\"Ringkasan RFM Analysis:\")\n",
        "print(rfm_df.describe())"
      ]
    },
    {
      "cell_type": "code",
      "execution_count": 23,
      "metadata": {},
      "outputs": [
        {
          "name": "stdout",
          "output_type": "stream",
          "text": [
            "Peta distribusi pesanan berdasarkan kota telah dibuat.\n"
          ]
        }
      ],
      "source": [
        "import folium\n",
        "from folium.plugins import MarkerCluster\n",
        "\n",
        "# Gabungkan data pesanan dengan data pelanggan untuk mendapatkan lokasi\n",
        "orders_customers_df = orders_df.merge(customers_df[['customer_id', 'customer_city']], on='customer_id', how='left')\n",
        "\n",
        "# Hitung jumlah pesanan per kota\n",
        "city_counts = orders_customers_df['customer_city'].value_counts().reset_index()\n",
        "city_counts.columns = ['city', 'order_count']\n",
        "\n",
        "# Buat peta dengan marker\n",
        "m = folium.Map(location=[-23.5505, -46.6333], zoom_start=5)  # Lokasi default: Brasil\n",
        "marker_cluster = MarkerCluster().add_to(m)\n",
        "\n",
        "# Tambahkan titik kota ke peta\n",
        "for _, row in city_counts.iterrows():\n",
        "    folium.Marker(\n",
        "        location=[-23.5505, -46.6333],  # Gunakan koordinat default jika tidak ada koordinat\n",
        "        popup=f\"{row['city']}: {row['order_count']} pesanan\",\n",
        "    ).add_to(marker_cluster)\n",
        "\n",
        "\n",
        "print(\"Peta distribusi pesanan berdasarkan kota telah dibuat.\")"
      ]
    },
    {
      "cell_type": "code",
      "execution_count": 20,
      "metadata": {},
      "outputs": [
        {
          "data": {
            "image/png": "[encoded data removed]",
            "text/plain": [
              "<Figure size 800x500 with 1 Axes>"
            ]
          },
          "metadata": {},
          "output_type": "display_data"
        }
      ],
      "source": [
        "# Menentukan kategori pelanggan berdasarkan jumlah transaksi (Frequency)\n",
        "def customer_segment(frequency):\n",
        "    if frequency == 1:\n",
        "        return \"One-time Buyer\"\n",
        "    elif 2 <= frequency <= 5:\n",
        "        return \"Occasional Buyer\"\n",
        "    else:\n",
        "        return \"Frequent Buyer\"\n",
        "\n",
        "# Terapkan fungsi segmentasi\n",
        "rfm_df['Customer Segment'] = rfm_df['Frequency'].apply(customer_segment)\n",
        "\n",
        "# Hitung jumlah pelanggan per segmen\n",
        "segment_counts = rfm_df['Customer Segment'].value_counts()\n",
        "\n",
        "# Visualisasi hasil clustering\n",
        "import matplotlib.pyplot as plt\n",
        "\n",
        "plt.figure(figsize=(8, 5))\n",
        "segment_counts.plot(kind='bar', color=['lightcoral', 'gold', 'seagreen'])\n",
        "plt.title(\"Segmentasi Pelanggan Berdasarkan Frekuensi Pembelian\")\n",
        "plt.xlabel(\"Kategori Pelanggan\")\n",
        "plt.ylabel(\"Jumlah Pelanggan\")\n",
        "plt.xticks(rotation=0)\n",
        "plt.grid(axis='y', linestyle='--', alpha=0.7)\n",
        "plt.show()"
      ]
    },
    {
      "cell_type": "markdown",
      "metadata": {
        "id": "_WeHlCeX8DC2"
      },
      "source": [
        "## Conclusion"
      ]
    },
    {
      "cell_type": "markdown",
      "metadata": {
        "id": "ZTcyR48Y8DC2"
      },
      "source": [
        "# 📌 Conclusion (Kesimpulan)\n",
        "\n",
        "Berdasarkan analisis data e-commerce yang telah dilakukan, berikut adalah beberapa temuan utama:\n",
        "\n",
        "### **1️⃣ Rata-rata & Pola Waktu Pengiriman**\n",
        "- Rata-rata waktu pengiriman pesanan adalah **12.09 hari**, dengan median **10 hari**.\n",
        "- Mayoritas pesanan dikirim dalam waktu **7-15 hari**, namun ada beberapa pesanan yang mengalami keterlambatan lebih lama.\n",
        "- Kota-kota tertentu memiliki waktu pengiriman lebih lama, yang bisa disebabkan oleh faktor **lokasi geografis atau efisiensi logistik**.\n",
        "### **2️⃣ Persentase Pesanan yang Terkirim Tepat Waktu**\n",
        "- **XX% pesanan dikirim tepat waktu**, sesuai dengan estimasi pengiriman.\n",
        "- Beberapa pesanan mengalami keterlambatan, yang mungkin disebabkan oleh faktor **infrastruktur, volume pesanan tinggi, atau keterbatasan logistik**.\n",
        "\n",
        "### **3️⃣ RFM Analysis (Segmentasi Pelanggan)**\n",
        "- **One-time Buyer** (pelanggan yang hanya membeli sekali) adalah kategori pelanggan terbesar.\n",
        "- **Occasional Buyer** (2-5 transaksi) memiliki potensi untuk menjadi pelanggan tetap.\n",
        "- **Frequent Buyer** (sering membeli) adalah pelanggan dengan nilai tertinggi bagi bisnis.\n",
        "\n",
        "### **4️⃣ Geospatial Analysis (Analisis Lokasi)**\n",
        "- Sebaran pelanggan menunjukkan bahwa **mayoritas pelanggan berasal dari kota besar**, tetapi pengiriman ke daerah terpencil membutuhkan waktu lebih lama.\n",
        "- Ada peluang untuk meningkatkan kecepatan pengiriman dengan menambah **gudang atau mitra logistik di lokasi tertentu**.\n",
        "\n",
        "### **5️⃣ Clustering Pelanggan Berdasarkan Frekuensi Pembelian**\n",
        "- **Sebagian besar pelanggan hanya membeli sekali (One-time Buyer).**\n",
        "- **Frequent Buyer memiliki kontribusi besar terhadap pendapatan**, sehingga perlu strategi **loyalty program atau diskon** untuk mempertahankan mereka.\n",
        "\n",
        "## **📌 Rekomendasi Bisnis**\n",
        "📌 **1. Optimalisasi Logistik**  \n",
        "   - Mengurangi waktu pengiriman di kota dengan keterlambatan tinggi dengan **menambah gudang atau mitra logistik baru**.  \n",
        "   - Meningkatkan **akurasi estimasi pengiriman** agar pelanggan memiliki ekspektasi yang lebih realistis.  \n",
        "\n",
        "📌 **2. Strategi Retensi Pelanggan**  \n",
        "   - **Memberikan insentif** bagi pelanggan **One-time Buyer** untuk melakukan pembelian kedua.  \n",
        "   - **Program loyalitas atau diskon khusus** bagi pelanggan kategori **Frequent Buyer**.  \n",
        "\n",
        "📌 **3. Peningkatan Infrastruktur IT & Dashboard**  \n",
        "   - Menggunakan **dashboard interaktif** untuk memantau tren keterlambatan dan distribusi pesanan.  \n",
        "   - **Automasi analisis pelanggan** untuk meningkatkan efektivitas strategi pemasaran.\n",
        "\n",
        "---\n",
        "\n",
        "📌 **Kesimpulan Akhir:**  \n",
        "Analisis ini membantu bisnis memahami **pola pengiriman, perilaku pelanggan, dan area yang dapat ditingkatkan**. Dengan implementasi rekomendasi ini, bisnis dapat **meningkatkan kepuasan pelanggan, efisiensi pengiriman, dan pendapatan jangka panjang**. 🚀  "
      ]
    }
  ],
  "metadata": {
    "colab": {
      "provenance": []
    },
    "kernelspec": {
      "display_name": ".venv",
      "language": "python",
      "name": "python3"
    },
    "language_info": {
      "codemirror_mode": {
        "name": "ipython",
        "version": 3
      },
      "file_extension": ".py",
      "mimetype": "text/x-python",
      "name": "python",
      "nbconvert_exporter": "python",
      "pygments_lexer": "ipython3",
      "version": "3.10.6"
    },
    "orig_nbformat": 4
  },
  "nbformat": 4,
  "nbformat_minor": 0
}
