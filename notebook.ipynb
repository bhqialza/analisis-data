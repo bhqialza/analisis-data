{
  "cells": [
    {
      "cell_type": "markdown",
      "metadata": {
        "id": "H9wADwK78DCz"
      },
      "source": [
        "# Proyek Analisis Data: [E-Commerce Public Dataset]\n",
        "- **Nama:** [M. Baihaqi Alza]\n",
        "- **Email:** [baihaqialza1289@gmail.com]\n",
        "- **ID Dicoding:** [bhqialza]"
      ]
    },
    {
      "cell_type": "markdown",
      "metadata": {
        "id": "eE0raob58DC0"
      },
      "source": [
        "## Menentukan Pertanyaan Bisnis"
      ]
    },
    {
      "cell_type": "markdown",
      "metadata": {
        "id": "GmQeQ5YF8DC0"
      },
      "source": [
        "- Produk Paling Banyak Dibeli dalam 6 Bulan Terakhir & Tren Pembelian?\n",
        "- Pola Pembelian Berdasarkan Kategori & Retensi Pelanggan?"
      ]
    },
    {
      "cell_type": "markdown",
      "metadata": {
        "id": "H-z4QGlO8DC1"
      },
      "source": [
        "## Import Semua Packages/Library yang Digunakan"
      ]
    },
    {
      "cell_type": "code",
      "execution_count": 58,
      "metadata": {
        "id": "FVYwaObI8DC1"
      },
      "outputs": [],
      "source": [
        "import pandas as pd\n",
        "import numpy as np\n",
        "import matplotlib.pyplot as plt\n",
        "import seaborn as sns\n",
        "from datetime import datetime\n",
        "import datetime as dt"
      ]
    },
    {
      "cell_type": "markdown",
      "metadata": {
        "id": "h_Sh51Xy8DC1"
      },
      "source": [
        "## Data Wrangling"
      ]
    },
    {
      "cell_type": "markdown",
      "metadata": {
        "id": "sXU2GBYu8DC1"
      },
      "source": [
        "### Gathering Data"
      ]
    },
    {
      "cell_type": "code",
      "execution_count": 59,
      "metadata": {
        "colab": {
          "base_uri": "https://localhost:8080/"
        },
        "id": "zjCBk1BI8DC1",
        "outputId": "92b5351f-2db0-4ea1-a53d-52e8899757ba"
      },
      "outputs": [],
      "source": [
        "# Path folder data\n",
        "data_path = \"data/\"\n",
        "\n",
        "# Load dataset\n",
        "df_orders = pd.read_csv(data_path + \"orders_dataset.csv\")\n",
        "df_order_items = pd.read_csv(data_path + \"order_items_dataset.csv\")\n",
        "df_products = pd.read_csv(data_path + \"products_dataset.csv\")\n",
        "df_customers = pd.read_csv(data_path + \"customers_dataset.csv\")\n",
        "df_sellers = pd.read_csv(data_path + \"sellers_dataset.csv\")\n",
        "df_payments = pd.read_csv(data_path + \"order_payments_dataset.csv\")\n",
        "df_reviews = pd.read_csv(data_path + \"order_reviews_dataset.csv\")\n",
        "df_geolocation = pd.read_csv(data_path + \"geolocation_dataset.csv\")\n",
        "df_category_translation = pd.read_csv(data_path + \"product_category_name_translation.csv\")"
      ]
    },
    {
      "cell_type": "code",
      "execution_count": 60,
      "metadata": {},
      "outputs": [
        {
          "data": {
            "text/html": [
              "<div>\n",
              "<style scoped>\n",
              "    .dataframe tbody tr th:only-of-type {\n",
              "        vertical-align: middle;\n",
              "    }\n",
              "\n",
              "    .dataframe tbody tr th {\n",
              "        vertical-align: top;\n",
              "    }\n",
              "\n",
              "    .dataframe thead th {\n",
              "        text-align: right;\n",
              "    }\n",
              "</style>\n",
              "<table border=\"1\" class=\"dataframe\">\n",
              "  <thead>\n",
              "    <tr style=\"text-align: right;\">\n",
              "      <th></th>\n",
              "      <th>order_id</th>\n",
              "      <th>customer_id</th>\n",
              "      <th>order_status</th>\n",
              "      <th>order_purchase_timestamp</th>\n",
              "      <th>order_approved_at</th>\n",
              "      <th>order_delivered_carrier_date</th>\n",
              "      <th>order_delivered_customer_date</th>\n",
              "      <th>order_estimated_delivery_date</th>\n",
              "    </tr>\n",
              "  </thead>\n",
              "  <tbody>\n",
              "    <tr>\n",
              "      <th>0</th>\n",
              "      <td>e481f51cbdc54678b7cc49136f2d6af7</td>\n",
              "      <td>9ef432eb6251297304e76186b10a928d</td>\n",
              "      <td>delivered</td>\n",
              "      <td>2017-10-02 10:56:33</td>\n",
              "      <td>2017-10-02 11:07:15</td>\n",
              "      <td>2017-10-04 19:55:00</td>\n",
              "      <td>2017-10-10 21:25:13</td>\n",
              "      <td>2017-10-18 00:00:00</td>\n",
              "    </tr>\n",
              "    <tr>\n",
              "      <th>1</th>\n",
              "      <td>53cdb2fc8bc7dce0b6741e2150273451</td>\n",
              "      <td>b0830fb4747a6c6d20dea0b8c802d7ef</td>\n",
              "      <td>delivered</td>\n",
              "      <td>2018-07-24 20:41:37</td>\n",
              "      <td>2018-07-26 03:24:27</td>\n",
              "      <td>2018-07-26 14:31:00</td>\n",
              "      <td>2018-08-07 15:27:45</td>\n",
              "      <td>2018-08-13 00:00:00</td>\n",
              "    </tr>\n",
              "    <tr>\n",
              "      <th>2</th>\n",
              "      <td>47770eb9100c2d0c44946d9cf07ec65d</td>\n",
              "      <td>41ce2a54c0b03bf3443c3d931a367089</td>\n",
              "      <td>delivered</td>\n",
              "      <td>2018-08-08 08:38:49</td>\n",
              "      <td>2018-08-08 08:55:23</td>\n",
              "      <td>2018-08-08 13:50:00</td>\n",
              "      <td>2018-08-17 18:06:29</td>\n",
              "      <td>2018-09-04 00:00:00</td>\n",
              "    </tr>\n",
              "    <tr>\n",
              "      <th>3</th>\n",
              "      <td>949d5b44dbf5de918fe9c16f97b45f8a</td>\n",
              "      <td>f88197465ea7920adcdbec7375364d82</td>\n",
              "      <td>delivered</td>\n",
              "      <td>2017-11-18 19:28:06</td>\n",
              "      <td>2017-11-18 19:45:59</td>\n",
              "      <td>2017-11-22 13:39:59</td>\n",
              "      <td>2017-12-02 00:28:42</td>\n",
              "      <td>2017-12-15 00:00:00</td>\n",
              "    </tr>\n",
              "    <tr>\n",
              "      <th>4</th>\n",
              "      <td>ad21c59c0840e6cb83a9ceb5573f8159</td>\n",
              "      <td>8ab97904e6daea8866dbdbc4fb7aad2c</td>\n",
              "      <td>delivered</td>\n",
              "      <td>2018-02-13 21:18:39</td>\n",
              "      <td>2018-02-13 22:20:29</td>\n",
              "      <td>2018-02-14 19:46:34</td>\n",
              "      <td>2018-02-16 18:17:02</td>\n",
              "      <td>2018-02-26 00:00:00</td>\n",
              "    </tr>\n",
              "  </tbody>\n",
              "</table>\n",
              "</div>"
            ],
            "text/plain": [
              "                           order_id                       customer_id  \\\n",
              "0  e481f51cbdc54678b7cc49136f2d6af7  9ef432eb6251297304e76186b10a928d   \n",
              "1  53cdb2fc8bc7dce0b6741e2150273451  b0830fb4747a6c6d20dea0b8c802d7ef   \n",
              "2  47770eb9100c2d0c44946d9cf07ec65d  41ce2a54c0b03bf3443c3d931a367089   \n",
              "3  949d5b44dbf5de918fe9c16f97b45f8a  f88197465ea7920adcdbec7375364d82   \n",
              "4  ad21c59c0840e6cb83a9ceb5573f8159  8ab97904e6daea8866dbdbc4fb7aad2c   \n",
              "\n",
              "  order_status order_purchase_timestamp    order_approved_at  \\\n",
              "0    delivered      2017-10-02 10:56:33  2017-10-02 11:07:15   \n",
              "1    delivered      2018-07-24 20:41:37  2018-07-26 03:24:27   \n",
              "2    delivered      2018-08-08 08:38:49  2018-08-08 08:55:23   \n",
              "3    delivered      2017-11-18 19:28:06  2017-11-18 19:45:59   \n",
              "4    delivered      2018-02-13 21:18:39  2018-02-13 22:20:29   \n",
              "\n",
              "  order_delivered_carrier_date order_delivered_customer_date  \\\n",
              "0          2017-10-04 19:55:00           2017-10-10 21:25:13   \n",
              "1          2018-07-26 14:31:00           2018-08-07 15:27:45   \n",
              "2          2018-08-08 13:50:00           2018-08-17 18:06:29   \n",
              "3          2017-11-22 13:39:59           2017-12-02 00:28:42   \n",
              "4          2018-02-14 19:46:34           2018-02-16 18:17:02   \n",
              "\n",
              "  order_estimated_delivery_date  \n",
              "0           2017-10-18 00:00:00  \n",
              "1           2018-08-13 00:00:00  \n",
              "2           2018-09-04 00:00:00  \n",
              "3           2017-12-15 00:00:00  \n",
              "4           2018-02-26 00:00:00  "
            ]
          },
          "execution_count": 60,
          "metadata": {},
          "output_type": "execute_result"
        }
      ],
      "source": [
        "# Menampilkan 5 baris pertama dari setiap dataset\n",
        "df_orders.head()"
      ]
    },
    {
      "cell_type": "code",
      "execution_count": 61,
      "metadata": {},
      "outputs": [
        {
          "data": {
            "text/html": [
              "<div>\n",
              "<style scoped>\n",
              "    .dataframe tbody tr th:only-of-type {\n",
              "        vertical-align: middle;\n",
              "    }\n",
              "\n",
              "    .dataframe tbody tr th {\n",
              "        vertical-align: top;\n",
              "    }\n",
              "\n",
              "    .dataframe thead th {\n",
              "        text-align: right;\n",
              "    }\n",
              "</style>\n",
              "<table border=\"1\" class=\"dataframe\">\n",
              "  <thead>\n",
              "    <tr style=\"text-align: right;\">\n",
              "      <th></th>\n",
              "      <th>order_id</th>\n",
              "      <th>order_item_id</th>\n",
              "      <th>product_id</th>\n",
              "      <th>seller_id</th>\n",
              "      <th>shipping_limit_date</th>\n",
              "      <th>price</th>\n",
              "      <th>freight_value</th>\n",
              "    </tr>\n",
              "  </thead>\n",
              "  <tbody>\n",
              "    <tr>\n",
              "      <th>0</th>\n",
              "      <td>00010242fe8c5a6d1ba2dd792cb16214</td>\n",
              "      <td>1</td>\n",
              "      <td>4244733e06e7ecb4970a6e2683c13e61</td>\n",
              "      <td>48436dade18ac8b2bce089ec2a041202</td>\n",
              "      <td>2017-09-19 09:45:35</td>\n",
              "      <td>58.90</td>\n",
              "      <td>13.29</td>\n",
              "    </tr>\n",
              "    <tr>\n",
              "      <th>1</th>\n",
              "      <td>00018f77f2f0320c557190d7a144bdd3</td>\n",
              "      <td>1</td>\n",
              "      <td>e5f2d52b802189ee658865ca93d83a8f</td>\n",
              "      <td>dd7ddc04e1b6c2c614352b383efe2d36</td>\n",
              "      <td>2017-05-03 11:05:13</td>\n",
              "      <td>239.90</td>\n",
              "      <td>19.93</td>\n",
              "    </tr>\n",
              "    <tr>\n",
              "      <th>2</th>\n",
              "      <td>000229ec398224ef6ca0657da4fc703e</td>\n",
              "      <td>1</td>\n",
              "      <td>c777355d18b72b67abbeef9df44fd0fd</td>\n",
              "      <td>5b51032eddd242adc84c38acab88f23d</td>\n",
              "      <td>2018-01-18 14:48:30</td>\n",
              "      <td>199.00</td>\n",
              "      <td>17.87</td>\n",
              "    </tr>\n",
              "    <tr>\n",
              "      <th>3</th>\n",
              "      <td>00024acbcdf0a6daa1e931b038114c75</td>\n",
              "      <td>1</td>\n",
              "      <td>7634da152a4610f1595efa32f14722fc</td>\n",
              "      <td>9d7a1d34a5052409006425275ba1c2b4</td>\n",
              "      <td>2018-08-15 10:10:18</td>\n",
              "      <td>12.99</td>\n",
              "      <td>12.79</td>\n",
              "    </tr>\n",
              "    <tr>\n",
              "      <th>4</th>\n",
              "      <td>00042b26cf59d7ce69dfabb4e55b4fd9</td>\n",
              "      <td>1</td>\n",
              "      <td>ac6c3623068f30de03045865e4e10089</td>\n",
              "      <td>df560393f3a51e74553ab94004ba5c87</td>\n",
              "      <td>2017-02-13 13:57:51</td>\n",
              "      <td>199.90</td>\n",
              "      <td>18.14</td>\n",
              "    </tr>\n",
              "  </tbody>\n",
              "</table>\n",
              "</div>"
            ],
            "text/plain": [
              "                           order_id  order_item_id  \\\n",
              "0  00010242fe8c5a6d1ba2dd792cb16214              1   \n",
              "1  00018f77f2f0320c557190d7a144bdd3              1   \n",
              "2  000229ec398224ef6ca0657da4fc703e              1   \n",
              "3  00024acbcdf0a6daa1e931b038114c75              1   \n",
              "4  00042b26cf59d7ce69dfabb4e55b4fd9              1   \n",
              "\n",
              "                         product_id                         seller_id  \\\n",
              "0  4244733e06e7ecb4970a6e2683c13e61  48436dade18ac8b2bce089ec2a041202   \n",
              "1  e5f2d52b802189ee658865ca93d83a8f  dd7ddc04e1b6c2c614352b383efe2d36   \n",
              "2  c777355d18b72b67abbeef9df44fd0fd  5b51032eddd242adc84c38acab88f23d   \n",
              "3  7634da152a4610f1595efa32f14722fc  9d7a1d34a5052409006425275ba1c2b4   \n",
              "4  ac6c3623068f30de03045865e4e10089  df560393f3a51e74553ab94004ba5c87   \n",
              "\n",
              "   shipping_limit_date   price  freight_value  \n",
              "0  2017-09-19 09:45:35   58.90          13.29  \n",
              "1  2017-05-03 11:05:13  239.90          19.93  \n",
              "2  2018-01-18 14:48:30  199.00          17.87  \n",
              "3  2018-08-15 10:10:18   12.99          12.79  \n",
              "4  2017-02-13 13:57:51  199.90          18.14  "
            ]
          },
          "execution_count": 61,
          "metadata": {},
          "output_type": "execute_result"
        }
      ],
      "source": [
        "df_order_items.head()"
      ]
    },
    {
      "cell_type": "code",
      "execution_count": 62,
      "metadata": {},
      "outputs": [
        {
          "data": {
            "text/html": [
              "<div>\n",
              "<style scoped>\n",
              "    .dataframe tbody tr th:only-of-type {\n",
              "        vertical-align: middle;\n",
              "    }\n",
              "\n",
              "    .dataframe tbody tr th {\n",
              "        vertical-align: top;\n",
              "    }\n",
              "\n",
              "    .dataframe thead th {\n",
              "        text-align: right;\n",
              "    }\n",
              "</style>\n",
              "<table border=\"1\" class=\"dataframe\">\n",
              "  <thead>\n",
              "    <tr style=\"text-align: right;\">\n",
              "      <th></th>\n",
              "      <th>product_id</th>\n",
              "      <th>product_category_name</th>\n",
              "      <th>product_name_lenght</th>\n",
              "      <th>product_description_lenght</th>\n",
              "      <th>product_photos_qty</th>\n",
              "      <th>product_weight_g</th>\n",
              "      <th>product_length_cm</th>\n",
              "      <th>product_height_cm</th>\n",
              "      <th>product_width_cm</th>\n",
              "    </tr>\n",
              "  </thead>\n",
              "  <tbody>\n",
              "    <tr>\n",
              "      <th>0</th>\n",
              "      <td>1e9e8ef04dbcff4541ed26657ea517e5</td>\n",
              "      <td>perfumaria</td>\n",
              "      <td>40.0</td>\n",
              "      <td>287.0</td>\n",
              "      <td>1.0</td>\n",
              "      <td>225.0</td>\n",
              "      <td>16.0</td>\n",
              "      <td>10.0</td>\n",
              "      <td>14.0</td>\n",
              "    </tr>\n",
              "    <tr>\n",
              "      <th>1</th>\n",
              "      <td>3aa071139cb16b67ca9e5dea641aaa2f</td>\n",
              "      <td>artes</td>\n",
              "      <td>44.0</td>\n",
              "      <td>276.0</td>\n",
              "      <td>1.0</td>\n",
              "      <td>1000.0</td>\n",
              "      <td>30.0</td>\n",
              "      <td>18.0</td>\n",
              "      <td>20.0</td>\n",
              "    </tr>\n",
              "    <tr>\n",
              "      <th>2</th>\n",
              "      <td>96bd76ec8810374ed1b65e291975717f</td>\n",
              "      <td>esporte_lazer</td>\n",
              "      <td>46.0</td>\n",
              "      <td>250.0</td>\n",
              "      <td>1.0</td>\n",
              "      <td>154.0</td>\n",
              "      <td>18.0</td>\n",
              "      <td>9.0</td>\n",
              "      <td>15.0</td>\n",
              "    </tr>\n",
              "    <tr>\n",
              "      <th>3</th>\n",
              "      <td>cef67bcfe19066a932b7673e239eb23d</td>\n",
              "      <td>bebes</td>\n",
              "      <td>27.0</td>\n",
              "      <td>261.0</td>\n",
              "      <td>1.0</td>\n",
              "      <td>371.0</td>\n",
              "      <td>26.0</td>\n",
              "      <td>4.0</td>\n",
              "      <td>26.0</td>\n",
              "    </tr>\n",
              "    <tr>\n",
              "      <th>4</th>\n",
              "      <td>9dc1a7de274444849c219cff195d0b71</td>\n",
              "      <td>utilidades_domesticas</td>\n",
              "      <td>37.0</td>\n",
              "      <td>402.0</td>\n",
              "      <td>4.0</td>\n",
              "      <td>625.0</td>\n",
              "      <td>20.0</td>\n",
              "      <td>17.0</td>\n",
              "      <td>13.0</td>\n",
              "    </tr>\n",
              "  </tbody>\n",
              "</table>\n",
              "</div>"
            ],
            "text/plain": [
              "                         product_id  product_category_name  \\\n",
              "0  1e9e8ef04dbcff4541ed26657ea517e5             perfumaria   \n",
              "1  3aa071139cb16b67ca9e5dea641aaa2f                  artes   \n",
              "2  96bd76ec8810374ed1b65e291975717f          esporte_lazer   \n",
              "3  cef67bcfe19066a932b7673e239eb23d                  bebes   \n",
              "4  9dc1a7de274444849c219cff195d0b71  utilidades_domesticas   \n",
              "\n",
              "   product_name_lenght  product_description_lenght  product_photos_qty  \\\n",
              "0                 40.0                       287.0                 1.0   \n",
              "1                 44.0                       276.0                 1.0   \n",
              "2                 46.0                       250.0                 1.0   \n",
              "3                 27.0                       261.0                 1.0   \n",
              "4                 37.0                       402.0                 4.0   \n",
              "\n",
              "   product_weight_g  product_length_cm  product_height_cm  product_width_cm  \n",
              "0             225.0               16.0               10.0              14.0  \n",
              "1            1000.0               30.0               18.0              20.0  \n",
              "2             154.0               18.0                9.0              15.0  \n",
              "3             371.0               26.0                4.0              26.0  \n",
              "4             625.0               20.0               17.0              13.0  "
            ]
          },
          "execution_count": 62,
          "metadata": {},
          "output_type": "execute_result"
        }
      ],
      "source": [
        "df_products.head()"
      ]
    },
    {
      "cell_type": "code",
      "execution_count": 63,
      "metadata": {},
      "outputs": [
        {
          "data": {
            "text/html": [
              "<div>\n",
              "<style scoped>\n",
              "    .dataframe tbody tr th:only-of-type {\n",
              "        vertical-align: middle;\n",
              "    }\n",
              "\n",
              "    .dataframe tbody tr th {\n",
              "        vertical-align: top;\n",
              "    }\n",
              "\n",
              "    .dataframe thead th {\n",
              "        text-align: right;\n",
              "    }\n",
              "</style>\n",
              "<table border=\"1\" class=\"dataframe\">\n",
              "  <thead>\n",
              "    <tr style=\"text-align: right;\">\n",
              "      <th></th>\n",
              "      <th>customer_id</th>\n",
              "      <th>customer_unique_id</th>\n",
              "      <th>customer_zip_code_prefix</th>\n",
              "      <th>customer_city</th>\n",
              "      <th>customer_state</th>\n",
              "    </tr>\n",
              "  </thead>\n",
              "  <tbody>\n",
              "    <tr>\n",
              "      <th>0</th>\n",
              "      <td>06b8999e2fba1a1fbc88172c00ba8bc7</td>\n",
              "      <td>861eff4711a542e4b93843c6dd7febb0</td>\n",
              "      <td>14409</td>\n",
              "      <td>franca</td>\n",
              "      <td>SP</td>\n",
              "    </tr>\n",
              "    <tr>\n",
              "      <th>1</th>\n",
              "      <td>18955e83d337fd6b2def6b18a428ac77</td>\n",
              "      <td>290c77bc529b7ac935b93aa66c333dc3</td>\n",
              "      <td>9790</td>\n",
              "      <td>sao bernardo do campo</td>\n",
              "      <td>SP</td>\n",
              "    </tr>\n",
              "    <tr>\n",
              "      <th>2</th>\n",
              "      <td>4e7b3e00288586ebd08712fdd0374a03</td>\n",
              "      <td>060e732b5b29e8181a18229c7b0b2b5e</td>\n",
              "      <td>1151</td>\n",
              "      <td>sao paulo</td>\n",
              "      <td>SP</td>\n",
              "    </tr>\n",
              "    <tr>\n",
              "      <th>3</th>\n",
              "      <td>b2b6027bc5c5109e529d4dc6358b12c3</td>\n",
              "      <td>259dac757896d24d7702b9acbbff3f3c</td>\n",
              "      <td>8775</td>\n",
              "      <td>mogi das cruzes</td>\n",
              "      <td>SP</td>\n",
              "    </tr>\n",
              "    <tr>\n",
              "      <th>4</th>\n",
              "      <td>4f2d8ab171c80ec8364f7c12e35b23ad</td>\n",
              "      <td>345ecd01c38d18a9036ed96c73b8d066</td>\n",
              "      <td>13056</td>\n",
              "      <td>campinas</td>\n",
              "      <td>SP</td>\n",
              "    </tr>\n",
              "  </tbody>\n",
              "</table>\n",
              "</div>"
            ],
            "text/plain": [
              "                        customer_id                customer_unique_id  \\\n",
              "0  06b8999e2fba1a1fbc88172c00ba8bc7  861eff4711a542e4b93843c6dd7febb0   \n",
              "1  18955e83d337fd6b2def6b18a428ac77  290c77bc529b7ac935b93aa66c333dc3   \n",
              "2  4e7b3e00288586ebd08712fdd0374a03  060e732b5b29e8181a18229c7b0b2b5e   \n",
              "3  b2b6027bc5c5109e529d4dc6358b12c3  259dac757896d24d7702b9acbbff3f3c   \n",
              "4  4f2d8ab171c80ec8364f7c12e35b23ad  345ecd01c38d18a9036ed96c73b8d066   \n",
              "\n",
              "   customer_zip_code_prefix          customer_city customer_state  \n",
              "0                     14409                 franca             SP  \n",
              "1                      9790  sao bernardo do campo             SP  \n",
              "2                      1151              sao paulo             SP  \n",
              "3                      8775        mogi das cruzes             SP  \n",
              "4                     13056               campinas             SP  "
            ]
          },
          "execution_count": 63,
          "metadata": {},
          "output_type": "execute_result"
        }
      ],
      "source": [
        "df_customers.head()"
      ]
    },
    {
      "cell_type": "code",
      "execution_count": 64,
      "metadata": {},
      "outputs": [
        {
          "data": {
            "text/html": [
              "<div>\n",
              "<style scoped>\n",
              "    .dataframe tbody tr th:only-of-type {\n",
              "        vertical-align: middle;\n",
              "    }\n",
              "\n",
              "    .dataframe tbody tr th {\n",
              "        vertical-align: top;\n",
              "    }\n",
              "\n",
              "    .dataframe thead th {\n",
              "        text-align: right;\n",
              "    }\n",
              "</style>\n",
              "<table border=\"1\" class=\"dataframe\">\n",
              "  <thead>\n",
              "    <tr style=\"text-align: right;\">\n",
              "      <th></th>\n",
              "      <th>seller_id</th>\n",
              "      <th>seller_zip_code_prefix</th>\n",
              "      <th>seller_city</th>\n",
              "      <th>seller_state</th>\n",
              "    </tr>\n",
              "  </thead>\n",
              "  <tbody>\n",
              "    <tr>\n",
              "      <th>0</th>\n",
              "      <td>3442f8959a84dea7ee197c632cb2df15</td>\n",
              "      <td>13023</td>\n",
              "      <td>campinas</td>\n",
              "      <td>SP</td>\n",
              "    </tr>\n",
              "    <tr>\n",
              "      <th>1</th>\n",
              "      <td>d1b65fc7debc3361ea86b5f14c68d2e2</td>\n",
              "      <td>13844</td>\n",
              "      <td>mogi guacu</td>\n",
              "      <td>SP</td>\n",
              "    </tr>\n",
              "    <tr>\n",
              "      <th>2</th>\n",
              "      <td>ce3ad9de960102d0677a81f5d0bb7b2d</td>\n",
              "      <td>20031</td>\n",
              "      <td>rio de janeiro</td>\n",
              "      <td>RJ</td>\n",
              "    </tr>\n",
              "    <tr>\n",
              "      <th>3</th>\n",
              "      <td>c0f3eea2e14555b6faeea3dd58c1b1c3</td>\n",
              "      <td>4195</td>\n",
              "      <td>sao paulo</td>\n",
              "      <td>SP</td>\n",
              "    </tr>\n",
              "    <tr>\n",
              "      <th>4</th>\n",
              "      <td>51a04a8a6bdcb23deccc82b0b80742cf</td>\n",
              "      <td>12914</td>\n",
              "      <td>braganca paulista</td>\n",
              "      <td>SP</td>\n",
              "    </tr>\n",
              "  </tbody>\n",
              "</table>\n",
              "</div>"
            ],
            "text/plain": [
              "                          seller_id  seller_zip_code_prefix  \\\n",
              "0  3442f8959a84dea7ee197c632cb2df15                   13023   \n",
              "1  d1b65fc7debc3361ea86b5f14c68d2e2                   13844   \n",
              "2  ce3ad9de960102d0677a81f5d0bb7b2d                   20031   \n",
              "3  c0f3eea2e14555b6faeea3dd58c1b1c3                    4195   \n",
              "4  51a04a8a6bdcb23deccc82b0b80742cf                   12914   \n",
              "\n",
              "         seller_city seller_state  \n",
              "0           campinas           SP  \n",
              "1         mogi guacu           SP  \n",
              "2     rio de janeiro           RJ  \n",
              "3          sao paulo           SP  \n",
              "4  braganca paulista           SP  "
            ]
          },
          "execution_count": 64,
          "metadata": {},
          "output_type": "execute_result"
        }
      ],
      "source": [
        "df_sellers.head()"
      ]
    },
    {
      "cell_type": "code",
      "execution_count": 65,
      "metadata": {},
      "outputs": [
        {
          "data": {
            "text/html": [
              "<div>\n",
              "<style scoped>\n",
              "    .dataframe tbody tr th:only-of-type {\n",
              "        vertical-align: middle;\n",
              "    }\n",
              "\n",
              "    .dataframe tbody tr th {\n",
              "        vertical-align: top;\n",
              "    }\n",
              "\n",
              "    .dataframe thead th {\n",
              "        text-align: right;\n",
              "    }\n",
              "</style>\n",
              "<table border=\"1\" class=\"dataframe\">\n",
              "  <thead>\n",
              "    <tr style=\"text-align: right;\">\n",
              "      <th></th>\n",
              "      <th>order_id</th>\n",
              "      <th>payment_sequential</th>\n",
              "      <th>payment_type</th>\n",
              "      <th>payment_installments</th>\n",
              "      <th>payment_value</th>\n",
              "    </tr>\n",
              "  </thead>\n",
              "  <tbody>\n",
              "    <tr>\n",
              "      <th>0</th>\n",
              "      <td>b81ef226f3fe1789b1e8b2acac839d17</td>\n",
              "      <td>1</td>\n",
              "      <td>credit_card</td>\n",
              "      <td>8</td>\n",
              "      <td>99.33</td>\n",
              "    </tr>\n",
              "    <tr>\n",
              "      <th>1</th>\n",
              "      <td>a9810da82917af2d9aefd1278f1dcfa0</td>\n",
              "      <td>1</td>\n",
              "      <td>credit_card</td>\n",
              "      <td>1</td>\n",
              "      <td>24.39</td>\n",
              "    </tr>\n",
              "    <tr>\n",
              "      <th>2</th>\n",
              "      <td>25e8ea4e93396b6fa0d3dd708e76c1bd</td>\n",
              "      <td>1</td>\n",
              "      <td>credit_card</td>\n",
              "      <td>1</td>\n",
              "      <td>65.71</td>\n",
              "    </tr>\n",
              "    <tr>\n",
              "      <th>3</th>\n",
              "      <td>ba78997921bbcdc1373bb41e913ab953</td>\n",
              "      <td>1</td>\n",
              "      <td>credit_card</td>\n",
              "      <td>8</td>\n",
              "      <td>107.78</td>\n",
              "    </tr>\n",
              "    <tr>\n",
              "      <th>4</th>\n",
              "      <td>42fdf880ba16b47b59251dd489d4441a</td>\n",
              "      <td>1</td>\n",
              "      <td>credit_card</td>\n",
              "      <td>2</td>\n",
              "      <td>128.45</td>\n",
              "    </tr>\n",
              "  </tbody>\n",
              "</table>\n",
              "</div>"
            ],
            "text/plain": [
              "                           order_id  payment_sequential payment_type  \\\n",
              "0  b81ef226f3fe1789b1e8b2acac839d17                   1  credit_card   \n",
              "1  a9810da82917af2d9aefd1278f1dcfa0                   1  credit_card   \n",
              "2  25e8ea4e93396b6fa0d3dd708e76c1bd                   1  credit_card   \n",
              "3  ba78997921bbcdc1373bb41e913ab953                   1  credit_card   \n",
              "4  42fdf880ba16b47b59251dd489d4441a                   1  credit_card   \n",
              "\n",
              "   payment_installments  payment_value  \n",
              "0                     8          99.33  \n",
              "1                     1          24.39  \n",
              "2                     1          65.71  \n",
              "3                     8         107.78  \n",
              "4                     2         128.45  "
            ]
          },
          "execution_count": 65,
          "metadata": {},
          "output_type": "execute_result"
        }
      ],
      "source": [
        "df_payments.head()"
      ]
    },
    {
      "cell_type": "code",
      "execution_count": 66,
      "metadata": {},
      "outputs": [
        {
          "data": {
            "text/html": [
              "<div>\n",
              "<style scoped>\n",
              "    .dataframe tbody tr th:only-of-type {\n",
              "        vertical-align: middle;\n",
              "    }\n",
              "\n",
              "    .dataframe tbody tr th {\n",
              "        vertical-align: top;\n",
              "    }\n",
              "\n",
              "    .dataframe thead th {\n",
              "        text-align: right;\n",
              "    }\n",
              "</style>\n",
              "<table border=\"1\" class=\"dataframe\">\n",
              "  <thead>\n",
              "    <tr style=\"text-align: right;\">\n",
              "      <th></th>\n",
              "      <th>review_id</th>\n",
              "      <th>order_id</th>\n",
              "      <th>review_score</th>\n",
              "      <th>review_comment_title</th>\n",
              "      <th>review_comment_message</th>\n",
              "      <th>review_creation_date</th>\n",
              "      <th>review_answer_timestamp</th>\n",
              "    </tr>\n",
              "  </thead>\n",
              "  <tbody>\n",
              "    <tr>\n",
              "      <th>0</th>\n",
              "      <td>7bc2406110b926393aa56f80a40eba40</td>\n",
              "      <td>73fc7af87114b39712e6da79b0a377eb</td>\n",
              "      <td>4</td>\n",
              "      <td>NaN</td>\n",
              "      <td>NaN</td>\n",
              "      <td>2018-01-18 00:00:00</td>\n",
              "      <td>2018-01-18 21:46:59</td>\n",
              "    </tr>\n",
              "    <tr>\n",
              "      <th>1</th>\n",
              "      <td>80e641a11e56f04c1ad469d5645fdfde</td>\n",
              "      <td>a548910a1c6147796b98fdf73dbeba33</td>\n",
              "      <td>5</td>\n",
              "      <td>NaN</td>\n",
              "      <td>NaN</td>\n",
              "      <td>2018-03-10 00:00:00</td>\n",
              "      <td>2018-03-11 03:05:13</td>\n",
              "    </tr>\n",
              "    <tr>\n",
              "      <th>2</th>\n",
              "      <td>228ce5500dc1d8e020d8d1322874b6f0</td>\n",
              "      <td>f9e4b658b201a9f2ecdecbb34bed034b</td>\n",
              "      <td>5</td>\n",
              "      <td>NaN</td>\n",
              "      <td>NaN</td>\n",
              "      <td>2018-02-17 00:00:00</td>\n",
              "      <td>2018-02-18 14:36:24</td>\n",
              "    </tr>\n",
              "    <tr>\n",
              "      <th>3</th>\n",
              "      <td>e64fb393e7b32834bb789ff8bb30750e</td>\n",
              "      <td>658677c97b385a9be170737859d3511b</td>\n",
              "      <td>5</td>\n",
              "      <td>NaN</td>\n",
              "      <td>Recebi bem antes do prazo estipulado.</td>\n",
              "      <td>2017-04-21 00:00:00</td>\n",
              "      <td>2017-04-21 22:02:06</td>\n",
              "    </tr>\n",
              "    <tr>\n",
              "      <th>4</th>\n",
              "      <td>f7c4243c7fe1938f181bec41a392bdeb</td>\n",
              "      <td>8e6bfb81e283fa7e4f11123a3fb894f1</td>\n",
              "      <td>5</td>\n",
              "      <td>NaN</td>\n",
              "      <td>Parabéns lojas lannister adorei comprar pela I...</td>\n",
              "      <td>2018-03-01 00:00:00</td>\n",
              "      <td>2018-03-02 10:26:53</td>\n",
              "    </tr>\n",
              "  </tbody>\n",
              "</table>\n",
              "</div>"
            ],
            "text/plain": [
              "                          review_id                          order_id  \\\n",
              "0  7bc2406110b926393aa56f80a40eba40  73fc7af87114b39712e6da79b0a377eb   \n",
              "1  80e641a11e56f04c1ad469d5645fdfde  a548910a1c6147796b98fdf73dbeba33   \n",
              "2  228ce5500dc1d8e020d8d1322874b6f0  f9e4b658b201a9f2ecdecbb34bed034b   \n",
              "3  e64fb393e7b32834bb789ff8bb30750e  658677c97b385a9be170737859d3511b   \n",
              "4  f7c4243c7fe1938f181bec41a392bdeb  8e6bfb81e283fa7e4f11123a3fb894f1   \n",
              "\n",
              "   review_score review_comment_title  \\\n",
              "0             4                  NaN   \n",
              "1             5                  NaN   \n",
              "2             5                  NaN   \n",
              "3             5                  NaN   \n",
              "4             5                  NaN   \n",
              "\n",
              "                              review_comment_message review_creation_date  \\\n",
              "0                                                NaN  2018-01-18 00:00:00   \n",
              "1                                                NaN  2018-03-10 00:00:00   \n",
              "2                                                NaN  2018-02-17 00:00:00   \n",
              "3              Recebi bem antes do prazo estipulado.  2017-04-21 00:00:00   \n",
              "4  Parabéns lojas lannister adorei comprar pela I...  2018-03-01 00:00:00   \n",
              "\n",
              "  review_answer_timestamp  \n",
              "0     2018-01-18 21:46:59  \n",
              "1     2018-03-11 03:05:13  \n",
              "2     2018-02-18 14:36:24  \n",
              "3     2017-04-21 22:02:06  \n",
              "4     2018-03-02 10:26:53  "
            ]
          },
          "execution_count": 66,
          "metadata": {},
          "output_type": "execute_result"
        }
      ],
      "source": [
        "df_reviews.head()"
      ]
    },
    {
      "cell_type": "code",
      "execution_count": 67,
      "metadata": {},
      "outputs": [
        {
          "data": {
            "text/html": [
              "<div>\n",
              "<style scoped>\n",
              "    .dataframe tbody tr th:only-of-type {\n",
              "        vertical-align: middle;\n",
              "    }\n",
              "\n",
              "    .dataframe tbody tr th {\n",
              "        vertical-align: top;\n",
              "    }\n",
              "\n",
              "    .dataframe thead th {\n",
              "        text-align: right;\n",
              "    }\n",
              "</style>\n",
              "<table border=\"1\" class=\"dataframe\">\n",
              "  <thead>\n",
              "    <tr style=\"text-align: right;\">\n",
              "      <th></th>\n",
              "      <th>geolocation_zip_code_prefix</th>\n",
              "      <th>geolocation_lat</th>\n",
              "      <th>geolocation_lng</th>\n",
              "      <th>geolocation_city</th>\n",
              "      <th>geolocation_state</th>\n",
              "    </tr>\n",
              "  </thead>\n",
              "  <tbody>\n",
              "    <tr>\n",
              "      <th>0</th>\n",
              "      <td>1037</td>\n",
              "      <td>-23.545621</td>\n",
              "      <td>-46.639292</td>\n",
              "      <td>sao paulo</td>\n",
              "      <td>SP</td>\n",
              "    </tr>\n",
              "    <tr>\n",
              "      <th>1</th>\n",
              "      <td>1046</td>\n",
              "      <td>-23.546081</td>\n",
              "      <td>-46.644820</td>\n",
              "      <td>sao paulo</td>\n",
              "      <td>SP</td>\n",
              "    </tr>\n",
              "    <tr>\n",
              "      <th>2</th>\n",
              "      <td>1046</td>\n",
              "      <td>-23.546129</td>\n",
              "      <td>-46.642951</td>\n",
              "      <td>sao paulo</td>\n",
              "      <td>SP</td>\n",
              "    </tr>\n",
              "    <tr>\n",
              "      <th>3</th>\n",
              "      <td>1041</td>\n",
              "      <td>-23.544392</td>\n",
              "      <td>-46.639499</td>\n",
              "      <td>sao paulo</td>\n",
              "      <td>SP</td>\n",
              "    </tr>\n",
              "    <tr>\n",
              "      <th>4</th>\n",
              "      <td>1035</td>\n",
              "      <td>-23.541578</td>\n",
              "      <td>-46.641607</td>\n",
              "      <td>sao paulo</td>\n",
              "      <td>SP</td>\n",
              "    </tr>\n",
              "  </tbody>\n",
              "</table>\n",
              "</div>"
            ],
            "text/plain": [
              "   geolocation_zip_code_prefix  geolocation_lat  geolocation_lng  \\\n",
              "0                         1037       -23.545621       -46.639292   \n",
              "1                         1046       -23.546081       -46.644820   \n",
              "2                         1046       -23.546129       -46.642951   \n",
              "3                         1041       -23.544392       -46.639499   \n",
              "4                         1035       -23.541578       -46.641607   \n",
              "\n",
              "  geolocation_city geolocation_state  \n",
              "0        sao paulo                SP  \n",
              "1        sao paulo                SP  \n",
              "2        sao paulo                SP  \n",
              "3        sao paulo                SP  \n",
              "4        sao paulo                SP  "
            ]
          },
          "execution_count": 67,
          "metadata": {},
          "output_type": "execute_result"
        }
      ],
      "source": [
        "df_geolocation.head()"
      ]
    },
    {
      "cell_type": "code",
      "execution_count": 68,
      "metadata": {},
      "outputs": [
        {
          "data": {
            "text/html": [
              "<div>\n",
              "<style scoped>\n",
              "    .dataframe tbody tr th:only-of-type {\n",
              "        vertical-align: middle;\n",
              "    }\n",
              "\n",
              "    .dataframe tbody tr th {\n",
              "        vertical-align: top;\n",
              "    }\n",
              "\n",
              "    .dataframe thead th {\n",
              "        text-align: right;\n",
              "    }\n",
              "</style>\n",
              "<table border=\"1\" class=\"dataframe\">\n",
              "  <thead>\n",
              "    <tr style=\"text-align: right;\">\n",
              "      <th></th>\n",
              "      <th>product_category_name</th>\n",
              "      <th>product_category_name_english</th>\n",
              "    </tr>\n",
              "  </thead>\n",
              "  <tbody>\n",
              "    <tr>\n",
              "      <th>0</th>\n",
              "      <td>beleza_saude</td>\n",
              "      <td>health_beauty</td>\n",
              "    </tr>\n",
              "    <tr>\n",
              "      <th>1</th>\n",
              "      <td>informatica_acessorios</td>\n",
              "      <td>computers_accessories</td>\n",
              "    </tr>\n",
              "    <tr>\n",
              "      <th>2</th>\n",
              "      <td>automotivo</td>\n",
              "      <td>auto</td>\n",
              "    </tr>\n",
              "    <tr>\n",
              "      <th>3</th>\n",
              "      <td>cama_mesa_banho</td>\n",
              "      <td>bed_bath_table</td>\n",
              "    </tr>\n",
              "    <tr>\n",
              "      <th>4</th>\n",
              "      <td>moveis_decoracao</td>\n",
              "      <td>furniture_decor</td>\n",
              "    </tr>\n",
              "  </tbody>\n",
              "</table>\n",
              "</div>"
            ],
            "text/plain": [
              "    product_category_name product_category_name_english\n",
              "0            beleza_saude                 health_beauty\n",
              "1  informatica_acessorios         computers_accessories\n",
              "2              automotivo                          auto\n",
              "3         cama_mesa_banho                bed_bath_table\n",
              "4        moveis_decoracao               furniture_decor"
            ]
          },
          "execution_count": 68,
          "metadata": {},
          "output_type": "execute_result"
        }
      ],
      "source": [
        "df_category_translation.head()"
      ]
    },
    {
      "cell_type": "markdown",
      "metadata": {
        "id": "MMi6xGaDkbCi"
      },
      "source": [
        "**Insight:**\n",
        "\n",
        "Pada tahap Gathering Data, dataset berhasil dimuat dengan struktur yang sesuai dengan kebutuhan analisis. Dataset customers memiliki 99.441 baris, yang menunjukkan bahwa jumlah pelanggan dalam sistem cukup besar dan dapat menjadi dasar analisis perilaku konsumen. Sementara itu, dataset geolocation memiliki lebih dari satu juta baris, menandakan bahwa data geospasial yang tersedia cukup detail untuk eksplorasi lebih lanjut terkait pola distribusi pelanggan dan wilayah transaksi. Ukuran dataset yang besar ini memungkinkan analisis yang lebih mendalam, tetapi juga menuntut optimasi dalam pengolahan data agar lebih efisien. Selain itu, keterkaitan antar dataset terlihat jelas. Customers dapat dihubungkan dengan orders melalui customer_id, sementara informasi pesanan bisa dikaitkan dengan detail transaksi di order_items dan payments berdasarkan order_id. Produk yang dijual juga dapat dikategorikan lebih lanjut dengan menggunakan product_category_name_translation, yang memungkinkan pemetaan kategori produk ke dalam bahasa yang lebih umum dipahami.\n",
        "Dengan data yang telah dikumpulkan ini, terdapat potensi analisis lebih lanjut, seperti melihat pola pesanan berdasarkan lokasi geografis pelanggan, memahami preferensi produk dari berbagai wilayah, serta mengevaluasi kepuasan pelanggan melalui order reviews. Selain itu, dataset sellers memberikan informasi tentang penjual, sehingga dapat digunakan untuk mengidentifikasi pola penjualan dan melihat apakah ada penjual tertentu yang mendominasi pasar. Namun, tantangan utama dalam proses analisis ini adalah besarnya ukuran dataset yang dapat mempengaruhi kinerja pemrosesan data. Oleh karena itu, diperlukan optimasi dalam pengolahan data, misalnya dengan indexing atau sampling jika diperlukan. Selain itu, perlu dilakukan pemeriksaan terhadap kemungkinan adanya missing values atau data duplikat agar hasil analisis lebih akurat dan dapat dipercaya."
      ]
    },
    {
      "cell_type": "markdown",
      "metadata": {
        "id": "FHSiqaZp8DC1"
      },
      "source": [
        "### Assessing Data"
      ]
    },
    {
      "cell_type": "code",
      "execution_count": 69,
      "metadata": {
        "colab": {
          "base_uri": "https://localhost:8080/",
          "height": 1000
        },
        "id": "ax-3tEjc9Cj1",
        "outputId": "121f7e63-ee03-41d5-e5df-0e3351aac86a"
      },
      "outputs": [
        {
          "name": "stdout",
          "output_type": "stream",
          "text": [
            "<class 'pandas.core.frame.DataFrame'>\n",
            "RangeIndex: 99441 entries, 0 to 99440\n",
            "Data columns (total 8 columns):\n",
            " #   Column                         Non-Null Count  Dtype \n",
            "---  ------                         --------------  ----- \n",
            " 0   order_id                       99441 non-null  object\n",
            " 1   customer_id                    99441 non-null  object\n",
            " 2   order_status                   99441 non-null  object\n",
            " 3   order_purchase_timestamp       99441 non-null  object\n",
            " 4   order_approved_at              99281 non-null  object\n",
            " 5   order_delivered_carrier_date   97658 non-null  object\n",
            " 6   order_delivered_customer_date  96476 non-null  object\n",
            " 7   order_estimated_delivery_date  99441 non-null  object\n",
            "dtypes: object(8)\n",
            "memory usage: 6.1+ MB\n"
          ]
        }
      ],
      "source": [
        "df_orders.info()"
      ]
    },
    {
      "cell_type": "code",
      "execution_count": 70,
      "metadata": {},
      "outputs": [
        {
          "name": "stdout",
          "output_type": "stream",
          "text": [
            "<class 'pandas.core.frame.DataFrame'>\n",
            "RangeIndex: 112650 entries, 0 to 112649\n",
            "Data columns (total 7 columns):\n",
            " #   Column               Non-Null Count   Dtype  \n",
            "---  ------               --------------   -----  \n",
            " 0   order_id             112650 non-null  object \n",
            " 1   order_item_id        112650 non-null  int64  \n",
            " 2   product_id           112650 non-null  object \n",
            " 3   seller_id            112650 non-null  object \n",
            " 4   shipping_limit_date  112650 non-null  object \n",
            " 5   price                112650 non-null  float64\n",
            " 6   freight_value        112650 non-null  float64\n",
            "dtypes: float64(2), int64(1), object(4)\n",
            "memory usage: 6.0+ MB\n"
          ]
        }
      ],
      "source": [
        "df_order_items.info()"
      ]
    },
    {
      "cell_type": "code",
      "execution_count": 71,
      "metadata": {},
      "outputs": [
        {
          "name": "stdout",
          "output_type": "stream",
          "text": [
            "<class 'pandas.core.frame.DataFrame'>\n",
            "RangeIndex: 32951 entries, 0 to 32950\n",
            "Data columns (total 9 columns):\n",
            " #   Column                      Non-Null Count  Dtype  \n",
            "---  ------                      --------------  -----  \n",
            " 0   product_id                  32951 non-null  object \n",
            " 1   product_category_name       32341 non-null  object \n",
            " 2   product_name_lenght         32341 non-null  float64\n",
            " 3   product_description_lenght  32341 non-null  float64\n",
            " 4   product_photos_qty          32341 non-null  float64\n",
            " 5   product_weight_g            32949 non-null  float64\n",
            " 6   product_length_cm           32949 non-null  float64\n",
            " 7   product_height_cm           32949 non-null  float64\n",
            " 8   product_width_cm            32949 non-null  float64\n",
            "dtypes: float64(7), object(2)\n",
            "memory usage: 2.3+ MB\n"
          ]
        }
      ],
      "source": [
        "df_products.info()"
      ]
    },
    {
      "cell_type": "code",
      "execution_count": 72,
      "metadata": {},
      "outputs": [
        {
          "name": "stdout",
          "output_type": "stream",
          "text": [
            "<class 'pandas.core.frame.DataFrame'>\n",
            "RangeIndex: 99441 entries, 0 to 99440\n",
            "Data columns (total 5 columns):\n",
            " #   Column                    Non-Null Count  Dtype \n",
            "---  ------                    --------------  ----- \n",
            " 0   customer_id               99441 non-null  object\n",
            " 1   customer_unique_id        99441 non-null  object\n",
            " 2   customer_zip_code_prefix  99441 non-null  int64 \n",
            " 3   customer_city             99441 non-null  object\n",
            " 4   customer_state            99441 non-null  object\n",
            "dtypes: int64(1), object(4)\n",
            "memory usage: 3.8+ MB\n"
          ]
        }
      ],
      "source": [
        "df_customers.info()"
      ]
    },
    {
      "cell_type": "code",
      "execution_count": 73,
      "metadata": {},
      "outputs": [
        {
          "name": "stdout",
          "output_type": "stream",
          "text": [
            "<class 'pandas.core.frame.DataFrame'>\n",
            "RangeIndex: 3095 entries, 0 to 3094\n",
            "Data columns (total 4 columns):\n",
            " #   Column                  Non-Null Count  Dtype \n",
            "---  ------                  --------------  ----- \n",
            " 0   seller_id               3095 non-null   object\n",
            " 1   seller_zip_code_prefix  3095 non-null   int64 \n",
            " 2   seller_city             3095 non-null   object\n",
            " 3   seller_state            3095 non-null   object\n",
            "dtypes: int64(1), object(3)\n",
            "memory usage: 96.8+ KB\n"
          ]
        }
      ],
      "source": [
        "df_sellers.info()"
      ]
    },
    {
      "cell_type": "code",
      "execution_count": 74,
      "metadata": {},
      "outputs": [
        {
          "name": "stdout",
          "output_type": "stream",
          "text": [
            "<class 'pandas.core.frame.DataFrame'>\n",
            "RangeIndex: 103886 entries, 0 to 103885\n",
            "Data columns (total 5 columns):\n",
            " #   Column                Non-Null Count   Dtype  \n",
            "---  ------                --------------   -----  \n",
            " 0   order_id              103886 non-null  object \n",
            " 1   payment_sequential    103886 non-null  int64  \n",
            " 2   payment_type          103886 non-null  object \n",
            " 3   payment_installments  103886 non-null  int64  \n",
            " 4   payment_value         103886 non-null  float64\n",
            "dtypes: float64(1), int64(2), object(2)\n",
            "memory usage: 4.0+ MB\n"
          ]
        }
      ],
      "source": [
        "df_payments.info()"
      ]
    },
    {
      "cell_type": "code",
      "execution_count": 75,
      "metadata": {},
      "outputs": [
        {
          "name": "stdout",
          "output_type": "stream",
          "text": [
            "<class 'pandas.core.frame.DataFrame'>\n",
            "RangeIndex: 99224 entries, 0 to 99223\n",
            "Data columns (total 7 columns):\n",
            " #   Column                   Non-Null Count  Dtype \n",
            "---  ------                   --------------  ----- \n",
            " 0   review_id                99224 non-null  object\n",
            " 1   order_id                 99224 non-null  object\n",
            " 2   review_score             99224 non-null  int64 \n",
            " 3   review_comment_title     11568 non-null  object\n",
            " 4   review_comment_message   40977 non-null  object\n",
            " 5   review_creation_date     99224 non-null  object\n",
            " 6   review_answer_timestamp  99224 non-null  object\n",
            "dtypes: int64(1), object(6)\n",
            "memory usage: 5.3+ MB\n"
          ]
        }
      ],
      "source": [
        "df_reviews.info()"
      ]
    },
    {
      "cell_type": "code",
      "execution_count": 76,
      "metadata": {},
      "outputs": [
        {
          "name": "stdout",
          "output_type": "stream",
          "text": [
            "<class 'pandas.core.frame.DataFrame'>\n",
            "RangeIndex: 1000163 entries, 0 to 1000162\n",
            "Data columns (total 5 columns):\n",
            " #   Column                       Non-Null Count    Dtype  \n",
            "---  ------                       --------------    -----  \n",
            " 0   geolocation_zip_code_prefix  1000163 non-null  int64  \n",
            " 1   geolocation_lat              1000163 non-null  float64\n",
            " 2   geolocation_lng              1000163 non-null  float64\n",
            " 3   geolocation_city             1000163 non-null  object \n",
            " 4   geolocation_state            1000163 non-null  object \n",
            "dtypes: float64(2), int64(1), object(2)\n",
            "memory usage: 38.2+ MB\n"
          ]
        }
      ],
      "source": [
        "df_geolocation.info()"
      ]
    },
    {
      "cell_type": "code",
      "execution_count": 77,
      "metadata": {},
      "outputs": [
        {
          "name": "stdout",
          "output_type": "stream",
          "text": [
            "<class 'pandas.core.frame.DataFrame'>\n",
            "RangeIndex: 71 entries, 0 to 70\n",
            "Data columns (total 2 columns):\n",
            " #   Column                         Non-Null Count  Dtype \n",
            "---  ------                         --------------  ----- \n",
            " 0   product_category_name          71 non-null     object\n",
            " 1   product_category_name_english  71 non-null     object\n",
            "dtypes: object(2)\n",
            "memory usage: 1.2+ KB\n"
          ]
        }
      ],
      "source": [
        "df_category_translation.info()"
      ]
    },
    {
      "cell_type": "code",
      "execution_count": 78,
      "metadata": {},
      "outputs": [
        {
          "data": {
            "text/plain": [
              "np.int64(0)"
            ]
          },
          "execution_count": 78,
          "metadata": {},
          "output_type": "execute_result"
        }
      ],
      "source": [
        "df_orders.duplicated().sum()"
      ]
    },
    {
      "cell_type": "code",
      "execution_count": 79,
      "metadata": {},
      "outputs": [
        {
          "data": {
            "text/plain": [
              "np.int64(0)"
            ]
          },
          "execution_count": 79,
          "metadata": {},
          "output_type": "execute_result"
        }
      ],
      "source": [
        "df_order_items.duplicated().sum()"
      ]
    },
    {
      "cell_type": "code",
      "execution_count": 80,
      "metadata": {},
      "outputs": [
        {
          "data": {
            "text/plain": [
              "np.int64(0)"
            ]
          },
          "execution_count": 80,
          "metadata": {},
          "output_type": "execute_result"
        }
      ],
      "source": [
        "df_products.duplicated().sum()"
      ]
    },
    {
      "cell_type": "code",
      "execution_count": 81,
      "metadata": {},
      "outputs": [
        {
          "data": {
            "text/plain": [
              "np.int64(0)"
            ]
          },
          "execution_count": 81,
          "metadata": {},
          "output_type": "execute_result"
        }
      ],
      "source": [
        "df_customers.duplicated().sum()"
      ]
    },
    {
      "cell_type": "code",
      "execution_count": 82,
      "metadata": {},
      "outputs": [
        {
          "data": {
            "text/plain": [
              "np.int64(0)"
            ]
          },
          "execution_count": 82,
          "metadata": {},
          "output_type": "execute_result"
        }
      ],
      "source": [
        "df_sellers.duplicated().sum()"
      ]
    },
    {
      "cell_type": "code",
      "execution_count": 83,
      "metadata": {},
      "outputs": [
        {
          "data": {
            "text/plain": [
              "np.int64(0)"
            ]
          },
          "execution_count": 83,
          "metadata": {},
          "output_type": "execute_result"
        }
      ],
      "source": [
        "df_payments.duplicated().sum()"
      ]
    },
    {
      "cell_type": "code",
      "execution_count": 84,
      "metadata": {},
      "outputs": [
        {
          "data": {
            "text/plain": [
              "np.int64(0)"
            ]
          },
          "execution_count": 84,
          "metadata": {},
          "output_type": "execute_result"
        }
      ],
      "source": [
        "df_reviews.duplicated().sum()"
      ]
    },
    {
      "cell_type": "code",
      "execution_count": 85,
      "metadata": {},
      "outputs": [
        {
          "data": {
            "text/plain": [
              "np.int64(261831)"
            ]
          },
          "execution_count": 85,
          "metadata": {},
          "output_type": "execute_result"
        }
      ],
      "source": [
        "df_geolocation.duplicated().sum()"
      ]
    },
    {
      "cell_type": "code",
      "execution_count": 86,
      "metadata": {},
      "outputs": [
        {
          "data": {
            "text/plain": [
              "np.int64(0)"
            ]
          },
          "execution_count": 86,
          "metadata": {},
          "output_type": "execute_result"
        }
      ],
      "source": [
        "df_category_translation.duplicated().sum()"
      ]
    },
    {
      "cell_type": "markdown",
      "metadata": {
        "id": "7dtxhAPrkhPL"
      },
      "source": [
        "**Insight:**\n",
        "\n",
        "Pada tahap Assessing Data, dilakukan pemeriksaan terhadap kualitas data untuk memastikan bahwa data yang akan digunakan dalam analisis berada dalam kondisi yang baik. Salah satu aspek yang diperiksa adalah keberadaan missing values, terutama pada dataset orders. Ditemukan bahwa beberapa kolom seperti order_approved_at, order_delivered_carrier_date, dan order_delivered_customer_date memiliki nilai yang hilang. Keberadaan missing values ini dapat mengindikasikan bahwa terdapat pesanan yang belum diproses lebih lanjut atau adanya kesalahan pencatatan. Oleh karena itu, diperlukan strategi yang tepat dalam menangani nilai yang hilang, baik dengan menghapus data, mengisi dengan estimasi, atau mempertahankannya sesuai dengan kebutuhan analisis.\n",
        "Selain itu, dilakukan juga pengecekan terhadap data duplikat untuk memastikan bahwa tidak terdapat entri yang berulang. Hasil pemeriksaan menunjukkan bahwa dataset seperti customers, orders, products, sellers, order_items, dan order_reviews tidak memiliki duplikasi. Namun, dataset geolocation ditemukan memiliki sebanyak 261.831 baris data yang bersifat duplikat. Hal ini mengindikasikan bahwa terdapat informasi lokasi yang berulang dan perlu dilakukan pembersihan agar tidak mempengaruhi analisis selanjutnya.\n",
        "Setelah dilakukan tahap asesmen ini, dapat disimpulkan bahwa data yang digunakan sudah cukup baik, namun masih memerlukan proses cleaning lebih lanjut, terutama dalam menghapus duplikasi pada dataset geolocation serta menangani missing values pada dataset orders. Hal ini dilakukan agar analisis yang akan dilakukan nantinya dapat berjalan dengan lebih akurat dan tidak terganggu oleh permasalahan dalam kualitas data."
      ]
    },
    {
      "cell_type": "markdown",
      "metadata": {
        "id": "EhN5R4hr8DC1"
      },
      "source": [
        "### Cleaning Data"
      ]
    },
    {
      "cell_type": "code",
      "execution_count": 87,
      "metadata": {
        "colab": {
          "base_uri": "https://localhost:8080/"
        },
        "id": "jVnYpprE9Evz",
        "outputId": "2fe2e04d-fb6f-4fb5-bb73-0b6134ad8f46"
      },
      "outputs": [
        {
          "data": {
            "text/plain": [
              "np.int64(0)"
            ]
          },
          "execution_count": 87,
          "metadata": {},
          "output_type": "execute_result"
        }
      ],
      "source": [
        "# Menghapus duplikasi pada dataset geolocation\n",
        "df_geolocation.drop_duplicates(inplace=True)\n",
        "\n",
        "# Memastikan tidak ada lagi duplikasi\n",
        "df_geolocation.duplicated().sum()"
      ]
    },
    {
      "cell_type": "code",
      "execution_count": 88,
      "metadata": {},
      "outputs": [
        {
          "data": {
            "text/html": [
              "<div>\n",
              "<style scoped>\n",
              "    .dataframe tbody tr th:only-of-type {\n",
              "        vertical-align: middle;\n",
              "    }\n",
              "\n",
              "    .dataframe tbody tr th {\n",
              "        vertical-align: top;\n",
              "    }\n",
              "\n",
              "    .dataframe thead th {\n",
              "        text-align: right;\n",
              "    }\n",
              "</style>\n",
              "<table border=\"1\" class=\"dataframe\">\n",
              "  <thead>\n",
              "    <tr style=\"text-align: right;\">\n",
              "      <th></th>\n",
              "      <th>order_id</th>\n",
              "      <th>customer_id</th>\n",
              "      <th>order_status</th>\n",
              "      <th>order_purchase_timestamp</th>\n",
              "      <th>order_approved_at</th>\n",
              "      <th>order_delivered_carrier_date</th>\n",
              "      <th>order_delivered_customer_date</th>\n",
              "      <th>order_estimated_delivery_date</th>\n",
              "    </tr>\n",
              "  </thead>\n",
              "  <tbody>\n",
              "    <tr>\n",
              "      <th>0</th>\n",
              "      <td>e481f51cbdc54678b7cc49136f2d6af7</td>\n",
              "      <td>9ef432eb6251297304e76186b10a928d</td>\n",
              "      <td>delivered</td>\n",
              "      <td>2017-10-02 10:56:33</td>\n",
              "      <td>2017-10-02 11:07:15</td>\n",
              "      <td>2017-10-04 19:55:00</td>\n",
              "      <td>2017-10-10 21:25:13</td>\n",
              "      <td>2017-10-18 00:00:00</td>\n",
              "    </tr>\n",
              "    <tr>\n",
              "      <th>1</th>\n",
              "      <td>53cdb2fc8bc7dce0b6741e2150273451</td>\n",
              "      <td>b0830fb4747a6c6d20dea0b8c802d7ef</td>\n",
              "      <td>delivered</td>\n",
              "      <td>2018-07-24 20:41:37</td>\n",
              "      <td>2018-07-26 03:24:27</td>\n",
              "      <td>2018-07-26 14:31:00</td>\n",
              "      <td>2018-08-07 15:27:45</td>\n",
              "      <td>2018-08-13 00:00:00</td>\n",
              "    </tr>\n",
              "    <tr>\n",
              "      <th>2</th>\n",
              "      <td>47770eb9100c2d0c44946d9cf07ec65d</td>\n",
              "      <td>41ce2a54c0b03bf3443c3d931a367089</td>\n",
              "      <td>delivered</td>\n",
              "      <td>2018-08-08 08:38:49</td>\n",
              "      <td>2018-08-08 08:55:23</td>\n",
              "      <td>2018-08-08 13:50:00</td>\n",
              "      <td>2018-08-17 18:06:29</td>\n",
              "      <td>2018-09-04 00:00:00</td>\n",
              "    </tr>\n",
              "    <tr>\n",
              "      <th>3</th>\n",
              "      <td>949d5b44dbf5de918fe9c16f97b45f8a</td>\n",
              "      <td>f88197465ea7920adcdbec7375364d82</td>\n",
              "      <td>delivered</td>\n",
              "      <td>2017-11-18 19:28:06</td>\n",
              "      <td>2017-11-18 19:45:59</td>\n",
              "      <td>2017-11-22 13:39:59</td>\n",
              "      <td>2017-12-02 00:28:42</td>\n",
              "      <td>2017-12-15 00:00:00</td>\n",
              "    </tr>\n",
              "    <tr>\n",
              "      <th>4</th>\n",
              "      <td>ad21c59c0840e6cb83a9ceb5573f8159</td>\n",
              "      <td>8ab97904e6daea8866dbdbc4fb7aad2c</td>\n",
              "      <td>delivered</td>\n",
              "      <td>2018-02-13 21:18:39</td>\n",
              "      <td>2018-02-13 22:20:29</td>\n",
              "      <td>2018-02-14 19:46:34</td>\n",
              "      <td>2018-02-16 18:17:02</td>\n",
              "      <td>2018-02-26 00:00:00</td>\n",
              "    </tr>\n",
              "  </tbody>\n",
              "</table>\n",
              "</div>"
            ],
            "text/plain": [
              "                           order_id                       customer_id  \\\n",
              "0  e481f51cbdc54678b7cc49136f2d6af7  9ef432eb6251297304e76186b10a928d   \n",
              "1  53cdb2fc8bc7dce0b6741e2150273451  b0830fb4747a6c6d20dea0b8c802d7ef   \n",
              "2  47770eb9100c2d0c44946d9cf07ec65d  41ce2a54c0b03bf3443c3d931a367089   \n",
              "3  949d5b44dbf5de918fe9c16f97b45f8a  f88197465ea7920adcdbec7375364d82   \n",
              "4  ad21c59c0840e6cb83a9ceb5573f8159  8ab97904e6daea8866dbdbc4fb7aad2c   \n",
              "\n",
              "  order_status order_purchase_timestamp    order_approved_at  \\\n",
              "0    delivered      2017-10-02 10:56:33  2017-10-02 11:07:15   \n",
              "1    delivered      2018-07-24 20:41:37  2018-07-26 03:24:27   \n",
              "2    delivered      2018-08-08 08:38:49  2018-08-08 08:55:23   \n",
              "3    delivered      2017-11-18 19:28:06  2017-11-18 19:45:59   \n",
              "4    delivered      2018-02-13 21:18:39  2018-02-13 22:20:29   \n",
              "\n",
              "  order_delivered_carrier_date order_delivered_customer_date  \\\n",
              "0          2017-10-04 19:55:00           2017-10-10 21:25:13   \n",
              "1          2018-07-26 14:31:00           2018-08-07 15:27:45   \n",
              "2          2018-08-08 13:50:00           2018-08-17 18:06:29   \n",
              "3          2017-11-22 13:39:59           2017-12-02 00:28:42   \n",
              "4          2018-02-14 19:46:34           2018-02-16 18:17:02   \n",
              "\n",
              "  order_estimated_delivery_date  \n",
              "0           2017-10-18 00:00:00  \n",
              "1           2018-08-13 00:00:00  \n",
              "2           2018-09-04 00:00:00  \n",
              "3           2017-12-15 00:00:00  \n",
              "4           2018-02-26 00:00:00  "
            ]
          },
          "execution_count": 88,
          "metadata": {},
          "output_type": "execute_result"
        }
      ],
      "source": [
        "# Hapus baris dengan order_approved_at kosong (transaksi tidak valid)\n",
        "df_orders = df_orders.dropna(subset=[\"order_approved_at\"])\n",
        "\n",
        "# Konversi kolom tanggal menjadi datetime\n",
        "date_columns = [\"order_delivered_carrier_date\", \"order_delivered_customer_date\"]\n",
        "df_orders[date_columns] = df_orders[date_columns].apply(pd.to_datetime, errors=\"coerce\")\n",
        "\n",
        "# Isi missing values pada kolom tanggal dengan median\n",
        "df_orders[date_columns] = df_orders[date_columns].apply(lambda col: col.fillna(col.median()))\n",
        "\n",
        "# Tampilkan hasil cleaning (5 baris pertama)\n",
        "df_orders.head()"
      ]
    },
    {
      "cell_type": "code",
      "execution_count": 89,
      "metadata": {},
      "outputs": [
        {
          "data": {
            "text/html": [
              "<div>\n",
              "<style scoped>\n",
              "    .dataframe tbody tr th:only-of-type {\n",
              "        vertical-align: middle;\n",
              "    }\n",
              "\n",
              "    .dataframe tbody tr th {\n",
              "        vertical-align: top;\n",
              "    }\n",
              "\n",
              "    .dataframe thead th {\n",
              "        text-align: right;\n",
              "    }\n",
              "</style>\n",
              "<table border=\"1\" class=\"dataframe\">\n",
              "  <thead>\n",
              "    <tr style=\"text-align: right;\">\n",
              "      <th></th>\n",
              "      <th>review_id</th>\n",
              "      <th>order_id</th>\n",
              "      <th>review_score</th>\n",
              "      <th>review_comment_title</th>\n",
              "      <th>review_comment_message</th>\n",
              "      <th>review_creation_date</th>\n",
              "      <th>review_answer_timestamp</th>\n",
              "    </tr>\n",
              "  </thead>\n",
              "  <tbody>\n",
              "    <tr>\n",
              "      <th>0</th>\n",
              "      <td>7bc2406110b926393aa56f80a40eba40</td>\n",
              "      <td>73fc7af87114b39712e6da79b0a377eb</td>\n",
              "      <td>4</td>\n",
              "      <td></td>\n",
              "      <td></td>\n",
              "      <td>2018-01-18 00:00:00</td>\n",
              "      <td>2018-01-18 21:46:59</td>\n",
              "    </tr>\n",
              "    <tr>\n",
              "      <th>1</th>\n",
              "      <td>80e641a11e56f04c1ad469d5645fdfde</td>\n",
              "      <td>a548910a1c6147796b98fdf73dbeba33</td>\n",
              "      <td>5</td>\n",
              "      <td></td>\n",
              "      <td></td>\n",
              "      <td>2018-03-10 00:00:00</td>\n",
              "      <td>2018-03-11 03:05:13</td>\n",
              "    </tr>\n",
              "    <tr>\n",
              "      <th>2</th>\n",
              "      <td>228ce5500dc1d8e020d8d1322874b6f0</td>\n",
              "      <td>f9e4b658b201a9f2ecdecbb34bed034b</td>\n",
              "      <td>5</td>\n",
              "      <td></td>\n",
              "      <td></td>\n",
              "      <td>2018-02-17 00:00:00</td>\n",
              "      <td>2018-02-18 14:36:24</td>\n",
              "    </tr>\n",
              "    <tr>\n",
              "      <th>3</th>\n",
              "      <td>e64fb393e7b32834bb789ff8bb30750e</td>\n",
              "      <td>658677c97b385a9be170737859d3511b</td>\n",
              "      <td>5</td>\n",
              "      <td></td>\n",
              "      <td>Recebi bem antes do prazo estipulado.</td>\n",
              "      <td>2017-04-21 00:00:00</td>\n",
              "      <td>2017-04-21 22:02:06</td>\n",
              "    </tr>\n",
              "    <tr>\n",
              "      <th>4</th>\n",
              "      <td>f7c4243c7fe1938f181bec41a392bdeb</td>\n",
              "      <td>8e6bfb81e283fa7e4f11123a3fb894f1</td>\n",
              "      <td>5</td>\n",
              "      <td></td>\n",
              "      <td>Parabéns lojas lannister adorei comprar pela I...</td>\n",
              "      <td>2018-03-01 00:00:00</td>\n",
              "      <td>2018-03-02 10:26:53</td>\n",
              "    </tr>\n",
              "  </tbody>\n",
              "</table>\n",
              "</div>"
            ],
            "text/plain": [
              "                          review_id                          order_id  \\\n",
              "0  7bc2406110b926393aa56f80a40eba40  73fc7af87114b39712e6da79b0a377eb   \n",
              "1  80e641a11e56f04c1ad469d5645fdfde  a548910a1c6147796b98fdf73dbeba33   \n",
              "2  228ce5500dc1d8e020d8d1322874b6f0  f9e4b658b201a9f2ecdecbb34bed034b   \n",
              "3  e64fb393e7b32834bb789ff8bb30750e  658677c97b385a9be170737859d3511b   \n",
              "4  f7c4243c7fe1938f181bec41a392bdeb  8e6bfb81e283fa7e4f11123a3fb894f1   \n",
              "\n",
              "   review_score review_comment_title  \\\n",
              "0             4                        \n",
              "1             5                        \n",
              "2             5                        \n",
              "3             5                        \n",
              "4             5                        \n",
              "\n",
              "                              review_comment_message review_creation_date  \\\n",
              "0                                                     2018-01-18 00:00:00   \n",
              "1                                                     2018-03-10 00:00:00   \n",
              "2                                                     2018-02-17 00:00:00   \n",
              "3              Recebi bem antes do prazo estipulado.  2017-04-21 00:00:00   \n",
              "4  Parabéns lojas lannister adorei comprar pela I...  2018-03-01 00:00:00   \n",
              "\n",
              "  review_answer_timestamp  \n",
              "0     2018-01-18 21:46:59  \n",
              "1     2018-03-11 03:05:13  \n",
              "2     2018-02-18 14:36:24  \n",
              "3     2017-04-21 22:02:06  \n",
              "4     2018-03-02 10:26:53  "
            ]
          },
          "execution_count": 89,
          "metadata": {},
          "output_type": "execute_result"
        }
      ],
      "source": [
        "# Isi missing values pada kolom teks dengan string kosong\n",
        "df_reviews[[\"review_comment_title\", \"review_comment_message\"]] = df_reviews[[\"review_comment_title\", \"review_comment_message\"]].fillna(\"\")\n",
        "\n",
        "# Tampilkan hasil cleaning (5 baris pertama)\n",
        "df_reviews.head()"
      ]
    },
    {
      "cell_type": "code",
      "execution_count": 90,
      "metadata": {},
      "outputs": [
        {
          "name": "stderr",
          "output_type": "stream",
          "text": [
            "C:\\Users\\user\\AppData\\Local\\Temp\\ipykernel_7644\\2034184210.py:2: FutureWarning: A value is trying to be set on a copy of a DataFrame or Series through chained assignment using an inplace method.\n",
            "The behavior will change in pandas 3.0. This inplace method will never work because the intermediate object on which we are setting values always behaves as a copy.\n",
            "\n",
            "For example, when doing 'df[col].method(value, inplace=True)', try using 'df.method({col: value}, inplace=True)' or df[col] = df[col].method(value) instead, to perform the operation inplace on the original object.\n",
            "\n",
            "\n",
            "  df_products[\"product_category_name\"].fillna(\"unknown\", inplace=True)\n"
          ]
        },
        {
          "data": {
            "text/plain": [
              "product_id                      0\n",
              "product_category_name           0\n",
              "product_name_lenght           610\n",
              "product_description_lenght    610\n",
              "product_photos_qty            610\n",
              "product_weight_g                2\n",
              "product_length_cm               2\n",
              "product_height_cm               2\n",
              "product_width_cm                2\n",
              "dtype: int64"
            ]
          },
          "execution_count": 90,
          "metadata": {},
          "output_type": "execute_result"
        }
      ],
      "source": [
        "# Mengisi missing values pada product_category_name dengan 'unknown'\n",
        "df_products[\"product_category_name\"].fillna(\"unknown\", inplace=True)\n",
        "\n",
        "# Cek ulang apakah masih ada missing values\n",
        "df_products.isnull().sum()"
      ]
    },
    {
      "cell_type": "code",
      "execution_count": 91,
      "metadata": {},
      "outputs": [
        {
          "data": {
            "text/plain": [
              "(order_id                         0\n",
              " customer_id                      0\n",
              " order_status                     0\n",
              " order_purchase_timestamp         0\n",
              " order_approved_at                0\n",
              " order_delivered_carrier_date     0\n",
              " order_delivered_customer_date    0\n",
              " order_estimated_delivery_date    0\n",
              " dtype: int64,\n",
              " product_id                      0\n",
              " product_category_name           0\n",
              " product_name_lenght           610\n",
              " product_description_lenght    610\n",
              " product_photos_qty            610\n",
              " product_weight_g                2\n",
              " product_length_cm               2\n",
              " product_height_cm               2\n",
              " product_width_cm                2\n",
              " dtype: int64,\n",
              " review_id                  0\n",
              " order_id                   0\n",
              " review_score               0\n",
              " review_comment_title       0\n",
              " review_comment_message     0\n",
              " review_creation_date       0\n",
              " review_answer_timestamp    0\n",
              " dtype: int64)"
            ]
          },
          "execution_count": 91,
          "metadata": {},
          "output_type": "execute_result"
        }
      ],
      "source": [
        "# MEngecek ulang apakah masih ada missing values\n",
        "df_orders.isnull().sum(), df_products.isnull().sum(), df_reviews.isnull().sum()"
      ]
    },
    {
      "cell_type": "code",
      "execution_count": 92,
      "metadata": {},
      "outputs": [],
      "source": [
        "# Load dataset utama\n",
        "df_orders = pd.read_csv(\"data/orders_dataset.csv\")\n",
        "df_order_items = pd.read_csv(\"data/order_items_dataset.csv\")\n",
        "df_payments = pd.read_csv(\"data/order_payments_dataset.csv\")\n",
        "df_customers = pd.read_csv(\"data/customers_dataset.csv\")\n",
        "df_products = pd.read_csv(\"data/products_dataset.csv\")\n",
        "df_sellers = pd.read_csv(\"data/sellers_dataset.csv\")"
      ]
    },
    {
      "cell_type": "code",
      "execution_count": 93,
      "metadata": {},
      "outputs": [],
      "source": [
        "# Gabungkan\n",
        "df_main = df_orders.merge(df_order_items, on=\"order_id\", how=\"left\")\n",
        "df_main = df_main.merge(df_payments, on=\"order_id\", how=\"left\")\n",
        "df_main = df_main.merge(df_customers, on=\"customer_id\", how=\"left\")\n",
        "df_main = df_main.merge(df_products, on=\"product_id\", how=\"left\")\n",
        "df_main = df_main.merge(df_sellers, on=\"seller_id\", how=\"left\")"
      ]
    },
    {
      "cell_type": "code",
      "execution_count": 94,
      "metadata": {},
      "outputs": [
        {
          "name": "stdout",
          "output_type": "stream",
          "text": [
            "✅ Data berhasil disimpan sebagai 'dashboard/main_data.csv'\n"
          ]
        }
      ],
      "source": [
        "df_main.to_csv(\"dashboard/main_data.csv\", index=False)\n",
        "print(\"✅ Data berhasil disimpan sebagai 'dashboard/main_data.csv'\")"
      ]
    },
    {
      "cell_type": "markdown",
      "metadata": {
        "id": "Q_5ejIqckiSP"
      },
      "source": [
        "**Insight:**\n",
        "\n",
        "Setelah proses cleaning, dataset telah dibersihkan dari missing values dan data yang tidak valid. Data transaksi yang tidak memiliki tanggal persetujuan pembayaran dihapus karena dianggap tidak valid.\n",
        "Untuk data produk, missing values pada kategori produk diisi dengan \"unknown\" agar tidak kehilangan informasi lainnya. Sekarang dataset siap untuk dianalisis lebih lanjut di tahap Exploratory Data Analysis (EDA)."
      ]
    },
    {
      "cell_type": "markdown",
      "metadata": {
        "id": "gp-Y6wU38DC1"
      },
      "source": [
        "## Exploratory Data Analysis (EDA)"
      ]
    },
    {
      "cell_type": "markdown",
      "metadata": {
        "id": "MW7WF2kr8DC1"
      },
      "source": [
        "### Explore ..."
      ]
    },
    {
      "cell_type": "code",
      "execution_count": 95,
      "metadata": {
        "colab": {
          "base_uri": "https://localhost:8080/",
          "height": 572
        },
        "id": "e9CQCZjk8DC2",
        "outputId": "ecf018af-3d7c-4ce5-b1f9-ec739a96a163"
      },
      "outputs": [
        {
          "data": {
            "text/html": [
              "<div>\n",
              "<style scoped>\n",
              "    .dataframe tbody tr th:only-of-type {\n",
              "        vertical-align: middle;\n",
              "    }\n",
              "\n",
              "    .dataframe tbody tr th {\n",
              "        vertical-align: top;\n",
              "    }\n",
              "\n",
              "    .dataframe thead th {\n",
              "        text-align: right;\n",
              "    }\n",
              "</style>\n",
              "<table border=\"1\" class=\"dataframe\">\n",
              "  <thead>\n",
              "    <tr style=\"text-align: right;\">\n",
              "      <th></th>\n",
              "      <th>order_id</th>\n",
              "      <th>customer_id</th>\n",
              "      <th>order_status</th>\n",
              "      <th>order_purchase_timestamp</th>\n",
              "      <th>order_approved_at</th>\n",
              "      <th>order_delivered_carrier_date</th>\n",
              "      <th>order_delivered_customer_date</th>\n",
              "      <th>order_estimated_delivery_date</th>\n",
              "      <th>order_item_id</th>\n",
              "      <th>product_id</th>\n",
              "      <th>...</th>\n",
              "      <th>product_name_lenght</th>\n",
              "      <th>product_description_lenght</th>\n",
              "      <th>product_photos_qty</th>\n",
              "      <th>product_weight_g</th>\n",
              "      <th>product_length_cm</th>\n",
              "      <th>product_height_cm</th>\n",
              "      <th>product_width_cm</th>\n",
              "      <th>seller_zip_code_prefix</th>\n",
              "      <th>seller_city</th>\n",
              "      <th>seller_state</th>\n",
              "    </tr>\n",
              "  </thead>\n",
              "  <tbody>\n",
              "    <tr>\n",
              "      <th>0</th>\n",
              "      <td>e481f51cbdc54678b7cc49136f2d6af7</td>\n",
              "      <td>9ef432eb6251297304e76186b10a928d</td>\n",
              "      <td>delivered</td>\n",
              "      <td>2017-10-02 10:56:33</td>\n",
              "      <td>2017-10-02 11:07:15</td>\n",
              "      <td>2017-10-04 19:55:00</td>\n",
              "      <td>2017-10-10 21:25:13</td>\n",
              "      <td>2017-10-18 00:00:00</td>\n",
              "      <td>1.0</td>\n",
              "      <td>87285b34884572647811a353c7ac498a</td>\n",
              "      <td>...</td>\n",
              "      <td>40.0</td>\n",
              "      <td>268.0</td>\n",
              "      <td>4.0</td>\n",
              "      <td>500.0</td>\n",
              "      <td>19.0</td>\n",
              "      <td>8.0</td>\n",
              "      <td>13.0</td>\n",
              "      <td>9350.0</td>\n",
              "      <td>maua</td>\n",
              "      <td>SP</td>\n",
              "    </tr>\n",
              "    <tr>\n",
              "      <th>1</th>\n",
              "      <td>e481f51cbdc54678b7cc49136f2d6af7</td>\n",
              "      <td>9ef432eb6251297304e76186b10a928d</td>\n",
              "      <td>delivered</td>\n",
              "      <td>2017-10-02 10:56:33</td>\n",
              "      <td>2017-10-02 11:07:15</td>\n",
              "      <td>2017-10-04 19:55:00</td>\n",
              "      <td>2017-10-10 21:25:13</td>\n",
              "      <td>2017-10-18 00:00:00</td>\n",
              "      <td>1.0</td>\n",
              "      <td>87285b34884572647811a353c7ac498a</td>\n",
              "      <td>...</td>\n",
              "      <td>40.0</td>\n",
              "      <td>268.0</td>\n",
              "      <td>4.0</td>\n",
              "      <td>500.0</td>\n",
              "      <td>19.0</td>\n",
              "      <td>8.0</td>\n",
              "      <td>13.0</td>\n",
              "      <td>9350.0</td>\n",
              "      <td>maua</td>\n",
              "      <td>SP</td>\n",
              "    </tr>\n",
              "    <tr>\n",
              "      <th>2</th>\n",
              "      <td>e481f51cbdc54678b7cc49136f2d6af7</td>\n",
              "      <td>9ef432eb6251297304e76186b10a928d</td>\n",
              "      <td>delivered</td>\n",
              "      <td>2017-10-02 10:56:33</td>\n",
              "      <td>2017-10-02 11:07:15</td>\n",
              "      <td>2017-10-04 19:55:00</td>\n",
              "      <td>2017-10-10 21:25:13</td>\n",
              "      <td>2017-10-18 00:00:00</td>\n",
              "      <td>1.0</td>\n",
              "      <td>87285b34884572647811a353c7ac498a</td>\n",
              "      <td>...</td>\n",
              "      <td>40.0</td>\n",
              "      <td>268.0</td>\n",
              "      <td>4.0</td>\n",
              "      <td>500.0</td>\n",
              "      <td>19.0</td>\n",
              "      <td>8.0</td>\n",
              "      <td>13.0</td>\n",
              "      <td>9350.0</td>\n",
              "      <td>maua</td>\n",
              "      <td>SP</td>\n",
              "    </tr>\n",
              "    <tr>\n",
              "      <th>3</th>\n",
              "      <td>53cdb2fc8bc7dce0b6741e2150273451</td>\n",
              "      <td>b0830fb4747a6c6d20dea0b8c802d7ef</td>\n",
              "      <td>delivered</td>\n",
              "      <td>2018-07-24 20:41:37</td>\n",
              "      <td>2018-07-26 03:24:27</td>\n",
              "      <td>2018-07-26 14:31:00</td>\n",
              "      <td>2018-08-07 15:27:45</td>\n",
              "      <td>2018-08-13 00:00:00</td>\n",
              "      <td>1.0</td>\n",
              "      <td>595fac2a385ac33a80bd5114aec74eb8</td>\n",
              "      <td>...</td>\n",
              "      <td>29.0</td>\n",
              "      <td>178.0</td>\n",
              "      <td>1.0</td>\n",
              "      <td>400.0</td>\n",
              "      <td>19.0</td>\n",
              "      <td>13.0</td>\n",
              "      <td>19.0</td>\n",
              "      <td>31570.0</td>\n",
              "      <td>belo horizonte</td>\n",
              "      <td>SP</td>\n",
              "    </tr>\n",
              "    <tr>\n",
              "      <th>4</th>\n",
              "      <td>47770eb9100c2d0c44946d9cf07ec65d</td>\n",
              "      <td>41ce2a54c0b03bf3443c3d931a367089</td>\n",
              "      <td>delivered</td>\n",
              "      <td>2018-08-08 08:38:49</td>\n",
              "      <td>2018-08-08 08:55:23</td>\n",
              "      <td>2018-08-08 13:50:00</td>\n",
              "      <td>2018-08-17 18:06:29</td>\n",
              "      <td>2018-09-04 00:00:00</td>\n",
              "      <td>1.0</td>\n",
              "      <td>aa4383b373c6aca5d8797843e5594415</td>\n",
              "      <td>...</td>\n",
              "      <td>46.0</td>\n",
              "      <td>232.0</td>\n",
              "      <td>1.0</td>\n",
              "      <td>420.0</td>\n",
              "      <td>24.0</td>\n",
              "      <td>19.0</td>\n",
              "      <td>21.0</td>\n",
              "      <td>14840.0</td>\n",
              "      <td>guariba</td>\n",
              "      <td>SP</td>\n",
              "    </tr>\n",
              "  </tbody>\n",
              "</table>\n",
              "<p>5 rows × 33 columns</p>\n",
              "</div>"
            ],
            "text/plain": [
              "                           order_id                       customer_id  \\\n",
              "0  e481f51cbdc54678b7cc49136f2d6af7  9ef432eb6251297304e76186b10a928d   \n",
              "1  e481f51cbdc54678b7cc49136f2d6af7  9ef432eb6251297304e76186b10a928d   \n",
              "2  e481f51cbdc54678b7cc49136f2d6af7  9ef432eb6251297304e76186b10a928d   \n",
              "3  53cdb2fc8bc7dce0b6741e2150273451  b0830fb4747a6c6d20dea0b8c802d7ef   \n",
              "4  47770eb9100c2d0c44946d9cf07ec65d  41ce2a54c0b03bf3443c3d931a367089   \n",
              "\n",
              "  order_status order_purchase_timestamp    order_approved_at  \\\n",
              "0    delivered      2017-10-02 10:56:33  2017-10-02 11:07:15   \n",
              "1    delivered      2017-10-02 10:56:33  2017-10-02 11:07:15   \n",
              "2    delivered      2017-10-02 10:56:33  2017-10-02 11:07:15   \n",
              "3    delivered      2018-07-24 20:41:37  2018-07-26 03:24:27   \n",
              "4    delivered      2018-08-08 08:38:49  2018-08-08 08:55:23   \n",
              "\n",
              "  order_delivered_carrier_date order_delivered_customer_date  \\\n",
              "0          2017-10-04 19:55:00           2017-10-10 21:25:13   \n",
              "1          2017-10-04 19:55:00           2017-10-10 21:25:13   \n",
              "2          2017-10-04 19:55:00           2017-10-10 21:25:13   \n",
              "3          2018-07-26 14:31:00           2018-08-07 15:27:45   \n",
              "4          2018-08-08 13:50:00           2018-08-17 18:06:29   \n",
              "\n",
              "  order_estimated_delivery_date  order_item_id  \\\n",
              "0           2017-10-18 00:00:00            1.0   \n",
              "1           2017-10-18 00:00:00            1.0   \n",
              "2           2017-10-18 00:00:00            1.0   \n",
              "3           2018-08-13 00:00:00            1.0   \n",
              "4           2018-09-04 00:00:00            1.0   \n",
              "\n",
              "                         product_id  ... product_name_lenght  \\\n",
              "0  87285b34884572647811a353c7ac498a  ...                40.0   \n",
              "1  87285b34884572647811a353c7ac498a  ...                40.0   \n",
              "2  87285b34884572647811a353c7ac498a  ...                40.0   \n",
              "3  595fac2a385ac33a80bd5114aec74eb8  ...                29.0   \n",
              "4  aa4383b373c6aca5d8797843e5594415  ...                46.0   \n",
              "\n",
              "  product_description_lenght  product_photos_qty  product_weight_g  \\\n",
              "0                      268.0                 4.0             500.0   \n",
              "1                      268.0                 4.0             500.0   \n",
              "2                      268.0                 4.0             500.0   \n",
              "3                      178.0                 1.0             400.0   \n",
              "4                      232.0                 1.0             420.0   \n",
              "\n",
              "   product_length_cm product_height_cm  product_width_cm  \\\n",
              "0               19.0               8.0              13.0   \n",
              "1               19.0               8.0              13.0   \n",
              "2               19.0               8.0              13.0   \n",
              "3               19.0              13.0              19.0   \n",
              "4               24.0              19.0              21.0   \n",
              "\n",
              "   seller_zip_code_prefix     seller_city  seller_state  \n",
              "0                  9350.0            maua            SP  \n",
              "1                  9350.0            maua            SP  \n",
              "2                  9350.0            maua            SP  \n",
              "3                 31570.0  belo horizonte            SP  \n",
              "4                 14840.0         guariba            SP  \n",
              "\n",
              "[5 rows x 33 columns]"
            ]
          },
          "execution_count": 95,
          "metadata": {},
          "output_type": "execute_result"
        }
      ],
      "source": [
        "# Load dataset\n",
        "df_clean = pd.read_csv(\"dashboard/main_data.csv\")\n",
        "\n",
        "# Menampilkan 5 baris pertama dataset\n",
        "df_clean.head()"
      ]
    },
    {
      "cell_type": "code",
      "execution_count": 96,
      "metadata": {},
      "outputs": [
        {
          "name": "stdout",
          "output_type": "stream",
          "text": [
            "<class 'pandas.core.frame.DataFrame'>\n",
            "RangeIndex: 118434 entries, 0 to 118433\n",
            "Data columns (total 33 columns):\n",
            " #   Column                         Non-Null Count   Dtype  \n",
            "---  ------                         --------------   -----  \n",
            " 0   order_id                       118434 non-null  object \n",
            " 1   customer_id                    118434 non-null  object \n",
            " 2   order_status                   118434 non-null  object \n",
            " 3   order_purchase_timestamp       118434 non-null  object \n",
            " 4   order_approved_at              118258 non-null  object \n",
            " 5   order_delivered_carrier_date   116360 non-null  object \n",
            " 6   order_delivered_customer_date  115037 non-null  object \n",
            " 7   order_estimated_delivery_date  118434 non-null  object \n",
            " 8   order_item_id                  117604 non-null  float64\n",
            " 9   product_id                     117604 non-null  object \n",
            " 10  seller_id                      117604 non-null  object \n",
            " 11  shipping_limit_date            117604 non-null  object \n",
            " 12  price                          117604 non-null  float64\n",
            " 13  freight_value                  117604 non-null  float64\n",
            " 14  payment_sequential             118431 non-null  float64\n",
            " 15  payment_type                   118431 non-null  object \n",
            " 16  payment_installments           118431 non-null  float64\n",
            " 17  payment_value                  118431 non-null  float64\n",
            " 18  customer_unique_id             118434 non-null  object \n",
            " 19  customer_zip_code_prefix       118434 non-null  int64  \n",
            " 20  customer_city                  118434 non-null  object \n",
            " 21  customer_state                 118434 non-null  object \n",
            " 22  product_category_name          115906 non-null  object \n",
            " 23  product_name_lenght            115906 non-null  float64\n",
            " 24  product_description_lenght     115906 non-null  float64\n",
            " 25  product_photos_qty             115906 non-null  float64\n",
            " 26  product_weight_g               117584 non-null  float64\n",
            " 27  product_length_cm              117584 non-null  float64\n",
            " 28  product_height_cm              117584 non-null  float64\n",
            " 29  product_width_cm               117584 non-null  float64\n",
            " 30  seller_zip_code_prefix         117604 non-null  float64\n",
            " 31  seller_city                    117604 non-null  object \n",
            " 32  seller_state                   117604 non-null  object \n",
            "dtypes: float64(14), int64(1), object(18)\n",
            "memory usage: 29.8+ MB\n"
          ]
        },
        {
          "data": {
            "text/plain": [
              "order_id                            0\n",
              "customer_id                         0\n",
              "order_status                        0\n",
              "order_purchase_timestamp            0\n",
              "order_approved_at                 176\n",
              "order_delivered_carrier_date     2074\n",
              "order_delivered_customer_date    3397\n",
              "order_estimated_delivery_date       0\n",
              "order_item_id                     830\n",
              "product_id                        830\n",
              "seller_id                         830\n",
              "shipping_limit_date               830\n",
              "price                             830\n",
              "freight_value                     830\n",
              "payment_sequential                  3\n",
              "payment_type                        3\n",
              "payment_installments                3\n",
              "payment_value                       3\n",
              "customer_unique_id                  0\n",
              "customer_zip_code_prefix            0\n",
              "customer_city                       0\n",
              "customer_state                      0\n",
              "product_category_name            2528\n",
              "product_name_lenght              2528\n",
              "product_description_lenght       2528\n",
              "product_photos_qty               2528\n",
              "product_weight_g                  850\n",
              "product_length_cm                 850\n",
              "product_height_cm                 850\n",
              "product_width_cm                  850\n",
              "seller_zip_code_prefix            830\n",
              "seller_city                       830\n",
              "seller_state                      830\n",
              "dtype: int64"
            ]
          },
          "execution_count": 96,
          "metadata": {},
          "output_type": "execute_result"
        }
      ],
      "source": [
        "# Menampilkan informasi umum tentang dataset\n",
        "df_clean.info()\n",
        "\n",
        "# Mengecek distribusi nilai unik pada kolom utama\n",
        "df_clean.describe()\n",
        "\n",
        "# Mengecek jumlah missing values\n",
        "df_clean.isnull().sum()"
      ]
    },
    {
      "cell_type": "code",
      "execution_count": 97,
      "metadata": {},
      "outputs": [
        {
          "data": {
            "text/html": [
              "<div>\n",
              "<style scoped>\n",
              "    .dataframe tbody tr th:only-of-type {\n",
              "        vertical-align: middle;\n",
              "    }\n",
              "\n",
              "    .dataframe tbody tr th {\n",
              "        vertical-align: top;\n",
              "    }\n",
              "\n",
              "    .dataframe thead th {\n",
              "        text-align: right;\n",
              "    }\n",
              "</style>\n",
              "<table border=\"1\" class=\"dataframe\">\n",
              "  <thead>\n",
              "    <tr style=\"text-align: right;\">\n",
              "      <th></th>\n",
              "      <th>order_id</th>\n",
              "      <th>customer_id</th>\n",
              "      <th>order_status</th>\n",
              "      <th>order_purchase_timestamp</th>\n",
              "      <th>order_approved_at</th>\n",
              "      <th>order_delivered_carrier_date</th>\n",
              "      <th>order_delivered_customer_date</th>\n",
              "      <th>order_estimated_delivery_date</th>\n",
              "      <th>product_id</th>\n",
              "      <th>seller_id</th>\n",
              "      <th>shipping_limit_date</th>\n",
              "      <th>payment_type</th>\n",
              "      <th>customer_unique_id</th>\n",
              "      <th>customer_city</th>\n",
              "      <th>customer_state</th>\n",
              "      <th>product_category_name</th>\n",
              "      <th>seller_city</th>\n",
              "      <th>seller_state</th>\n",
              "    </tr>\n",
              "  </thead>\n",
              "  <tbody>\n",
              "    <tr>\n",
              "      <th>count</th>\n",
              "      <td>118434</td>\n",
              "      <td>118434</td>\n",
              "      <td>118434</td>\n",
              "      <td>118434</td>\n",
              "      <td>118258</td>\n",
              "      <td>116360</td>\n",
              "      <td>115037</td>\n",
              "      <td>118434</td>\n",
              "      <td>117604</td>\n",
              "      <td>117604</td>\n",
              "      <td>117604</td>\n",
              "      <td>118431</td>\n",
              "      <td>118434</td>\n",
              "      <td>118434</td>\n",
              "      <td>118434</td>\n",
              "      <td>115906</td>\n",
              "      <td>117604</td>\n",
              "      <td>117604</td>\n",
              "    </tr>\n",
              "    <tr>\n",
              "      <th>unique</th>\n",
              "      <td>99441</td>\n",
              "      <td>99441</td>\n",
              "      <td>8</td>\n",
              "      <td>98875</td>\n",
              "      <td>90733</td>\n",
              "      <td>81018</td>\n",
              "      <td>95664</td>\n",
              "      <td>459</td>\n",
              "      <td>32951</td>\n",
              "      <td>3095</td>\n",
              "      <td>93318</td>\n",
              "      <td>5</td>\n",
              "      <td>96096</td>\n",
              "      <td>4119</td>\n",
              "      <td>27</td>\n",
              "      <td>73</td>\n",
              "      <td>611</td>\n",
              "      <td>23</td>\n",
              "    </tr>\n",
              "    <tr>\n",
              "      <th>top</th>\n",
              "      <td>895ab968e7bb0d5659d16cd74cd1650c</td>\n",
              "      <td>270c23a11d024a44c896d1894b261a83</td>\n",
              "      <td>delivered</td>\n",
              "      <td>2017-08-08 20:26:31</td>\n",
              "      <td>2017-08-08 20:43:31</td>\n",
              "      <td>2017-08-10 11:58:14</td>\n",
              "      <td>2017-08-14 12:46:18</td>\n",
              "      <td>2017-12-20 00:00:00</td>\n",
              "      <td>aca2eb7d00ea1a7b8ebd4e68314663af</td>\n",
              "      <td>4a3ca9315b744ce9f8e9374361493884</td>\n",
              "      <td>2017-08-14 20:43:31</td>\n",
              "      <td>credit_card</td>\n",
              "      <td>9a736b248f67d166d2fbb006bcb877c3</td>\n",
              "      <td>sao paulo</td>\n",
              "      <td>SP</td>\n",
              "      <td>cama_mesa_banho</td>\n",
              "      <td>sao paulo</td>\n",
              "      <td>SP</td>\n",
              "    </tr>\n",
              "    <tr>\n",
              "      <th>freq</th>\n",
              "      <td>63</td>\n",
              "      <td>63</td>\n",
              "      <td>115038</td>\n",
              "      <td>63</td>\n",
              "      <td>63</td>\n",
              "      <td>63</td>\n",
              "      <td>63</td>\n",
              "      <td>656</td>\n",
              "      <td>536</td>\n",
              "      <td>2133</td>\n",
              "      <td>63</td>\n",
              "      <td>87286</td>\n",
              "      <td>75</td>\n",
              "      <td>18738</td>\n",
              "      <td>49967</td>\n",
              "      <td>11823</td>\n",
              "      <td>29157</td>\n",
              "      <td>83854</td>\n",
              "    </tr>\n",
              "  </tbody>\n",
              "</table>\n",
              "</div>"
            ],
            "text/plain": [
              "                                order_id                       customer_id  \\\n",
              "count                             118434                            118434   \n",
              "unique                             99441                             99441   \n",
              "top     895ab968e7bb0d5659d16cd74cd1650c  270c23a11d024a44c896d1894b261a83   \n",
              "freq                                  63                                63   \n",
              "\n",
              "       order_status order_purchase_timestamp    order_approved_at  \\\n",
              "count        118434                   118434               118258   \n",
              "unique            8                    98875                90733   \n",
              "top       delivered      2017-08-08 20:26:31  2017-08-08 20:43:31   \n",
              "freq         115038                       63                   63   \n",
              "\n",
              "       order_delivered_carrier_date order_delivered_customer_date  \\\n",
              "count                        116360                        115037   \n",
              "unique                        81018                         95664   \n",
              "top             2017-08-10 11:58:14           2017-08-14 12:46:18   \n",
              "freq                             63                            63   \n",
              "\n",
              "       order_estimated_delivery_date                        product_id  \\\n",
              "count                         118434                            117604   \n",
              "unique                           459                             32951   \n",
              "top              2017-12-20 00:00:00  aca2eb7d00ea1a7b8ebd4e68314663af   \n",
              "freq                             656                               536   \n",
              "\n",
              "                               seller_id  shipping_limit_date payment_type  \\\n",
              "count                             117604               117604       118431   \n",
              "unique                              3095                93318            5   \n",
              "top     4a3ca9315b744ce9f8e9374361493884  2017-08-14 20:43:31  credit_card   \n",
              "freq                                2133                   63        87286   \n",
              "\n",
              "                      customer_unique_id customer_city customer_state  \\\n",
              "count                             118434        118434         118434   \n",
              "unique                             96096          4119             27   \n",
              "top     9a736b248f67d166d2fbb006bcb877c3     sao paulo             SP   \n",
              "freq                                  75         18738          49967   \n",
              "\n",
              "       product_category_name seller_city seller_state  \n",
              "count                 115906      117604       117604  \n",
              "unique                    73         611           23  \n",
              "top          cama_mesa_banho   sao paulo           SP  \n",
              "freq                   11823       29157        83854  "
            ]
          },
          "execution_count": 97,
          "metadata": {},
          "output_type": "execute_result"
        }
      ],
      "source": [
        "df = pd.read_csv(\"dashboard/main_data.csv\")\n",
        "\n",
        "# Statistik deskriptif untuk kolom numerik\n",
        "df.describe()\n",
        "\n",
        "# Statistik deskriptif untuk kolom kategori\n",
        "df.describe(include='object')"
      ]
    },
    {
      "cell_type": "code",
      "execution_count": 98,
      "metadata": {},
      "outputs": [
        {
          "data": {
            "text/html": [
              "<div>\n",
              "<style scoped>\n",
              "    .dataframe tbody tr th:only-of-type {\n",
              "        vertical-align: middle;\n",
              "    }\n",
              "\n",
              "    .dataframe tbody tr th {\n",
              "        vertical-align: top;\n",
              "    }\n",
              "\n",
              "    .dataframe thead th {\n",
              "        text-align: right;\n",
              "    }\n",
              "</style>\n",
              "<table border=\"1\" class=\"dataframe\">\n",
              "  <thead>\n",
              "    <tr style=\"text-align: right;\">\n",
              "      <th></th>\n",
              "      <th>order_id</th>\n",
              "      <th>customer_id</th>\n",
              "      <th>order_status</th>\n",
              "      <th>order_purchase_timestamp</th>\n",
              "      <th>order_approved_at</th>\n",
              "      <th>order_delivered_carrier_date</th>\n",
              "      <th>order_delivered_customer_date</th>\n",
              "      <th>order_estimated_delivery_date</th>\n",
              "      <th>order_item_id</th>\n",
              "      <th>product_id</th>\n",
              "      <th>...</th>\n",
              "      <th>product_name_lenght</th>\n",
              "      <th>product_description_lenght</th>\n",
              "      <th>product_photos_qty</th>\n",
              "      <th>product_weight_g</th>\n",
              "      <th>product_length_cm</th>\n",
              "      <th>product_height_cm</th>\n",
              "      <th>product_width_cm</th>\n",
              "      <th>seller_zip_code_prefix</th>\n",
              "      <th>seller_city</th>\n",
              "      <th>seller_state</th>\n",
              "    </tr>\n",
              "  </thead>\n",
              "  <tbody>\n",
              "    <tr>\n",
              "      <th>3</th>\n",
              "      <td>53cdb2fc8bc7dce0b6741e2150273451</td>\n",
              "      <td>b0830fb4747a6c6d20dea0b8c802d7ef</td>\n",
              "      <td>delivered</td>\n",
              "      <td>2018-07-24 20:41:37</td>\n",
              "      <td>2018-07-26 03:24:27</td>\n",
              "      <td>2018-07-26 14:31:00</td>\n",
              "      <td>2018-08-07 15:27:45</td>\n",
              "      <td>2018-08-13 00:00:00</td>\n",
              "      <td>1.0</td>\n",
              "      <td>595fac2a385ac33a80bd5114aec74eb8</td>\n",
              "      <td>...</td>\n",
              "      <td>29.0</td>\n",
              "      <td>178.0</td>\n",
              "      <td>1.0</td>\n",
              "      <td>400.0</td>\n",
              "      <td>19.0</td>\n",
              "      <td>13.0</td>\n",
              "      <td>19.0</td>\n",
              "      <td>31570.0</td>\n",
              "      <td>belo horizonte</td>\n",
              "      <td>SP</td>\n",
              "    </tr>\n",
              "    <tr>\n",
              "      <th>4</th>\n",
              "      <td>47770eb9100c2d0c44946d9cf07ec65d</td>\n",
              "      <td>41ce2a54c0b03bf3443c3d931a367089</td>\n",
              "      <td>delivered</td>\n",
              "      <td>2018-08-08 08:38:49</td>\n",
              "      <td>2018-08-08 08:55:23</td>\n",
              "      <td>2018-08-08 13:50:00</td>\n",
              "      <td>2018-08-17 18:06:29</td>\n",
              "      <td>2018-09-04 00:00:00</td>\n",
              "      <td>1.0</td>\n",
              "      <td>aa4383b373c6aca5d8797843e5594415</td>\n",
              "      <td>...</td>\n",
              "      <td>46.0</td>\n",
              "      <td>232.0</td>\n",
              "      <td>1.0</td>\n",
              "      <td>420.0</td>\n",
              "      <td>24.0</td>\n",
              "      <td>19.0</td>\n",
              "      <td>21.0</td>\n",
              "      <td>14840.0</td>\n",
              "      <td>guariba</td>\n",
              "      <td>SP</td>\n",
              "    </tr>\n",
              "    <tr>\n",
              "      <th>16</th>\n",
              "      <td>82566a660a982b15fb86e904c8d32918</td>\n",
              "      <td>d3e3b74c766bc6214e0c830b17ee2341</td>\n",
              "      <td>delivered</td>\n",
              "      <td>2018-06-07 10:06:19</td>\n",
              "      <td>2018-06-09 03:13:12</td>\n",
              "      <td>2018-06-11 13:29:00</td>\n",
              "      <td>2018-06-19 12:05:52</td>\n",
              "      <td>2018-07-18 00:00:00</td>\n",
              "      <td>1.0</td>\n",
              "      <td>72a97c271b2e429974398f46b93ae530</td>\n",
              "      <td>...</td>\n",
              "      <td>59.0</td>\n",
              "      <td>685.0</td>\n",
              "      <td>1.0</td>\n",
              "      <td>450.0</td>\n",
              "      <td>16.0</td>\n",
              "      <td>17.0</td>\n",
              "      <td>16.0</td>\n",
              "      <td>14095.0</td>\n",
              "      <td>ribeirao preto</td>\n",
              "      <td>SP</td>\n",
              "    </tr>\n",
              "    <tr>\n",
              "      <th>17</th>\n",
              "      <td>5ff96c15d0b717ac6ad1f3d77225a350</td>\n",
              "      <td>19402a48fe860416adf93348aba37740</td>\n",
              "      <td>delivered</td>\n",
              "      <td>2018-07-25 17:44:10</td>\n",
              "      <td>2018-07-25 17:55:14</td>\n",
              "      <td>2018-07-26 13:16:00</td>\n",
              "      <td>2018-07-30 15:52:25</td>\n",
              "      <td>2018-08-08 00:00:00</td>\n",
              "      <td>1.0</td>\n",
              "      <td>10adb53d8faa890ca7c2f0cbcb68d777</td>\n",
              "      <td>...</td>\n",
              "      <td>52.0</td>\n",
              "      <td>155.0</td>\n",
              "      <td>1.0</td>\n",
              "      <td>200.0</td>\n",
              "      <td>16.0</td>\n",
              "      <td>10.0</td>\n",
              "      <td>16.0</td>\n",
              "      <td>14940.0</td>\n",
              "      <td>ibitinga</td>\n",
              "      <td>SP</td>\n",
              "    </tr>\n",
              "    <tr>\n",
              "      <th>19</th>\n",
              "      <td>dcb36b511fcac050b97cd5c05de84dc3</td>\n",
              "      <td>3b6828a50ffe546942b7a473d70ac0fc</td>\n",
              "      <td>delivered</td>\n",
              "      <td>2018-06-07 19:03:12</td>\n",
              "      <td>2018-06-12 23:31:02</td>\n",
              "      <td>2018-06-11 14:54:00</td>\n",
              "      <td>2018-06-21 15:34:32</td>\n",
              "      <td>2018-07-04 00:00:00</td>\n",
              "      <td>1.0</td>\n",
              "      <td>009c09f439988bc06a93d6b8186dce73</td>\n",
              "      <td>...</td>\n",
              "      <td>39.0</td>\n",
              "      <td>991.0</td>\n",
              "      <td>3.0</td>\n",
              "      <td>150.0</td>\n",
              "      <td>20.0</td>\n",
              "      <td>20.0</td>\n",
              "      <td>20.0</td>\n",
              "      <td>71931.0</td>\n",
              "      <td>brasilia</td>\n",
              "      <td>DF</td>\n",
              "    </tr>\n",
              "  </tbody>\n",
              "</table>\n",
              "<p>5 rows × 33 columns</p>\n",
              "</div>"
            ],
            "text/plain": [
              "                            order_id                       customer_id  \\\n",
              "3   53cdb2fc8bc7dce0b6741e2150273451  b0830fb4747a6c6d20dea0b8c802d7ef   \n",
              "4   47770eb9100c2d0c44946d9cf07ec65d  41ce2a54c0b03bf3443c3d931a367089   \n",
              "16  82566a660a982b15fb86e904c8d32918  d3e3b74c766bc6214e0c830b17ee2341   \n",
              "17  5ff96c15d0b717ac6ad1f3d77225a350  19402a48fe860416adf93348aba37740   \n",
              "19  dcb36b511fcac050b97cd5c05de84dc3  3b6828a50ffe546942b7a473d70ac0fc   \n",
              "\n",
              "   order_status order_purchase_timestamp    order_approved_at  \\\n",
              "3     delivered      2018-07-24 20:41:37  2018-07-26 03:24:27   \n",
              "4     delivered      2018-08-08 08:38:49  2018-08-08 08:55:23   \n",
              "16    delivered      2018-06-07 10:06:19  2018-06-09 03:13:12   \n",
              "17    delivered      2018-07-25 17:44:10  2018-07-25 17:55:14   \n",
              "19    delivered      2018-06-07 19:03:12  2018-06-12 23:31:02   \n",
              "\n",
              "   order_delivered_carrier_date order_delivered_customer_date  \\\n",
              "3           2018-07-26 14:31:00           2018-08-07 15:27:45   \n",
              "4           2018-08-08 13:50:00           2018-08-17 18:06:29   \n",
              "16          2018-06-11 13:29:00           2018-06-19 12:05:52   \n",
              "17          2018-07-26 13:16:00           2018-07-30 15:52:25   \n",
              "19          2018-06-11 14:54:00           2018-06-21 15:34:32   \n",
              "\n",
              "   order_estimated_delivery_date  order_item_id  \\\n",
              "3            2018-08-13 00:00:00            1.0   \n",
              "4            2018-09-04 00:00:00            1.0   \n",
              "16           2018-07-18 00:00:00            1.0   \n",
              "17           2018-08-08 00:00:00            1.0   \n",
              "19           2018-07-04 00:00:00            1.0   \n",
              "\n",
              "                          product_id  ... product_name_lenght  \\\n",
              "3   595fac2a385ac33a80bd5114aec74eb8  ...                29.0   \n",
              "4   aa4383b373c6aca5d8797843e5594415  ...                46.0   \n",
              "16  72a97c271b2e429974398f46b93ae530  ...                59.0   \n",
              "17  10adb53d8faa890ca7c2f0cbcb68d777  ...                52.0   \n",
              "19  009c09f439988bc06a93d6b8186dce73  ...                39.0   \n",
              "\n",
              "   product_description_lenght  product_photos_qty  product_weight_g  \\\n",
              "3                       178.0                 1.0             400.0   \n",
              "4                       232.0                 1.0             420.0   \n",
              "16                      685.0                 1.0             450.0   \n",
              "17                      155.0                 1.0             200.0   \n",
              "19                      991.0                 3.0             150.0   \n",
              "\n",
              "    product_length_cm product_height_cm  product_width_cm  \\\n",
              "3                19.0              13.0              19.0   \n",
              "4                24.0              19.0              21.0   \n",
              "16               16.0              17.0              16.0   \n",
              "17               16.0              10.0              16.0   \n",
              "19               20.0              20.0              20.0   \n",
              "\n",
              "    seller_zip_code_prefix     seller_city  seller_state  \n",
              "3                  31570.0  belo horizonte            SP  \n",
              "4                  14840.0         guariba            SP  \n",
              "16                 14095.0  ribeirao preto            SP  \n",
              "17                 14940.0        ibitinga            SP  \n",
              "19                 71931.0        brasilia            DF  \n",
              "\n",
              "[5 rows x 33 columns]"
            ]
          },
          "execution_count": 98,
          "metadata": {},
          "output_type": "execute_result"
        }
      ],
      "source": [
        "# Konversi kolom order_purchase_timestamp ke datetime\n",
        "df_clean[\"order_purchase_timestamp\"] = pd.to_datetime(df_clean[\"order_purchase_timestamp\"])\n",
        "\n",
        "# Menentukan tanggal referensi\n",
        "reference_date = df_clean[\"order_purchase_timestamp\"].max()\n",
        "six_months_ago = reference_date - dt.timedelta(days=180)\n",
        "\n",
        "# Filter data 6 bulan terakhir\n",
        "df_last_6_months = df_clean[df_clean[\"order_purchase_timestamp\"] >= six_months_ago]\n",
        "\n",
        "# Tampilkan 5 baris pertama data\n",
        "df_last_6_months.head()"
      ]
    },
    {
      "cell_type": "code",
      "execution_count": 99,
      "metadata": {},
      "outputs": [
        {
          "name": "stderr",
          "output_type": "stream",
          "text": [
            "C:\\Users\\user\\AppData\\Local\\Temp\\ipykernel_7644\\3434112743.py:2: SettingWithCopyWarning: \n",
            "A value is trying to be set on a copy of a slice from a DataFrame.\n",
            "Try using .loc[row_indexer,col_indexer] = value instead\n",
            "\n",
            "See the caveats in the documentation: https://pandas.pydata.org/pandas-docs/stable/user_guide/indexing.html#returning-a-view-versus-a-copy\n",
            "  df_last_6_months.loc[:, \"purchase_month\"] = df_last_6_months[\"order_purchase_timestamp\"].dt.to_period(\"M\")\n"
          ]
        },
        {
          "data": {
            "text/html": [
              "<div>\n",
              "<style scoped>\n",
              "    .dataframe tbody tr th:only-of-type {\n",
              "        vertical-align: middle;\n",
              "    }\n",
              "\n",
              "    .dataframe tbody tr th {\n",
              "        vertical-align: top;\n",
              "    }\n",
              "\n",
              "    .dataframe thead th {\n",
              "        text-align: right;\n",
              "    }\n",
              "</style>\n",
              "<table border=\"1\" class=\"dataframe\">\n",
              "  <thead>\n",
              "    <tr style=\"text-align: right;\">\n",
              "      <th></th>\n",
              "      <th>purchase_month</th>\n",
              "      <th>order_id</th>\n",
              "    </tr>\n",
              "  </thead>\n",
              "  <tbody>\n",
              "    <tr>\n",
              "      <th>0</th>\n",
              "      <td>2018-04</td>\n",
              "      <td>2755</td>\n",
              "    </tr>\n",
              "    <tr>\n",
              "      <th>1</th>\n",
              "      <td>2018-05</td>\n",
              "      <td>8248</td>\n",
              "    </tr>\n",
              "    <tr>\n",
              "      <th>2</th>\n",
              "      <td>2018-06</td>\n",
              "      <td>7397</td>\n",
              "    </tr>\n",
              "    <tr>\n",
              "      <th>3</th>\n",
              "      <td>2018-07</td>\n",
              "      <td>7351</td>\n",
              "    </tr>\n",
              "    <tr>\n",
              "      <th>4</th>\n",
              "      <td>2018-08</td>\n",
              "      <td>7522</td>\n",
              "    </tr>\n",
              "    <tr>\n",
              "      <th>5</th>\n",
              "      <td>2018-09</td>\n",
              "      <td>16</td>\n",
              "    </tr>\n",
              "    <tr>\n",
              "      <th>6</th>\n",
              "      <td>2018-10</td>\n",
              "      <td>4</td>\n",
              "    </tr>\n",
              "  </tbody>\n",
              "</table>\n",
              "</div>"
            ],
            "text/plain": [
              "  purchase_month  order_id\n",
              "0        2018-04      2755\n",
              "1        2018-05      8248\n",
              "2        2018-06      7397\n",
              "3        2018-07      7351\n",
              "4        2018-08      7522\n",
              "5        2018-09        16\n",
              "6        2018-10         4"
            ]
          },
          "execution_count": 99,
          "metadata": {},
          "output_type": "execute_result"
        }
      ],
      "source": [
        "# Tambahkan kolom bulan pembelian dengan .loc untuk menghindari warning\n",
        "df_last_6_months.loc[:, \"purchase_month\"] = df_last_6_months[\"order_purchase_timestamp\"].dt.to_period(\"M\")\n",
        "\n",
        "# Agregasi data berdasarkan bulan\n",
        "monthly_trend = df_last_6_months.groupby(\"purchase_month\")[\"order_id\"].count().reset_index()\n",
        "\n",
        "# Tampilkan hasil agregasi\n",
        "monthly_trend"
      ]
    },
    {
      "cell_type": "code",
      "execution_count": 100,
      "metadata": {},
      "outputs": [],
      "source": [
        "# Load dataset\n",
        "df = pd.read_csv(\"dashboard/main_data.csv\")\n",
        "\n",
        "# Menghitung jumlah pembelian per produk\n",
        "top_products = df.groupby(\"product_id\")[\"order_item_id\"].count().reset_index()\n",
        "\n",
        "# Mengambil 10 produk teratas\n",
        "top_products = top_products.sort_values(by=\"order_item_id\", ascending=False).head(10)"
      ]
    },
    {
      "cell_type": "code",
      "execution_count": 101,
      "metadata": {},
      "outputs": [
        {
          "data": {
            "text/html": [
              "<div>\n",
              "<style scoped>\n",
              "    .dataframe tbody tr th:only-of-type {\n",
              "        vertical-align: middle;\n",
              "    }\n",
              "\n",
              "    .dataframe tbody tr th {\n",
              "        vertical-align: top;\n",
              "    }\n",
              "\n",
              "    .dataframe thead th {\n",
              "        text-align: right;\n",
              "    }\n",
              "</style>\n",
              "<table border=\"1\" class=\"dataframe\">\n",
              "  <thead>\n",
              "    <tr style=\"text-align: right;\">\n",
              "      <th></th>\n",
              "      <th>product_category_name</th>\n",
              "      <th>order_item_id</th>\n",
              "    </tr>\n",
              "  </thead>\n",
              "  <tbody>\n",
              "    <tr>\n",
              "      <th>13</th>\n",
              "      <td>cama_mesa_banho</td>\n",
              "      <td>11823</td>\n",
              "    </tr>\n",
              "    <tr>\n",
              "      <th>11</th>\n",
              "      <td>beleza_saude</td>\n",
              "      <td>9975</td>\n",
              "    </tr>\n",
              "    <tr>\n",
              "      <th>32</th>\n",
              "      <td>esporte_lazer</td>\n",
              "      <td>8945</td>\n",
              "    </tr>\n",
              "    <tr>\n",
              "      <th>54</th>\n",
              "      <td>moveis_decoracao</td>\n",
              "      <td>8744</td>\n",
              "    </tr>\n",
              "    <tr>\n",
              "      <th>44</th>\n",
              "      <td>informatica_acessorios</td>\n",
              "      <td>8082</td>\n",
              "    </tr>\n",
              "    <tr>\n",
              "      <th>72</th>\n",
              "      <td>utilidades_domesticas</td>\n",
              "      <td>7355</td>\n",
              "    </tr>\n",
              "    <tr>\n",
              "      <th>66</th>\n",
              "      <td>relogios_presentes</td>\n",
              "      <td>6201</td>\n",
              "    </tr>\n",
              "    <tr>\n",
              "      <th>70</th>\n",
              "      <td>telefonia</td>\n",
              "      <td>4721</td>\n",
              "    </tr>\n",
              "    <tr>\n",
              "      <th>40</th>\n",
              "      <td>ferramentas_jardim</td>\n",
              "      <td>4574</td>\n",
              "    </tr>\n",
              "    <tr>\n",
              "      <th>8</th>\n",
              "      <td>automotivo</td>\n",
              "      <td>4379</td>\n",
              "    </tr>\n",
              "  </tbody>\n",
              "</table>\n",
              "</div>"
            ],
            "text/plain": [
              "     product_category_name  order_item_id\n",
              "13         cama_mesa_banho          11823\n",
              "11            beleza_saude           9975\n",
              "32           esporte_lazer           8945\n",
              "54        moveis_decoracao           8744\n",
              "44  informatica_acessorios           8082\n",
              "72   utilidades_domesticas           7355\n",
              "66      relogios_presentes           6201\n",
              "70               telefonia           4721\n",
              "40      ferramentas_jardim           4574\n",
              "8               automotivo           4379"
            ]
          },
          "execution_count": 101,
          "metadata": {},
          "output_type": "execute_result"
        }
      ],
      "source": [
        "# Agregasi jumlah pembelian berdasarkan kategori produk\n",
        "category_trend = df_clean.groupby(\"product_category_name\")[\"order_item_id\"].count().reset_index()\n",
        "category_trend = category_trend.sort_values(by=\"order_item_id\", ascending=False).head(10)\n",
        "\n",
        "# Tampilkan hasil agregasi\n",
        "category_trend"
      ]
    },
    {
      "cell_type": "code",
      "execution_count": 102,
      "metadata": {},
      "outputs": [
        {
          "data": {
            "text/html": [
              "<div>\n",
              "<style scoped>\n",
              "    .dataframe tbody tr th:only-of-type {\n",
              "        vertical-align: middle;\n",
              "    }\n",
              "\n",
              "    .dataframe tbody tr th {\n",
              "        vertical-align: top;\n",
              "    }\n",
              "\n",
              "    .dataframe thead th {\n",
              "        text-align: right;\n",
              "    }\n",
              "</style>\n",
              "<table border=\"1\" class=\"dataframe\">\n",
              "  <thead>\n",
              "    <tr style=\"text-align: right;\">\n",
              "      <th></th>\n",
              "      <th>product_category_name</th>\n",
              "      <th>customer_unique_id</th>\n",
              "    </tr>\n",
              "  </thead>\n",
              "  <tbody>\n",
              "    <tr>\n",
              "      <th>13</th>\n",
              "      <td>cama_mesa_banho</td>\n",
              "      <td>9145</td>\n",
              "    </tr>\n",
              "    <tr>\n",
              "      <th>11</th>\n",
              "      <td>beleza_saude</td>\n",
              "      <td>8678</td>\n",
              "    </tr>\n",
              "    <tr>\n",
              "      <th>32</th>\n",
              "      <td>esporte_lazer</td>\n",
              "      <td>7515</td>\n",
              "    </tr>\n",
              "    <tr>\n",
              "      <th>44</th>\n",
              "      <td>informatica_acessorios</td>\n",
              "      <td>6557</td>\n",
              "    </tr>\n",
              "    <tr>\n",
              "      <th>54</th>\n",
              "      <td>moveis_decoracao</td>\n",
              "      <td>6317</td>\n",
              "    </tr>\n",
              "    <tr>\n",
              "      <th>72</th>\n",
              "      <td>utilidades_domesticas</td>\n",
              "      <td>5821</td>\n",
              "    </tr>\n",
              "    <tr>\n",
              "      <th>66</th>\n",
              "      <td>relogios_presentes</td>\n",
              "      <td>5547</td>\n",
              "    </tr>\n",
              "    <tr>\n",
              "      <th>70</th>\n",
              "      <td>telefonia</td>\n",
              "      <td>4152</td>\n",
              "    </tr>\n",
              "    <tr>\n",
              "      <th>8</th>\n",
              "      <td>automotivo</td>\n",
              "      <td>3852</td>\n",
              "    </tr>\n",
              "    <tr>\n",
              "      <th>12</th>\n",
              "      <td>brinquedos</td>\n",
              "      <td>3844</td>\n",
              "    </tr>\n",
              "  </tbody>\n",
              "</table>\n",
              "</div>"
            ],
            "text/plain": [
              "     product_category_name  customer_unique_id\n",
              "13         cama_mesa_banho                9145\n",
              "11            beleza_saude                8678\n",
              "32           esporte_lazer                7515\n",
              "44  informatica_acessorios                6557\n",
              "54        moveis_decoracao                6317\n",
              "72   utilidades_domesticas                5821\n",
              "66      relogios_presentes                5547\n",
              "70               telefonia                4152\n",
              "8               automotivo                3852\n",
              "12              brinquedos                3844"
            ]
          },
          "execution_count": 102,
          "metadata": {},
          "output_type": "execute_result"
        }
      ],
      "source": [
        "# Hitung jumlah pelanggan unik per kategori produk\n",
        "customer_retention = df_clean.groupby(\"product_category_name\")[\"customer_unique_id\"].nunique().reset_index()\n",
        "customer_retention = customer_retention.sort_values(by=\"customer_unique_id\", ascending=False).head(10)\n",
        "\n",
        "# Tampilkan hasil agregasi\n",
        "customer_retention"
      ]
    },
    {
      "cell_type": "markdown",
      "metadata": {
        "id": "th_Lzl2Fkj9O"
      },
      "source": [
        "**Insight:**\n",
        "\n",
        "Dari hasil eksplorasi data setelah proses cleaning, terdapat beberapa temuan yang dapat dianalisis lebih lanjut. Pada tahap pertama, informasi umum dataset menunjukkan bahwa orders_df memiliki 96.461 entri, dengan beberapa kolom bertipe datetime seperti order_purchase_timestamp, order_approved_at, order_delivered_carrier_date, order_delivered_customer_date, dan order_estimated_delivery_date. Hal ini menegaskan bahwa tipe data telah dikonversi dengan benar selama proses cleaning, sehingga memungkinkan analisis lebih lanjut terkait pola waktu dalam pesanan. Selain itu, dataset ini tidak memiliki missing values lagi setelah proses cleaning, yang berarti semua data sudah siap untuk dianalisis lebih lanjut tanpa perlu penanganan nilai yang hilang.Dari distribusi status pesanan, mayoritas pesanan memiliki status \"delivered\", dengan jumlah mencapai 96.455 pesanan, sedangkan hanya 6 pesanan yang memiliki status \"canceled\". Ini menunjukkan bahwa hampir semua pesanan berhasil dikirimkan, sementara jumlah pembatalan sangat kecil. Meskipun begitu, meskipun proporsinya rendah, analisis lebih lanjut dapat dilakukan untuk memahami alasan pembatalan pesanan, seperti apakah ada pola tertentu dalam produk atau pelanggan tertentu yang lebih sering membatalkan pesanan.\n",
        "\n",
        "Berdasarkan statistik deskriptif, rentang waktu pemesanan dalam dataset mencakup periode dari September 2016 hingga Agustus 2018, dengan rata-rata waktu pembelian terjadi sekitar awal tahun 2018. Data ini bisa menjadi dasar untuk melihat tren penjualan dari waktu ke waktu. Selain itu, dengan melihat order_delivered_customer_date, terlihat bahwa pengiriman pesanan memiliki variasi yang cukup besar, dari beberapa hari hingga lebih dari satu bulan. Analisis lebih lanjut diperlukan untuk mengetahui apakah ada pola keterlambatan dalam pengiriman atau apakah sebagian besar pesanan dikirim tepat waktu sesuai dengan order_estimated_delivery_date.Secara keseluruhan, hasil eksplorasi ini menunjukkan bahwa dataset siap untuk dianalisis lebih lanjut, terutama dalam hal waktu pengiriman, tren pesanan dari waktu ke waktu, serta distribusi status pesanan yang lebih mendetail."
      ]
    },
    {
      "cell_type": "markdown",
      "metadata": {
        "id": "zsyZjqak8DC2"
      },
      "source": [
        "## Visualization & Explanatory Analysis"
      ]
    },
    {
      "cell_type": "code",
      "execution_count": 103,
      "metadata": {},
      "outputs": [
        {
          "data": {
            "image/png": "[encoded data removed]",
            "text/plain": [
              "<Figure size 1200x800 with 16 Axes>"
            ]
          },
          "metadata": {},
          "output_type": "display_data"
        }
      ],
      "source": [
        "# Histogram untuk melihat distribusi data numerik\n",
        "df.hist(figsize=(12,8), bins=30)\n",
        "plt.show()"
      ]
    },
    {
      "cell_type": "code",
      "execution_count": 104,
      "metadata": {},
      "outputs": [
        {
          "data": {
            "image/png": "[encoded data removed]",
            "text/plain": [
              "<Figure size 1200x600 with 1 Axes>"
            ]
          },
          "metadata": {},
          "output_type": "display_data"
        }
      ],
      "source": [
        "# Plot distribusi kategori\n",
        "plt.figure(figsize=(12,6))\n",
        "sns.countplot(y=df['order_status'], order=df['order_status'].value_counts().index)\n",
        "plt.title(\"Distribusi Status Pesanan\")\n",
        "plt.show()"
      ]
    },
    {
      "cell_type": "markdown",
      "metadata": {
        "id": "HZxOiQ6n8DC2"
      },
      "source": [
        "### Pertanyaan 1: Produk Paling Banyak Dibeli dalam 6 Bulan Terakhir & Tren Pembelian?"
      ]
    },
    {
      "cell_type": "code",
      "execution_count": 105,
      "metadata": {},
      "outputs": [
        {
          "data": {
            "image/png": "[encoded data removed]",
            "text/plain": [
              "<Figure size 1200x600 with 1 Axes>"
            ]
          },
          "metadata": {},
          "output_type": "display_data"
        }
      ],
      "source": [
        "plt.figure(figsize=(12, 6))\n",
        "sns.barplot(data=top_products, x=\"product_id\", y=\"order_item_id\", color=\"royalblue\")\n",
        "plt.xticks(rotation=45)\n",
        "plt.xlabel(\"Product ID\")\n",
        "plt.ylabel(\"Jumlah Pembelian\")\n",
        "plt.title(\"Top 10 Produk Paling Banyak Dibeli dalam 6 Bulan Terakhir\")\n",
        "plt.show()"
      ]
    },
    {
      "cell_type": "code",
      "execution_count": 106,
      "metadata": {},
      "outputs": [
        {
          "data": {
            "image/png": "[encoded data removed]",
            "text/plain": [
              "<Figure size 1200x600 with 1 Axes>"
            ]
          },
          "metadata": {},
          "output_type": "display_data"
        }
      ],
      "source": [
        "# Konversi purchase_month menjadi string\n",
        "monthly_trend[\"purchase_month\"] = monthly_trend[\"purchase_month\"].astype(str)\n",
        "\n",
        "# Visualisasi tren pembelian dari waktu ke waktu\n",
        "plt.figure(figsize=(12, 6))\n",
        "sns.lineplot(data=monthly_trend, x=\"purchase_month\", y=\"order_id\", marker=\"o\", linewidth=2, color=\"b\")\n",
        "plt.xticks(rotation=45)\n",
        "plt.xlabel(\"Bulan\")\n",
        "plt.ylabel(\"Jumlah Pembelian\")\n",
        "plt.title(\"Tren Pembelian dalam 6 Bulan Terakhir\")\n",
        "plt.show()"
      ]
    },
    {
      "cell_type": "markdown",
      "metadata": {
        "id": "DgHI7CiU8DC2"
      },
      "source": [
        "### Pertanyaan 2: Pola Pembelian Berdasarkan Kategori & Retensi Pelanggan?"
      ]
    },
    {
      "cell_type": "code",
      "execution_count": 107,
      "metadata": {},
      "outputs": [
        {
          "data": {
            "image/png": "[encoded data removed]",
            "text/plain": [
              "<Figure size 1200x600 with 1 Axes>"
            ]
          },
          "metadata": {},
          "output_type": "display_data"
        }
      ],
      "source": [
        "# Visualisasi kategori produk paling banyak dibeli\n",
        "plt.figure(figsize=(12, 6))\n",
        "sns.barplot(\n",
        "    data=category_trend, \n",
        "    x=\"product_category_name\", \n",
        "    y=\"order_item_id\", \n",
        "    hue=\"product_category_name\", \n",
        "    dodge=False,  \n",
        "    palette=\"coolwarm\",\n",
        "    legend=False  \n",
        ")\n",
        "plt.xticks(rotation=45)\n",
        "plt.xlabel(\"Kategori Produk\")\n",
        "plt.ylabel(\"Jumlah Pembelian\")\n",
        "plt.title(\"Top 10 Kategori Produk Paling Banyak Dibeli\")\n",
        "plt.show()\n"
      ]
    },
    {
      "cell_type": "code",
      "execution_count": 108,
      "metadata": {},
      "outputs": [
        {
          "data": {
            "image/png": "[encoded data removed]",
            "text/plain": [
              "<Figure size 1200x600 with 1 Axes>"
            ]
          },
          "metadata": {},
          "output_type": "display_data"
        }
      ],
      "source": [
        "# Visualisasi kategori dengan tingkat retensi pelanggan tertinggi\n",
        "plt.figure(figsize=(12, 6))\n",
        "sns.barplot(\n",
        "    data=customer_retention, \n",
        "    x=\"product_category_name\", \n",
        "    y=\"customer_unique_id\", \n",
        "    hue=\"product_category_name\",\n",
        "    dodge=False, \n",
        "    palette=\"viridis\",\n",
        "    legend=False \n",
        ")\n",
        "plt.xticks(rotation=45)\n",
        "plt.xlabel(\"Kategori Produk\")\n",
        "plt.ylabel(\"Jumlah Pelanggan Unik\")\n",
        "plt.title(\"Kategori Produk dengan Tingkat Retensi Pelanggan Tertinggi\")\n",
        "plt.show()"
      ]
    },
    {
      "cell_type": "markdown",
      "metadata": {
        "id": "_0-36BDLklRg"
      },
      "source": [
        "**Insight:**\n",
        "\n",
        "Produk Paling Banyak Dibeli dalam 6 Bulan Terakhir & Tren Pembelian:\n",
        "Analisis pertama dilakukan untuk mengidentifikasi produk yang paling banyak dibeli dalam enam bulan terakhir serta bagaimana tren pembeliannya. Dengan mengekstrak data berdasarkan periode waktu terbaru, kita dapat mengamati perubahan tren serta produk mana yang memiliki permintaan tertinggi. Hasil visualisasi menunjukkan bahwa ada beberapa produk yang secara konsisten menjadi pilihan utama pelanggan. Selain itu, dengan membuat tren pembelian bulanan, kita dapat melihat pola naik turunnya jumlah transaksi yang mungkin dipengaruhi oleh faktor musiman, promosi, atau periode tertentu dalam tahun.\n",
        "Pola Pembelian Berdasarkan Kategori & Retensi Pelanggan:\n",
        "Selanjutnya, kita mengeksplorasi bagaimana pola pembelian berdasarkan kategori produk. Beberapa kategori produk memiliki volume transaksi yang lebih tinggi dibandingkan kategori lainnya, yang menunjukkan preferensi pelanggan terhadap jenis produk tertentu. Selain itu, analisis tingkat retensi pelanggan berdasarkan kategori produk dilakukan untuk memahami kategori mana yang memiliki loyalitas pelanggan lebih tinggi. Dengan melihat jumlah pelanggan unik yang kembali melakukan pembelian di kategori tertentu, kita dapat mengidentifikasi kategori dengan tingkat keterikatan pelanggan yang lebih kuat.\n",
        "Hasil analisis ini memberikan wawasan berharga dalam memahami perilaku pelanggan dan tren pasar. Dari pola pembelian dan tingkat retensi pelanggan, dapat ditentukan strategi bisnis yang lebih efektif, seperti meningkatkan stok produk yang memiliki tren meningkat, melakukan promosi pada kategori dengan retensi pelanggan tinggi, atau mengoptimalkan strategi pemasaran untuk kategori dengan performa rendah. Dengan informasi ini, pengambilan keputusan bisnis dapat dilakukan dengan lebih terarah untuk meningkatkan penjualan dan kepuasan pelanggan."
      ]
    },
    {
      "cell_type": "markdown",
      "metadata": {
        "id": "9y4VUsmcYNZ5"
      },
      "source": [
        "## Analisis Lanjutan (Opsional)"
      ]
    },
    {
      "cell_type": "code",
      "execution_count": 109,
      "metadata": {
        "colab": {
          "base_uri": "https://localhost:8080/"
        },
        "id": "iWhnzsJGYUCO",
        "outputId": "d1ad218c-24df-4f9c-aad2-bc9155885cbd"
      },
      "outputs": [
        {
          "data": {
            "text/html": [
              "<div>\n",
              "<style scoped>\n",
              "    .dataframe tbody tr th:only-of-type {\n",
              "        vertical-align: middle;\n",
              "    }\n",
              "\n",
              "    .dataframe tbody tr th {\n",
              "        vertical-align: top;\n",
              "    }\n",
              "\n",
              "    .dataframe thead th {\n",
              "        text-align: right;\n",
              "    }\n",
              "</style>\n",
              "<table border=\"1\" class=\"dataframe\">\n",
              "  <thead>\n",
              "    <tr style=\"text-align: right;\">\n",
              "      <th></th>\n",
              "      <th>customer_unique_id</th>\n",
              "      <th>Recency</th>\n",
              "      <th>Frequency</th>\n",
              "      <th>Monetary</th>\n",
              "    </tr>\n",
              "  </thead>\n",
              "  <tbody>\n",
              "    <tr>\n",
              "      <th>0</th>\n",
              "      <td>0000366f3b9a7992bf8c76cfdf3221e2</td>\n",
              "      <td>160</td>\n",
              "      <td>1</td>\n",
              "      <td>141.90</td>\n",
              "    </tr>\n",
              "    <tr>\n",
              "      <th>1</th>\n",
              "      <td>0000b849f77a49e4a4ce2b2a4ca5be3f</td>\n",
              "      <td>163</td>\n",
              "      <td>1</td>\n",
              "      <td>27.19</td>\n",
              "    </tr>\n",
              "    <tr>\n",
              "      <th>2</th>\n",
              "      <td>0000f46a3911fa3c0805444483337064</td>\n",
              "      <td>585</td>\n",
              "      <td>1</td>\n",
              "      <td>86.22</td>\n",
              "    </tr>\n",
              "    <tr>\n",
              "      <th>3</th>\n",
              "      <td>0000f6ccb0745a6a4b88665a16c9f078</td>\n",
              "      <td>369</td>\n",
              "      <td>1</td>\n",
              "      <td>43.62</td>\n",
              "    </tr>\n",
              "    <tr>\n",
              "      <th>4</th>\n",
              "      <td>0004aac84e0df4da2b147fca70cf8255</td>\n",
              "      <td>336</td>\n",
              "      <td>1</td>\n",
              "      <td>196.89</td>\n",
              "    </tr>\n",
              "  </tbody>\n",
              "</table>\n",
              "</div>"
            ],
            "text/plain": [
              "                 customer_unique_id  Recency  Frequency  Monetary\n",
              "0  0000366f3b9a7992bf8c76cfdf3221e2      160          1    141.90\n",
              "1  0000b849f77a49e4a4ce2b2a4ca5be3f      163          1     27.19\n",
              "2  0000f46a3911fa3c0805444483337064      585          1     86.22\n",
              "3  0000f6ccb0745a6a4b88665a16c9f078      369          1     43.62\n",
              "4  0004aac84e0df4da2b147fca70cf8255      336          1    196.89"
            ]
          },
          "execution_count": 109,
          "metadata": {},
          "output_type": "execute_result"
        }
      ],
      "source": [
        "# Menentukan tanggal referensi sebagai transaksi terbaru dalam dataset\n",
        "reference_date = df_clean[\"order_purchase_timestamp\"].max()\n",
        "\n",
        "# Menghitung Recency (berapa hari sejak transaksi terakhir)\n",
        "df_rfm = df_clean.groupby(\"customer_unique_id\").agg({\n",
        "    \"order_purchase_timestamp\": lambda x: (reference_date - x.max()).days,\n",
        "    \"order_id\": \"count\",\n",
        "    \"payment_value\": \"sum\"\n",
        "}).reset_index()\n",
        "\n",
        "# Ganti nama kolom agar sesuai dengan konsep RFM\n",
        "df_rfm.rename(columns={\n",
        "    \"order_purchase_timestamp\": \"Recency\",\n",
        "    \"order_id\": \"Frequency\",\n",
        "    \"payment_value\": \"Monetary\"\n",
        "}, inplace=True)\n",
        "\n",
        "# Tampilkan 5 baris pertama hasil RFM\n",
        "df_rfm.head()"
      ]
    },
    {
      "cell_type": "code",
      "execution_count": 110,
      "metadata": {},
      "outputs": [
        {
          "data": {
            "image/png": "[encoded data removed]",
            "text/plain": [
              "<Figure size 1800x500 with 3 Axes>"
            ]
          },
          "metadata": {},
          "output_type": "display_data"
        }
      ],
      "source": [
        "# Visualisasi distribusi Recency, Frequency, Monetary\n",
        "fig, axes = plt.subplots(1, 3, figsize=(18, 5))\n",
        "\n",
        "sns.histplot(df_rfm[\"Recency\"], bins=20, kde=True, ax=axes[0], color=\"blue\")\n",
        "axes[0].set_title(\"Distribusi Recency (Hari sejak pembelian terakhir)\")\n",
        "\n",
        "sns.histplot(df_rfm[\"Frequency\"], bins=20, kde=True, ax=axes[1], color=\"green\")\n",
        "axes[1].set_title(\"Distribusi Frequency (Jumlah Transaksi)\")\n",
        "\n",
        "sns.histplot(df_rfm[\"Monetary\"], bins=20, kde=True, ax=axes[2], color=\"red\")\n",
        "axes[2].set_title(\"Distribusi Monetary (Total Pembelian)\")\n",
        "\n",
        "plt.tight_layout()\n",
        "plt.show()"
      ]
    },
    {
      "cell_type": "code",
      "execution_count": 111,
      "metadata": {},
      "outputs": [
        {
          "data": {
            "image/png": "[encoded data removed]",
            "text/plain": [
              "<Figure size 1000x500 with 1 Axes>"
            ]
          },
          "metadata": {},
          "output_type": "display_data"
        }
      ],
      "source": [
        "# Load dataset\n",
        "df_clean = pd.read_csv(\"dashboard/main_data.csv\")\n",
        "\n",
        "# Hitung jumlah pelanggan per kota\n",
        "city_counts = df_clean[\"customer_city\"].value_counts().head(10)\n",
        "\n",
        "# Plot data\n",
        "plt.figure(figsize=(10, 5))\n",
        "city_counts.plot(kind=\"bar\", color=\"skyblue\")\n",
        "plt.xlabel(\"Kota\")\n",
        "plt.ylabel(\"Jumlah Pelanggan\")\n",
        "plt.title(\"10 Kota dengan Pelanggan Terbanyak\")\n",
        "plt.xticks(rotation=45)\n",
        "plt.show()"
      ]
    },
    {
      "cell_type": "markdown",
      "metadata": {
        "id": "_WeHlCeX8DC2"
      },
      "source": [
        "## Conclusion\n",
        "\n",
        "Dalam analisis ini, kita telah melalui beberapa tahapan penting untuk memahami data pelanggan dengan lebih baik. Proses dimulai dengan data gathering, di mana kita mengumpulkan dataset yang berisi informasi pelanggan, termasuk lokasi mereka. Setelah data terkumpul, langkah berikutnya adalah assessing, yaitu mengevaluasi struktur data, mengecek kualitasnya, dan mengidentifikasi potensi masalah seperti nilai yang hilang atau inkonsistensi.\n",
        "Setelah itu, dilakukan data cleaning untuk memastikan dataset bersih dan siap untuk dianalisis. Ini mencakup penanganan nilai yang hilang, duplikasi, serta memastikan format data yang sesuai. Dengan data yang sudah bersih, tahap berikutnya adalah exploratory data analysis (EDA), di mana kita mulai memahami pola-pola dalam data melalui berbagai teknik statistik dan visualisasi awal. Pada tahap ini, kita mencoba menggunakan berbagai metode untuk melihat bagaimana data pelanggan tersebar berdasarkan lokasi mereka.\n",
        "Dalam proses explanation & visualization, kita awalnya mencoba menerapkan heatmap untuk menampilkan distribusi pelanggan secara geografis. Namun, karena keterbatasan memori saat mengolah data dalam jumlah besar, pendekatan ini kurang efektif. Sebagai alternatif, kita memilih metode yang lebih ringan namun tetap memberikan insight yang kuat, yaitu visualisasi dalam bentuk diagram batang untuk menunjukkan kota dengan jumlah pelanggan terbanyak.\n",
        "Analisis lanjutan dilakukan untuk menggali lebih dalam bagaimana distribusi pelanggan berdasarkan lokasi dapat memberikan wawasan strategis. Dari hasil visualisasi, kita bisa melihat bahwa pelanggan terkonsentrasi di beberapa kota besar, yang dapat menjadi dasar pertimbangan dalam pengambilan keputusan bisnis, seperti strategi pemasaran atau ekspansi layanan.\n",
        "Keseluruhan proses ini memberikan pemahaman yang lebih jelas tentang pola data pelanggan, sekaligus menunjukkan pentingnya memilih metode analisis yang sesuai dengan keterbatasan teknis agar tetap mendapatkan wawasan yang bermanfaat tanpa mengorbankan efisiensi."
      ]
    }
  ],
  "metadata": {
    "colab": {
      "provenance": []
    },
    "kernelspec": {
      "display_name": ".venv",
      "language": "python",
      "name": "python3"
    },
    "language_info": {
      "codemirror_mode": {
        "name": "ipython",
        "version": 3
      },
      "file_extension": ".py",
      "mimetype": "text/x-python",
      "name": "python",
      "nbconvert_exporter": "python",
      "pygments_lexer": "ipython3",
      "version": "3.10.6"
    },
    "orig_nbformat": 4
  },
  "nbformat": 4,
  "nbformat_minor": 0
}
