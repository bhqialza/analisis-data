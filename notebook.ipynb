{
  "cells": [
    {
      "cell_type": "markdown",
      "metadata": {
        "id": "H9wADwK78DCz"
      },
      "source": [
        "# Proyek Analisis Data: [E-Commerce Public Dataset]\n",
        "- **Nama:** [M. Baihaqi Alza]\n",
        "- **Email:** [baihaqialza1289@gmail.com]\n",
        "- **ID Dicoding:** [bhqialza]"
      ]
    },
    {
      "cell_type": "markdown",
      "metadata": {
        "id": "eE0raob58DC0"
      },
      "source": [
        "## Menentukan Pertanyaan Bisnis"
      ]
    },
    {
      "cell_type": "markdown",
      "metadata": {
        "id": "GmQeQ5YF8DC0"
      },
      "source": [
        "- Produk Paling Banyak Dibeli dalam 6 Bulan Terakhir & Tren Pembelian?\n",
        "- Pola Pembelian Berdasarkan Kategori & Retensi Pelanggan?"
      ]
    },
    {
      "cell_type": "markdown",
      "metadata": {
        "id": "H-z4QGlO8DC1"
      },
      "source": [
        "## Import Semua Packages/Library yang Digunakan"
      ]
    },
    {
      "cell_type": "code",
      "execution_count": 14,
      "metadata": {
        "id": "FVYwaObI8DC1"
      },
      "outputs": [],
      "source": [
        "import pandas as pd\n",
        "import numpy as np\n",
        "import matplotlib.pyplot as plt\n",
        "import seaborn as sns\n",
        "from datetime import datetime\n",
        "from geopy.geocoders import Nominatim"
      ]
    },
    {
      "cell_type": "markdown",
      "metadata": {
        "id": "h_Sh51Xy8DC1"
      },
      "source": [
        "## Data Wrangling"
      ]
    },
    {
      "cell_type": "markdown",
      "metadata": {
        "id": "sXU2GBYu8DC1"
      },
      "source": [
        "### Gathering Data"
      ]
    },
    {
      "cell_type": "code",
      "execution_count": 6,
      "metadata": {
        "colab": {
          "base_uri": "https://localhost:8080/"
        },
        "id": "zjCBk1BI8DC1",
        "outputId": "92b5351f-2db0-4ea1-a53d-52e8899757ba"
      },
      "outputs": [],
      "source": [
        "import pandas as pd\n",
        "\n",
        "# Path folder data\n",
        "data_path = \"data/\"\n",
        "\n",
        "# Load dataset\n",
        "df_orders = pd.read_csv(data_path + \"orders_dataset.csv\")\n",
        "df_order_items = pd.read_csv(data_path + \"order_items_dataset.csv\")\n",
        "df_products = pd.read_csv(data_path + \"products_dataset.csv\")\n",
        "df_customers = pd.read_csv(data_path + \"customers_dataset.csv\")\n",
        "df_sellers = pd.read_csv(data_path + \"sellers_dataset.csv\")\n",
        "df_payments = pd.read_csv(data_path + \"order_payments_dataset.csv\")\n",
        "df_reviews = pd.read_csv(data_path + \"order_reviews_dataset.csv\")\n",
        "df_geolocation = pd.read_csv(data_path + \"geolocation_dataset.csv\")\n",
        "df_category_translation = pd.read_csv(data_path + \"product_category_name_translation.csv\")"
      ]
    },
    {
      "cell_type": "code",
      "execution_count": 7,
      "metadata": {},
      "outputs": [
        {
          "data": {
            "text/html": [
              "<div>\n",
              "<style scoped>\n",
              "    .dataframe tbody tr th:only-of-type {\n",
              "        vertical-align: middle;\n",
              "    }\n",
              "\n",
              "    .dataframe tbody tr th {\n",
              "        vertical-align: top;\n",
              "    }\n",
              "\n",
              "    .dataframe thead th {\n",
              "        text-align: right;\n",
              "    }\n",
              "</style>\n",
              "<table border=\"1\" class=\"dataframe\">\n",
              "  <thead>\n",
              "    <tr style=\"text-align: right;\">\n",
              "      <th></th>\n",
              "      <th>order_id</th>\n",
              "      <th>customer_id</th>\n",
              "      <th>order_status</th>\n",
              "      <th>order_purchase_timestamp</th>\n",
              "      <th>order_approved_at</th>\n",
              "      <th>order_delivered_carrier_date</th>\n",
              "      <th>order_delivered_customer_date</th>\n",
              "      <th>order_estimated_delivery_date</th>\n",
              "    </tr>\n",
              "  </thead>\n",
              "  <tbody>\n",
              "    <tr>\n",
              "      <th>0</th>\n",
              "      <td>e481f51cbdc54678b7cc49136f2d6af7</td>\n",
              "      <td>9ef432eb6251297304e76186b10a928d</td>\n",
              "      <td>delivered</td>\n",
              "      <td>2017-10-02 10:56:33</td>\n",
              "      <td>2017-10-02 11:07:15</td>\n",
              "      <td>2017-10-04 19:55:00</td>\n",
              "      <td>2017-10-10 21:25:13</td>\n",
              "      <td>2017-10-18 00:00:00</td>\n",
              "    </tr>\n",
              "    <tr>\n",
              "      <th>1</th>\n",
              "      <td>53cdb2fc8bc7dce0b6741e2150273451</td>\n",
              "      <td>b0830fb4747a6c6d20dea0b8c802d7ef</td>\n",
              "      <td>delivered</td>\n",
              "      <td>2018-07-24 20:41:37</td>\n",
              "      <td>2018-07-26 03:24:27</td>\n",
              "      <td>2018-07-26 14:31:00</td>\n",
              "      <td>2018-08-07 15:27:45</td>\n",
              "      <td>2018-08-13 00:00:00</td>\n",
              "    </tr>\n",
              "    <tr>\n",
              "      <th>2</th>\n",
              "      <td>47770eb9100c2d0c44946d9cf07ec65d</td>\n",
              "      <td>41ce2a54c0b03bf3443c3d931a367089</td>\n",
              "      <td>delivered</td>\n",
              "      <td>2018-08-08 08:38:49</td>\n",
              "      <td>2018-08-08 08:55:23</td>\n",
              "      <td>2018-08-08 13:50:00</td>\n",
              "      <td>2018-08-17 18:06:29</td>\n",
              "      <td>2018-09-04 00:00:00</td>\n",
              "    </tr>\n",
              "    <tr>\n",
              "      <th>3</th>\n",
              "      <td>949d5b44dbf5de918fe9c16f97b45f8a</td>\n",
              "      <td>f88197465ea7920adcdbec7375364d82</td>\n",
              "      <td>delivered</td>\n",
              "      <td>2017-11-18 19:28:06</td>\n",
              "      <td>2017-11-18 19:45:59</td>\n",
              "      <td>2017-11-22 13:39:59</td>\n",
              "      <td>2017-12-02 00:28:42</td>\n",
              "      <td>2017-12-15 00:00:00</td>\n",
              "    </tr>\n",
              "    <tr>\n",
              "      <th>4</th>\n",
              "      <td>ad21c59c0840e6cb83a9ceb5573f8159</td>\n",
              "      <td>8ab97904e6daea8866dbdbc4fb7aad2c</td>\n",
              "      <td>delivered</td>\n",
              "      <td>2018-02-13 21:18:39</td>\n",
              "      <td>2018-02-13 22:20:29</td>\n",
              "      <td>2018-02-14 19:46:34</td>\n",
              "      <td>2018-02-16 18:17:02</td>\n",
              "      <td>2018-02-26 00:00:00</td>\n",
              "    </tr>\n",
              "  </tbody>\n",
              "</table>\n",
              "</div>"
            ],
            "text/plain": [
              "                           order_id                       customer_id  \\\n",
              "0  e481f51cbdc54678b7cc49136f2d6af7  9ef432eb6251297304e76186b10a928d   \n",
              "1  53cdb2fc8bc7dce0b6741e2150273451  b0830fb4747a6c6d20dea0b8c802d7ef   \n",
              "2  47770eb9100c2d0c44946d9cf07ec65d  41ce2a54c0b03bf3443c3d931a367089   \n",
              "3  949d5b44dbf5de918fe9c16f97b45f8a  f88197465ea7920adcdbec7375364d82   \n",
              "4  ad21c59c0840e6cb83a9ceb5573f8159  8ab97904e6daea8866dbdbc4fb7aad2c   \n",
              "\n",
              "  order_status order_purchase_timestamp    order_approved_at  \\\n",
              "0    delivered      2017-10-02 10:56:33  2017-10-02 11:07:15   \n",
              "1    delivered      2018-07-24 20:41:37  2018-07-26 03:24:27   \n",
              "2    delivered      2018-08-08 08:38:49  2018-08-08 08:55:23   \n",
              "3    delivered      2017-11-18 19:28:06  2017-11-18 19:45:59   \n",
              "4    delivered      2018-02-13 21:18:39  2018-02-13 22:20:29   \n",
              "\n",
              "  order_delivered_carrier_date order_delivered_customer_date  \\\n",
              "0          2017-10-04 19:55:00           2017-10-10 21:25:13   \n",
              "1          2018-07-26 14:31:00           2018-08-07 15:27:45   \n",
              "2          2018-08-08 13:50:00           2018-08-17 18:06:29   \n",
              "3          2017-11-22 13:39:59           2017-12-02 00:28:42   \n",
              "4          2018-02-14 19:46:34           2018-02-16 18:17:02   \n",
              "\n",
              "  order_estimated_delivery_date  \n",
              "0           2017-10-18 00:00:00  \n",
              "1           2018-08-13 00:00:00  \n",
              "2           2018-09-04 00:00:00  \n",
              "3           2017-12-15 00:00:00  \n",
              "4           2018-02-26 00:00:00  "
            ]
          },
          "execution_count": 7,
          "metadata": {},
          "output_type": "execute_result"
        }
      ],
      "source": [
        "# Menampilkan 5 baris pertama dari setiap dataset\n",
        "df_orders.head()\n"
      ]
    },
    {
      "cell_type": "code",
      "execution_count": null,
      "metadata": {},
      "outputs": [
        {
          "data": {
            "text/html": [
              "<div>\n",
              "<style scoped>\n",
              "    .dataframe tbody tr th:only-of-type {\n",
              "        vertical-align: middle;\n",
              "    }\n",
              "\n",
              "    .dataframe tbody tr th {\n",
              "        vertical-align: top;\n",
              "    }\n",
              "\n",
              "    .dataframe thead th {\n",
              "        text-align: right;\n",
              "    }\n",
              "</style>\n",
              "<table border=\"1\" class=\"dataframe\">\n",
              "  <thead>\n",
              "    <tr style=\"text-align: right;\">\n",
              "      <th></th>\n",
              "      <th>order_id</th>\n",
              "      <th>order_item_id</th>\n",
              "      <th>product_id</th>\n",
              "      <th>seller_id</th>\n",
              "      <th>shipping_limit_date</th>\n",
              "      <th>price</th>\n",
              "      <th>freight_value</th>\n",
              "    </tr>\n",
              "  </thead>\n",
              "  <tbody>\n",
              "    <tr>\n",
              "      <th>0</th>\n",
              "      <td>00010242fe8c5a6d1ba2dd792cb16214</td>\n",
              "      <td>1</td>\n",
              "      <td>4244733e06e7ecb4970a6e2683c13e61</td>\n",
              "      <td>48436dade18ac8b2bce089ec2a041202</td>\n",
              "      <td>2017-09-19 09:45:35</td>\n",
              "      <td>58.90</td>\n",
              "      <td>13.29</td>\n",
              "    </tr>\n",
              "    <tr>\n",
              "      <th>1</th>\n",
              "      <td>00018f77f2f0320c557190d7a144bdd3</td>\n",
              "      <td>1</td>\n",
              "      <td>e5f2d52b802189ee658865ca93d83a8f</td>\n",
              "      <td>dd7ddc04e1b6c2c614352b383efe2d36</td>\n",
              "      <td>2017-05-03 11:05:13</td>\n",
              "      <td>239.90</td>\n",
              "      <td>19.93</td>\n",
              "    </tr>\n",
              "    <tr>\n",
              "      <th>2</th>\n",
              "      <td>000229ec398224ef6ca0657da4fc703e</td>\n",
              "      <td>1</td>\n",
              "      <td>c777355d18b72b67abbeef9df44fd0fd</td>\n",
              "      <td>5b51032eddd242adc84c38acab88f23d</td>\n",
              "      <td>2018-01-18 14:48:30</td>\n",
              "      <td>199.00</td>\n",
              "      <td>17.87</td>\n",
              "    </tr>\n",
              "    <tr>\n",
              "      <th>3</th>\n",
              "      <td>00024acbcdf0a6daa1e931b038114c75</td>\n",
              "      <td>1</td>\n",
              "      <td>7634da152a4610f1595efa32f14722fc</td>\n",
              "      <td>9d7a1d34a5052409006425275ba1c2b4</td>\n",
              "      <td>2018-08-15 10:10:18</td>\n",
              "      <td>12.99</td>\n",
              "      <td>12.79</td>\n",
              "    </tr>\n",
              "    <tr>\n",
              "      <th>4</th>\n",
              "      <td>00042b26cf59d7ce69dfabb4e55b4fd9</td>\n",
              "      <td>1</td>\n",
              "      <td>ac6c3623068f30de03045865e4e10089</td>\n",
              "      <td>df560393f3a51e74553ab94004ba5c87</td>\n",
              "      <td>2017-02-13 13:57:51</td>\n",
              "      <td>199.90</td>\n",
              "      <td>18.14</td>\n",
              "    </tr>\n",
              "  </tbody>\n",
              "</table>\n",
              "</div>"
            ],
            "text/plain": [
              "                           order_id  order_item_id  \\\n",
              "0  00010242fe8c5a6d1ba2dd792cb16214              1   \n",
              "1  00018f77f2f0320c557190d7a144bdd3              1   \n",
              "2  000229ec398224ef6ca0657da4fc703e              1   \n",
              "3  00024acbcdf0a6daa1e931b038114c75              1   \n",
              "4  00042b26cf59d7ce69dfabb4e55b4fd9              1   \n",
              "\n",
              "                         product_id                         seller_id  \\\n",
              "0  4244733e06e7ecb4970a6e2683c13e61  48436dade18ac8b2bce089ec2a041202   \n",
              "1  e5f2d52b802189ee658865ca93d83a8f  dd7ddc04e1b6c2c614352b383efe2d36   \n",
              "2  c777355d18b72b67abbeef9df44fd0fd  5b51032eddd242adc84c38acab88f23d   \n",
              "3  7634da152a4610f1595efa32f14722fc  9d7a1d34a5052409006425275ba1c2b4   \n",
              "4  ac6c3623068f30de03045865e4e10089  df560393f3a51e74553ab94004ba5c87   \n",
              "\n",
              "   shipping_limit_date   price  freight_value  \n",
              "0  2017-09-19 09:45:35   58.90          13.29  \n",
              "1  2017-05-03 11:05:13  239.90          19.93  \n",
              "2  2018-01-18 14:48:30  199.00          17.87  \n",
              "3  2018-08-15 10:10:18   12.99          12.79  \n",
              "4  2017-02-13 13:57:51  199.90          18.14  "
            ]
          },
          "execution_count": 8,
          "metadata": {},
          "output_type": "execute_result"
        }
      ],
      "source": [
        "df_order_items.head()"
      ]
    },
    {
      "cell_type": "code",
      "execution_count": 9,
      "metadata": {},
      "outputs": [
        {
          "data": {
            "text/html": [
              "<div>\n",
              "<style scoped>\n",
              "    .dataframe tbody tr th:only-of-type {\n",
              "        vertical-align: middle;\n",
              "    }\n",
              "\n",
              "    .dataframe tbody tr th {\n",
              "        vertical-align: top;\n",
              "    }\n",
              "\n",
              "    .dataframe thead th {\n",
              "        text-align: right;\n",
              "    }\n",
              "</style>\n",
              "<table border=\"1\" class=\"dataframe\">\n",
              "  <thead>\n",
              "    <tr style=\"text-align: right;\">\n",
              "      <th></th>\n",
              "      <th>product_id</th>\n",
              "      <th>product_category_name</th>\n",
              "      <th>product_name_lenght</th>\n",
              "      <th>product_description_lenght</th>\n",
              "      <th>product_photos_qty</th>\n",
              "      <th>product_weight_g</th>\n",
              "      <th>product_length_cm</th>\n",
              "      <th>product_height_cm</th>\n",
              "      <th>product_width_cm</th>\n",
              "    </tr>\n",
              "  </thead>\n",
              "  <tbody>\n",
              "    <tr>\n",
              "      <th>0</th>\n",
              "      <td>1e9e8ef04dbcff4541ed26657ea517e5</td>\n",
              "      <td>perfumaria</td>\n",
              "      <td>40.0</td>\n",
              "      <td>287.0</td>\n",
              "      <td>1.0</td>\n",
              "      <td>225.0</td>\n",
              "      <td>16.0</td>\n",
              "      <td>10.0</td>\n",
              "      <td>14.0</td>\n",
              "    </tr>\n",
              "    <tr>\n",
              "      <th>1</th>\n",
              "      <td>3aa071139cb16b67ca9e5dea641aaa2f</td>\n",
              "      <td>artes</td>\n",
              "      <td>44.0</td>\n",
              "      <td>276.0</td>\n",
              "      <td>1.0</td>\n",
              "      <td>1000.0</td>\n",
              "      <td>30.0</td>\n",
              "      <td>18.0</td>\n",
              "      <td>20.0</td>\n",
              "    </tr>\n",
              "    <tr>\n",
              "      <th>2</th>\n",
              "      <td>96bd76ec8810374ed1b65e291975717f</td>\n",
              "      <td>esporte_lazer</td>\n",
              "      <td>46.0</td>\n",
              "      <td>250.0</td>\n",
              "      <td>1.0</td>\n",
              "      <td>154.0</td>\n",
              "      <td>18.0</td>\n",
              "      <td>9.0</td>\n",
              "      <td>15.0</td>\n",
              "    </tr>\n",
              "    <tr>\n",
              "      <th>3</th>\n",
              "      <td>cef67bcfe19066a932b7673e239eb23d</td>\n",
              "      <td>bebes</td>\n",
              "      <td>27.0</td>\n",
              "      <td>261.0</td>\n",
              "      <td>1.0</td>\n",
              "      <td>371.0</td>\n",
              "      <td>26.0</td>\n",
              "      <td>4.0</td>\n",
              "      <td>26.0</td>\n",
              "    </tr>\n",
              "    <tr>\n",
              "      <th>4</th>\n",
              "      <td>9dc1a7de274444849c219cff195d0b71</td>\n",
              "      <td>utilidades_domesticas</td>\n",
              "      <td>37.0</td>\n",
              "      <td>402.0</td>\n",
              "      <td>4.0</td>\n",
              "      <td>625.0</td>\n",
              "      <td>20.0</td>\n",
              "      <td>17.0</td>\n",
              "      <td>13.0</td>\n",
              "    </tr>\n",
              "  </tbody>\n",
              "</table>\n",
              "</div>"
            ],
            "text/plain": [
              "                         product_id  product_category_name  \\\n",
              "0  1e9e8ef04dbcff4541ed26657ea517e5             perfumaria   \n",
              "1  3aa071139cb16b67ca9e5dea641aaa2f                  artes   \n",
              "2  96bd76ec8810374ed1b65e291975717f          esporte_lazer   \n",
              "3  cef67bcfe19066a932b7673e239eb23d                  bebes   \n",
              "4  9dc1a7de274444849c219cff195d0b71  utilidades_domesticas   \n",
              "\n",
              "   product_name_lenght  product_description_lenght  product_photos_qty  \\\n",
              "0                 40.0                       287.0                 1.0   \n",
              "1                 44.0                       276.0                 1.0   \n",
              "2                 46.0                       250.0                 1.0   \n",
              "3                 27.0                       261.0                 1.0   \n",
              "4                 37.0                       402.0                 4.0   \n",
              "\n",
              "   product_weight_g  product_length_cm  product_height_cm  product_width_cm  \n",
              "0             225.0               16.0               10.0              14.0  \n",
              "1            1000.0               30.0               18.0              20.0  \n",
              "2             154.0               18.0                9.0              15.0  \n",
              "3             371.0               26.0                4.0              26.0  \n",
              "4             625.0               20.0               17.0              13.0  "
            ]
          },
          "execution_count": 9,
          "metadata": {},
          "output_type": "execute_result"
        }
      ],
      "source": [
        "df_products.head()\n"
      ]
    },
    {
      "cell_type": "code",
      "execution_count": 10,
      "metadata": {},
      "outputs": [
        {
          "data": {
            "text/html": [
              "<div>\n",
              "<style scoped>\n",
              "    .dataframe tbody tr th:only-of-type {\n",
              "        vertical-align: middle;\n",
              "    }\n",
              "\n",
              "    .dataframe tbody tr th {\n",
              "        vertical-align: top;\n",
              "    }\n",
              "\n",
              "    .dataframe thead th {\n",
              "        text-align: right;\n",
              "    }\n",
              "</style>\n",
              "<table border=\"1\" class=\"dataframe\">\n",
              "  <thead>\n",
              "    <tr style=\"text-align: right;\">\n",
              "      <th></th>\n",
              "      <th>customer_id</th>\n",
              "      <th>customer_unique_id</th>\n",
              "      <th>customer_zip_code_prefix</th>\n",
              "      <th>customer_city</th>\n",
              "      <th>customer_state</th>\n",
              "    </tr>\n",
              "  </thead>\n",
              "  <tbody>\n",
              "    <tr>\n",
              "      <th>0</th>\n",
              "      <td>06b8999e2fba1a1fbc88172c00ba8bc7</td>\n",
              "      <td>861eff4711a542e4b93843c6dd7febb0</td>\n",
              "      <td>14409</td>\n",
              "      <td>franca</td>\n",
              "      <td>SP</td>\n",
              "    </tr>\n",
              "    <tr>\n",
              "      <th>1</th>\n",
              "      <td>18955e83d337fd6b2def6b18a428ac77</td>\n",
              "      <td>290c77bc529b7ac935b93aa66c333dc3</td>\n",
              "      <td>9790</td>\n",
              "      <td>sao bernardo do campo</td>\n",
              "      <td>SP</td>\n",
              "    </tr>\n",
              "    <tr>\n",
              "      <th>2</th>\n",
              "      <td>4e7b3e00288586ebd08712fdd0374a03</td>\n",
              "      <td>060e732b5b29e8181a18229c7b0b2b5e</td>\n",
              "      <td>1151</td>\n",
              "      <td>sao paulo</td>\n",
              "      <td>SP</td>\n",
              "    </tr>\n",
              "    <tr>\n",
              "      <th>3</th>\n",
              "      <td>b2b6027bc5c5109e529d4dc6358b12c3</td>\n",
              "      <td>259dac757896d24d7702b9acbbff3f3c</td>\n",
              "      <td>8775</td>\n",
              "      <td>mogi das cruzes</td>\n",
              "      <td>SP</td>\n",
              "    </tr>\n",
              "    <tr>\n",
              "      <th>4</th>\n",
              "      <td>4f2d8ab171c80ec8364f7c12e35b23ad</td>\n",
              "      <td>345ecd01c38d18a9036ed96c73b8d066</td>\n",
              "      <td>13056</td>\n",
              "      <td>campinas</td>\n",
              "      <td>SP</td>\n",
              "    </tr>\n",
              "  </tbody>\n",
              "</table>\n",
              "</div>"
            ],
            "text/plain": [
              "                        customer_id                customer_unique_id  \\\n",
              "0  06b8999e2fba1a1fbc88172c00ba8bc7  861eff4711a542e4b93843c6dd7febb0   \n",
              "1  18955e83d337fd6b2def6b18a428ac77  290c77bc529b7ac935b93aa66c333dc3   \n",
              "2  4e7b3e00288586ebd08712fdd0374a03  060e732b5b29e8181a18229c7b0b2b5e   \n",
              "3  b2b6027bc5c5109e529d4dc6358b12c3  259dac757896d24d7702b9acbbff3f3c   \n",
              "4  4f2d8ab171c80ec8364f7c12e35b23ad  345ecd01c38d18a9036ed96c73b8d066   \n",
              "\n",
              "   customer_zip_code_prefix          customer_city customer_state  \n",
              "0                     14409                 franca             SP  \n",
              "1                      9790  sao bernardo do campo             SP  \n",
              "2                      1151              sao paulo             SP  \n",
              "3                      8775        mogi das cruzes             SP  \n",
              "4                     13056               campinas             SP  "
            ]
          },
          "execution_count": 10,
          "metadata": {},
          "output_type": "execute_result"
        }
      ],
      "source": [
        "df_customers.head()"
      ]
    },
    {
      "cell_type": "code",
      "execution_count": 11,
      "metadata": {},
      "outputs": [
        {
          "data": {
            "text/html": [
              "<div>\n",
              "<style scoped>\n",
              "    .dataframe tbody tr th:only-of-type {\n",
              "        vertical-align: middle;\n",
              "    }\n",
              "\n",
              "    .dataframe tbody tr th {\n",
              "        vertical-align: top;\n",
              "    }\n",
              "\n",
              "    .dataframe thead th {\n",
              "        text-align: right;\n",
              "    }\n",
              "</style>\n",
              "<table border=\"1\" class=\"dataframe\">\n",
              "  <thead>\n",
              "    <tr style=\"text-align: right;\">\n",
              "      <th></th>\n",
              "      <th>seller_id</th>\n",
              "      <th>seller_zip_code_prefix</th>\n",
              "      <th>seller_city</th>\n",
              "      <th>seller_state</th>\n",
              "    </tr>\n",
              "  </thead>\n",
              "  <tbody>\n",
              "    <tr>\n",
              "      <th>0</th>\n",
              "      <td>3442f8959a84dea7ee197c632cb2df15</td>\n",
              "      <td>13023</td>\n",
              "      <td>campinas</td>\n",
              "      <td>SP</td>\n",
              "    </tr>\n",
              "    <tr>\n",
              "      <th>1</th>\n",
              "      <td>d1b65fc7debc3361ea86b5f14c68d2e2</td>\n",
              "      <td>13844</td>\n",
              "      <td>mogi guacu</td>\n",
              "      <td>SP</td>\n",
              "    </tr>\n",
              "    <tr>\n",
              "      <th>2</th>\n",
              "      <td>ce3ad9de960102d0677a81f5d0bb7b2d</td>\n",
              "      <td>20031</td>\n",
              "      <td>rio de janeiro</td>\n",
              "      <td>RJ</td>\n",
              "    </tr>\n",
              "    <tr>\n",
              "      <th>3</th>\n",
              "      <td>c0f3eea2e14555b6faeea3dd58c1b1c3</td>\n",
              "      <td>4195</td>\n",
              "      <td>sao paulo</td>\n",
              "      <td>SP</td>\n",
              "    </tr>\n",
              "    <tr>\n",
              "      <th>4</th>\n",
              "      <td>51a04a8a6bdcb23deccc82b0b80742cf</td>\n",
              "      <td>12914</td>\n",
              "      <td>braganca paulista</td>\n",
              "      <td>SP</td>\n",
              "    </tr>\n",
              "  </tbody>\n",
              "</table>\n",
              "</div>"
            ],
            "text/plain": [
              "                          seller_id  seller_zip_code_prefix  \\\n",
              "0  3442f8959a84dea7ee197c632cb2df15                   13023   \n",
              "1  d1b65fc7debc3361ea86b5f14c68d2e2                   13844   \n",
              "2  ce3ad9de960102d0677a81f5d0bb7b2d                   20031   \n",
              "3  c0f3eea2e14555b6faeea3dd58c1b1c3                    4195   \n",
              "4  51a04a8a6bdcb23deccc82b0b80742cf                   12914   \n",
              "\n",
              "         seller_city seller_state  \n",
              "0           campinas           SP  \n",
              "1         mogi guacu           SP  \n",
              "2     rio de janeiro           RJ  \n",
              "3          sao paulo           SP  \n",
              "4  braganca paulista           SP  "
            ]
          },
          "execution_count": 11,
          "metadata": {},
          "output_type": "execute_result"
        }
      ],
      "source": [
        "df_sellers.head()\n"
      ]
    },
    {
      "cell_type": "code",
      "execution_count": 12,
      "metadata": {},
      "outputs": [
        {
          "data": {
            "text/html": [
              "<div>\n",
              "<style scoped>\n",
              "    .dataframe tbody tr th:only-of-type {\n",
              "        vertical-align: middle;\n",
              "    }\n",
              "\n",
              "    .dataframe tbody tr th {\n",
              "        vertical-align: top;\n",
              "    }\n",
              "\n",
              "    .dataframe thead th {\n",
              "        text-align: right;\n",
              "    }\n",
              "</style>\n",
              "<table border=\"1\" class=\"dataframe\">\n",
              "  <thead>\n",
              "    <tr style=\"text-align: right;\">\n",
              "      <th></th>\n",
              "      <th>order_id</th>\n",
              "      <th>payment_sequential</th>\n",
              "      <th>payment_type</th>\n",
              "      <th>payment_installments</th>\n",
              "      <th>payment_value</th>\n",
              "    </tr>\n",
              "  </thead>\n",
              "  <tbody>\n",
              "    <tr>\n",
              "      <th>0</th>\n",
              "      <td>b81ef226f3fe1789b1e8b2acac839d17</td>\n",
              "      <td>1</td>\n",
              "      <td>credit_card</td>\n",
              "      <td>8</td>\n",
              "      <td>99.33</td>\n",
              "    </tr>\n",
              "    <tr>\n",
              "      <th>1</th>\n",
              "      <td>a9810da82917af2d9aefd1278f1dcfa0</td>\n",
              "      <td>1</td>\n",
              "      <td>credit_card</td>\n",
              "      <td>1</td>\n",
              "      <td>24.39</td>\n",
              "    </tr>\n",
              "    <tr>\n",
              "      <th>2</th>\n",
              "      <td>25e8ea4e93396b6fa0d3dd708e76c1bd</td>\n",
              "      <td>1</td>\n",
              "      <td>credit_card</td>\n",
              "      <td>1</td>\n",
              "      <td>65.71</td>\n",
              "    </tr>\n",
              "    <tr>\n",
              "      <th>3</th>\n",
              "      <td>ba78997921bbcdc1373bb41e913ab953</td>\n",
              "      <td>1</td>\n",
              "      <td>credit_card</td>\n",
              "      <td>8</td>\n",
              "      <td>107.78</td>\n",
              "    </tr>\n",
              "    <tr>\n",
              "      <th>4</th>\n",
              "      <td>42fdf880ba16b47b59251dd489d4441a</td>\n",
              "      <td>1</td>\n",
              "      <td>credit_card</td>\n",
              "      <td>2</td>\n",
              "      <td>128.45</td>\n",
              "    </tr>\n",
              "  </tbody>\n",
              "</table>\n",
              "</div>"
            ],
            "text/plain": [
              "                           order_id  payment_sequential payment_type  \\\n",
              "0  b81ef226f3fe1789b1e8b2acac839d17                   1  credit_card   \n",
              "1  a9810da82917af2d9aefd1278f1dcfa0                   1  credit_card   \n",
              "2  25e8ea4e93396b6fa0d3dd708e76c1bd                   1  credit_card   \n",
              "3  ba78997921bbcdc1373bb41e913ab953                   1  credit_card   \n",
              "4  42fdf880ba16b47b59251dd489d4441a                   1  credit_card   \n",
              "\n",
              "   payment_installments  payment_value  \n",
              "0                     8          99.33  \n",
              "1                     1          24.39  \n",
              "2                     1          65.71  \n",
              "3                     8         107.78  \n",
              "4                     2         128.45  "
            ]
          },
          "execution_count": 12,
          "metadata": {},
          "output_type": "execute_result"
        }
      ],
      "source": [
        "df_payments.head()\n"
      ]
    },
    {
      "cell_type": "code",
      "execution_count": 13,
      "metadata": {},
      "outputs": [
        {
          "data": {
            "text/html": [
              "<div>\n",
              "<style scoped>\n",
              "    .dataframe tbody tr th:only-of-type {\n",
              "        vertical-align: middle;\n",
              "    }\n",
              "\n",
              "    .dataframe tbody tr th {\n",
              "        vertical-align: top;\n",
              "    }\n",
              "\n",
              "    .dataframe thead th {\n",
              "        text-align: right;\n",
              "    }\n",
              "</style>\n",
              "<table border=\"1\" class=\"dataframe\">\n",
              "  <thead>\n",
              "    <tr style=\"text-align: right;\">\n",
              "      <th></th>\n",
              "      <th>review_id</th>\n",
              "      <th>order_id</th>\n",
              "      <th>review_score</th>\n",
              "      <th>review_comment_title</th>\n",
              "      <th>review_comment_message</th>\n",
              "      <th>review_creation_date</th>\n",
              "      <th>review_answer_timestamp</th>\n",
              "    </tr>\n",
              "  </thead>\n",
              "  <tbody>\n",
              "    <tr>\n",
              "      <th>0</th>\n",
              "      <td>7bc2406110b926393aa56f80a40eba40</td>\n",
              "      <td>73fc7af87114b39712e6da79b0a377eb</td>\n",
              "      <td>4</td>\n",
              "      <td>NaN</td>\n",
              "      <td>NaN</td>\n",
              "      <td>2018-01-18 00:00:00</td>\n",
              "      <td>2018-01-18 21:46:59</td>\n",
              "    </tr>\n",
              "    <tr>\n",
              "      <th>1</th>\n",
              "      <td>80e641a11e56f04c1ad469d5645fdfde</td>\n",
              "      <td>a548910a1c6147796b98fdf73dbeba33</td>\n",
              "      <td>5</td>\n",
              "      <td>NaN</td>\n",
              "      <td>NaN</td>\n",
              "      <td>2018-03-10 00:00:00</td>\n",
              "      <td>2018-03-11 03:05:13</td>\n",
              "    </tr>\n",
              "    <tr>\n",
              "      <th>2</th>\n",
              "      <td>228ce5500dc1d8e020d8d1322874b6f0</td>\n",
              "      <td>f9e4b658b201a9f2ecdecbb34bed034b</td>\n",
              "      <td>5</td>\n",
              "      <td>NaN</td>\n",
              "      <td>NaN</td>\n",
              "      <td>2018-02-17 00:00:00</td>\n",
              "      <td>2018-02-18 14:36:24</td>\n",
              "    </tr>\n",
              "    <tr>\n",
              "      <th>3</th>\n",
              "      <td>e64fb393e7b32834bb789ff8bb30750e</td>\n",
              "      <td>658677c97b385a9be170737859d3511b</td>\n",
              "      <td>5</td>\n",
              "      <td>NaN</td>\n",
              "      <td>Recebi bem antes do prazo estipulado.</td>\n",
              "      <td>2017-04-21 00:00:00</td>\n",
              "      <td>2017-04-21 22:02:06</td>\n",
              "    </tr>\n",
              "    <tr>\n",
              "      <th>4</th>\n",
              "      <td>f7c4243c7fe1938f181bec41a392bdeb</td>\n",
              "      <td>8e6bfb81e283fa7e4f11123a3fb894f1</td>\n",
              "      <td>5</td>\n",
              "      <td>NaN</td>\n",
              "      <td>Parabéns lojas lannister adorei comprar pela I...</td>\n",
              "      <td>2018-03-01 00:00:00</td>\n",
              "      <td>2018-03-02 10:26:53</td>\n",
              "    </tr>\n",
              "  </tbody>\n",
              "</table>\n",
              "</div>"
            ],
            "text/plain": [
              "                          review_id                          order_id  \\\n",
              "0  7bc2406110b926393aa56f80a40eba40  73fc7af87114b39712e6da79b0a377eb   \n",
              "1  80e641a11e56f04c1ad469d5645fdfde  a548910a1c6147796b98fdf73dbeba33   \n",
              "2  228ce5500dc1d8e020d8d1322874b6f0  f9e4b658b201a9f2ecdecbb34bed034b   \n",
              "3  e64fb393e7b32834bb789ff8bb30750e  658677c97b385a9be170737859d3511b   \n",
              "4  f7c4243c7fe1938f181bec41a392bdeb  8e6bfb81e283fa7e4f11123a3fb894f1   \n",
              "\n",
              "   review_score review_comment_title  \\\n",
              "0             4                  NaN   \n",
              "1             5                  NaN   \n",
              "2             5                  NaN   \n",
              "3             5                  NaN   \n",
              "4             5                  NaN   \n",
              "\n",
              "                              review_comment_message review_creation_date  \\\n",
              "0                                                NaN  2018-01-18 00:00:00   \n",
              "1                                                NaN  2018-03-10 00:00:00   \n",
              "2                                                NaN  2018-02-17 00:00:00   \n",
              "3              Recebi bem antes do prazo estipulado.  2017-04-21 00:00:00   \n",
              "4  Parabéns lojas lannister adorei comprar pela I...  2018-03-01 00:00:00   \n",
              "\n",
              "  review_answer_timestamp  \n",
              "0     2018-01-18 21:46:59  \n",
              "1     2018-03-11 03:05:13  \n",
              "2     2018-02-18 14:36:24  \n",
              "3     2017-04-21 22:02:06  \n",
              "4     2018-03-02 10:26:53  "
            ]
          },
          "execution_count": 13,
          "metadata": {},
          "output_type": "execute_result"
        }
      ],
      "source": [
        "df_reviews.head()\n"
      ]
    },
    {
      "cell_type": "code",
      "execution_count": 14,
      "metadata": {},
      "outputs": [
        {
          "data": {
            "text/html": [
              "<div>\n",
              "<style scoped>\n",
              "    .dataframe tbody tr th:only-of-type {\n",
              "        vertical-align: middle;\n",
              "    }\n",
              "\n",
              "    .dataframe tbody tr th {\n",
              "        vertical-align: top;\n",
              "    }\n",
              "\n",
              "    .dataframe thead th {\n",
              "        text-align: right;\n",
              "    }\n",
              "</style>\n",
              "<table border=\"1\" class=\"dataframe\">\n",
              "  <thead>\n",
              "    <tr style=\"text-align: right;\">\n",
              "      <th></th>\n",
              "      <th>geolocation_zip_code_prefix</th>\n",
              "      <th>geolocation_lat</th>\n",
              "      <th>geolocation_lng</th>\n",
              "      <th>geolocation_city</th>\n",
              "      <th>geolocation_state</th>\n",
              "    </tr>\n",
              "  </thead>\n",
              "  <tbody>\n",
              "    <tr>\n",
              "      <th>0</th>\n",
              "      <td>1037</td>\n",
              "      <td>-23.545621</td>\n",
              "      <td>-46.639292</td>\n",
              "      <td>sao paulo</td>\n",
              "      <td>SP</td>\n",
              "    </tr>\n",
              "    <tr>\n",
              "      <th>1</th>\n",
              "      <td>1046</td>\n",
              "      <td>-23.546081</td>\n",
              "      <td>-46.644820</td>\n",
              "      <td>sao paulo</td>\n",
              "      <td>SP</td>\n",
              "    </tr>\n",
              "    <tr>\n",
              "      <th>2</th>\n",
              "      <td>1046</td>\n",
              "      <td>-23.546129</td>\n",
              "      <td>-46.642951</td>\n",
              "      <td>sao paulo</td>\n",
              "      <td>SP</td>\n",
              "    </tr>\n",
              "    <tr>\n",
              "      <th>3</th>\n",
              "      <td>1041</td>\n",
              "      <td>-23.544392</td>\n",
              "      <td>-46.639499</td>\n",
              "      <td>sao paulo</td>\n",
              "      <td>SP</td>\n",
              "    </tr>\n",
              "    <tr>\n",
              "      <th>4</th>\n",
              "      <td>1035</td>\n",
              "      <td>-23.541578</td>\n",
              "      <td>-46.641607</td>\n",
              "      <td>sao paulo</td>\n",
              "      <td>SP</td>\n",
              "    </tr>\n",
              "  </tbody>\n",
              "</table>\n",
              "</div>"
            ],
            "text/plain": [
              "   geolocation_zip_code_prefix  geolocation_lat  geolocation_lng  \\\n",
              "0                         1037       -23.545621       -46.639292   \n",
              "1                         1046       -23.546081       -46.644820   \n",
              "2                         1046       -23.546129       -46.642951   \n",
              "3                         1041       -23.544392       -46.639499   \n",
              "4                         1035       -23.541578       -46.641607   \n",
              "\n",
              "  geolocation_city geolocation_state  \n",
              "0        sao paulo                SP  \n",
              "1        sao paulo                SP  \n",
              "2        sao paulo                SP  \n",
              "3        sao paulo                SP  \n",
              "4        sao paulo                SP  "
            ]
          },
          "execution_count": 14,
          "metadata": {},
          "output_type": "execute_result"
        }
      ],
      "source": [
        "df_geolocation.head()\n"
      ]
    },
    {
      "cell_type": "code",
      "execution_count": 15,
      "metadata": {},
      "outputs": [
        {
          "data": {
            "text/html": [
              "<div>\n",
              "<style scoped>\n",
              "    .dataframe tbody tr th:only-of-type {\n",
              "        vertical-align: middle;\n",
              "    }\n",
              "\n",
              "    .dataframe tbody tr th {\n",
              "        vertical-align: top;\n",
              "    }\n",
              "\n",
              "    .dataframe thead th {\n",
              "        text-align: right;\n",
              "    }\n",
              "</style>\n",
              "<table border=\"1\" class=\"dataframe\">\n",
              "  <thead>\n",
              "    <tr style=\"text-align: right;\">\n",
              "      <th></th>\n",
              "      <th>product_category_name</th>\n",
              "      <th>product_category_name_english</th>\n",
              "    </tr>\n",
              "  </thead>\n",
              "  <tbody>\n",
              "    <tr>\n",
              "      <th>0</th>\n",
              "      <td>beleza_saude</td>\n",
              "      <td>health_beauty</td>\n",
              "    </tr>\n",
              "    <tr>\n",
              "      <th>1</th>\n",
              "      <td>informatica_acessorios</td>\n",
              "      <td>computers_accessories</td>\n",
              "    </tr>\n",
              "    <tr>\n",
              "      <th>2</th>\n",
              "      <td>automotivo</td>\n",
              "      <td>auto</td>\n",
              "    </tr>\n",
              "    <tr>\n",
              "      <th>3</th>\n",
              "      <td>cama_mesa_banho</td>\n",
              "      <td>bed_bath_table</td>\n",
              "    </tr>\n",
              "    <tr>\n",
              "      <th>4</th>\n",
              "      <td>moveis_decoracao</td>\n",
              "      <td>furniture_decor</td>\n",
              "    </tr>\n",
              "  </tbody>\n",
              "</table>\n",
              "</div>"
            ],
            "text/plain": [
              "    product_category_name product_category_name_english\n",
              "0            beleza_saude                 health_beauty\n",
              "1  informatica_acessorios         computers_accessories\n",
              "2              automotivo                          auto\n",
              "3         cama_mesa_banho                bed_bath_table\n",
              "4        moveis_decoracao               furniture_decor"
            ]
          },
          "execution_count": 15,
          "metadata": {},
          "output_type": "execute_result"
        }
      ],
      "source": [
        "df_category_translation.head()\n"
      ]
    },
    {
      "cell_type": "markdown",
      "metadata": {
        "id": "MMi6xGaDkbCi"
      },
      "source": [
        "**Insight:**\n",
        "\n",
        "Pada tahap Gathering Data, dataset berhasil dimuat dengan struktur yang sesuai dengan kebutuhan analisis. Dataset customers memiliki 99.441 baris, yang menunjukkan bahwa jumlah pelanggan dalam sistem cukup besar dan dapat menjadi dasar analisis perilaku konsumen. Sementara itu, dataset geolocation memiliki lebih dari satu juta baris, menandakan bahwa data geospasial yang tersedia cukup detail untuk eksplorasi lebih lanjut terkait pola distribusi pelanggan dan wilayah transaksi. Ukuran dataset yang besar ini memungkinkan analisis yang lebih mendalam, tetapi juga menuntut optimasi dalam pengolahan data agar lebih efisien. Selain itu, keterkaitan antar dataset terlihat jelas. Customers dapat dihubungkan dengan orders melalui customer_id, sementara informasi pesanan bisa dikaitkan dengan detail transaksi di order_items dan payments berdasarkan order_id. Produk yang dijual juga dapat dikategorikan lebih lanjut dengan menggunakan product_category_name_translation, yang memungkinkan pemetaan kategori produk ke dalam bahasa yang lebih umum dipahami.\n",
        "Dengan data yang telah dikumpulkan ini, terdapat potensi analisis lebih lanjut, seperti melihat pola pesanan berdasarkan lokasi geografis pelanggan, memahami preferensi produk dari berbagai wilayah, serta mengevaluasi kepuasan pelanggan melalui order reviews. Selain itu, dataset sellers memberikan informasi tentang penjual, sehingga dapat digunakan untuk mengidentifikasi pola penjualan dan melihat apakah ada penjual tertentu yang mendominasi pasar. Namun, tantangan utama dalam proses analisis ini adalah besarnya ukuran dataset yang dapat mempengaruhi kinerja pemrosesan data. Oleh karena itu, diperlukan optimasi dalam pengolahan data, misalnya dengan indexing atau sampling jika diperlukan. Selain itu, perlu dilakukan pemeriksaan terhadap kemungkinan adanya missing values atau data duplikat agar hasil analisis lebih akurat dan dapat dipercaya."
      ]
    },
    {
      "cell_type": "markdown",
      "metadata": {
        "id": "FHSiqaZp8DC1"
      },
      "source": [
        "### Assessing Data"
      ]
    },
    {
      "cell_type": "code",
      "execution_count": 16,
      "metadata": {
        "colab": {
          "base_uri": "https://localhost:8080/",
          "height": 1000
        },
        "id": "ax-3tEjc9Cj1",
        "outputId": "121f7e63-ee03-41d5-e5df-0e3351aac86a"
      },
      "outputs": [
        {
          "name": "stdout",
          "output_type": "stream",
          "text": [
            "<class 'pandas.core.frame.DataFrame'>\n",
            "RangeIndex: 99441 entries, 0 to 99440\n",
            "Data columns (total 8 columns):\n",
            " #   Column                         Non-Null Count  Dtype \n",
            "---  ------                         --------------  ----- \n",
            " 0   order_id                       99441 non-null  object\n",
            " 1   customer_id                    99441 non-null  object\n",
            " 2   order_status                   99441 non-null  object\n",
            " 3   order_purchase_timestamp       99441 non-null  object\n",
            " 4   order_approved_at              99281 non-null  object\n",
            " 5   order_delivered_carrier_date   97658 non-null  object\n",
            " 6   order_delivered_customer_date  96476 non-null  object\n",
            " 7   order_estimated_delivery_date  99441 non-null  object\n",
            "dtypes: object(8)\n",
            "memory usage: 6.1+ MB\n"
          ]
        }
      ],
      "source": [
        "df_orders.info()"
      ]
    },
    {
      "cell_type": "code",
      "execution_count": null,
      "metadata": {},
      "outputs": [
        {
          "name": "stdout",
          "output_type": "stream",
          "text": [
            "<class 'pandas.core.frame.DataFrame'>\n",
            "RangeIndex: 112650 entries, 0 to 112649\n",
            "Data columns (total 7 columns):\n",
            " #   Column               Non-Null Count   Dtype  \n",
            "---  ------               --------------   -----  \n",
            " 0   order_id             112650 non-null  object \n",
            " 1   order_item_id        112650 non-null  int64  \n",
            " 2   product_id           112650 non-null  object \n",
            " 3   seller_id            112650 non-null  object \n",
            " 4   shipping_limit_date  112650 non-null  object \n",
            " 5   price                112650 non-null  float64\n",
            " 6   freight_value        112650 non-null  float64\n",
            "dtypes: float64(2), int64(1), object(4)\n",
            "memory usage: 6.0+ MB\n"
          ]
        }
      ],
      "source": [
        "df_order_items.info()"
      ]
    },
    {
      "cell_type": "code",
      "execution_count": null,
      "metadata": {},
      "outputs": [
        {
          "name": "stdout",
          "output_type": "stream",
          "text": [
            "<class 'pandas.core.frame.DataFrame'>\n",
            "RangeIndex: 32951 entries, 0 to 32950\n",
            "Data columns (total 9 columns):\n",
            " #   Column                      Non-Null Count  Dtype  \n",
            "---  ------                      --------------  -----  \n",
            " 0   product_id                  32951 non-null  object \n",
            " 1   product_category_name       32341 non-null  object \n",
            " 2   product_name_lenght         32341 non-null  float64\n",
            " 3   product_description_lenght  32341 non-null  float64\n",
            " 4   product_photos_qty          32341 non-null  float64\n",
            " 5   product_weight_g            32949 non-null  float64\n",
            " 6   product_length_cm           32949 non-null  float64\n",
            " 7   product_height_cm           32949 non-null  float64\n",
            " 8   product_width_cm            32949 non-null  float64\n",
            "dtypes: float64(7), object(2)\n",
            "memory usage: 2.3+ MB\n"
          ]
        }
      ],
      "source": [
        "df_products.info()"
      ]
    },
    {
      "cell_type": "code",
      "execution_count": 19,
      "metadata": {},
      "outputs": [
        {
          "name": "stdout",
          "output_type": "stream",
          "text": [
            "<class 'pandas.core.frame.DataFrame'>\n",
            "RangeIndex: 99441 entries, 0 to 99440\n",
            "Data columns (total 5 columns):\n",
            " #   Column                    Non-Null Count  Dtype \n",
            "---  ------                    --------------  ----- \n",
            " 0   customer_id               99441 non-null  object\n",
            " 1   customer_unique_id        99441 non-null  object\n",
            " 2   customer_zip_code_prefix  99441 non-null  int64 \n",
            " 3   customer_city             99441 non-null  object\n",
            " 4   customer_state            99441 non-null  object\n",
            "dtypes: int64(1), object(4)\n",
            "memory usage: 3.8+ MB\n"
          ]
        }
      ],
      "source": [
        "df_customers.info()"
      ]
    },
    {
      "cell_type": "code",
      "execution_count": 20,
      "metadata": {},
      "outputs": [
        {
          "name": "stdout",
          "output_type": "stream",
          "text": [
            "<class 'pandas.core.frame.DataFrame'>\n",
            "RangeIndex: 3095 entries, 0 to 3094\n",
            "Data columns (total 4 columns):\n",
            " #   Column                  Non-Null Count  Dtype \n",
            "---  ------                  --------------  ----- \n",
            " 0   seller_id               3095 non-null   object\n",
            " 1   seller_zip_code_prefix  3095 non-null   int64 \n",
            " 2   seller_city             3095 non-null   object\n",
            " 3   seller_state            3095 non-null   object\n",
            "dtypes: int64(1), object(3)\n",
            "memory usage: 96.8+ KB\n"
          ]
        }
      ],
      "source": [
        "df_sellers.info()"
      ]
    },
    {
      "cell_type": "code",
      "execution_count": 21,
      "metadata": {},
      "outputs": [
        {
          "name": "stdout",
          "output_type": "stream",
          "text": [
            "<class 'pandas.core.frame.DataFrame'>\n",
            "RangeIndex: 103886 entries, 0 to 103885\n",
            "Data columns (total 5 columns):\n",
            " #   Column                Non-Null Count   Dtype  \n",
            "---  ------                --------------   -----  \n",
            " 0   order_id              103886 non-null  object \n",
            " 1   payment_sequential    103886 non-null  int64  \n",
            " 2   payment_type          103886 non-null  object \n",
            " 3   payment_installments  103886 non-null  int64  \n",
            " 4   payment_value         103886 non-null  float64\n",
            "dtypes: float64(1), int64(2), object(2)\n",
            "memory usage: 4.0+ MB\n"
          ]
        }
      ],
      "source": [
        "df_payments.info()"
      ]
    },
    {
      "cell_type": "code",
      "execution_count": 22,
      "metadata": {},
      "outputs": [
        {
          "name": "stdout",
          "output_type": "stream",
          "text": [
            "<class 'pandas.core.frame.DataFrame'>\n",
            "RangeIndex: 99224 entries, 0 to 99223\n",
            "Data columns (total 7 columns):\n",
            " #   Column                   Non-Null Count  Dtype \n",
            "---  ------                   --------------  ----- \n",
            " 0   review_id                99224 non-null  object\n",
            " 1   order_id                 99224 non-null  object\n",
            " 2   review_score             99224 non-null  int64 \n",
            " 3   review_comment_title     11568 non-null  object\n",
            " 4   review_comment_message   40977 non-null  object\n",
            " 5   review_creation_date     99224 non-null  object\n",
            " 6   review_answer_timestamp  99224 non-null  object\n",
            "dtypes: int64(1), object(6)\n",
            "memory usage: 5.3+ MB\n"
          ]
        }
      ],
      "source": [
        "df_reviews.info()"
      ]
    },
    {
      "cell_type": "code",
      "execution_count": 23,
      "metadata": {},
      "outputs": [
        {
          "name": "stdout",
          "output_type": "stream",
          "text": [
            "<class 'pandas.core.frame.DataFrame'>\n",
            "RangeIndex: 1000163 entries, 0 to 1000162\n",
            "Data columns (total 5 columns):\n",
            " #   Column                       Non-Null Count    Dtype  \n",
            "---  ------                       --------------    -----  \n",
            " 0   geolocation_zip_code_prefix  1000163 non-null  int64  \n",
            " 1   geolocation_lat              1000163 non-null  float64\n",
            " 2   geolocation_lng              1000163 non-null  float64\n",
            " 3   geolocation_city             1000163 non-null  object \n",
            " 4   geolocation_state            1000163 non-null  object \n",
            "dtypes: float64(2), int64(1), object(2)\n",
            "memory usage: 38.2+ MB\n"
          ]
        }
      ],
      "source": [
        "df_geolocation.info()"
      ]
    },
    {
      "cell_type": "code",
      "execution_count": 24,
      "metadata": {},
      "outputs": [
        {
          "name": "stdout",
          "output_type": "stream",
          "text": [
            "<class 'pandas.core.frame.DataFrame'>\n",
            "RangeIndex: 71 entries, 0 to 70\n",
            "Data columns (total 2 columns):\n",
            " #   Column                         Non-Null Count  Dtype \n",
            "---  ------                         --------------  ----- \n",
            " 0   product_category_name          71 non-null     object\n",
            " 1   product_category_name_english  71 non-null     object\n",
            "dtypes: object(2)\n",
            "memory usage: 1.2+ KB\n"
          ]
        }
      ],
      "source": [
        "df_category_translation.info()"
      ]
    },
    {
      "cell_type": "code",
      "execution_count": 25,
      "metadata": {},
      "outputs": [
        {
          "data": {
            "text/plain": [
              "np.int64(0)"
            ]
          },
          "execution_count": 25,
          "metadata": {},
          "output_type": "execute_result"
        }
      ],
      "source": [
        "df_orders.duplicated().sum()"
      ]
    },
    {
      "cell_type": "code",
      "execution_count": null,
      "metadata": {},
      "outputs": [
        {
          "data": {
            "text/plain": [
              "np.int64(0)"
            ]
          },
          "execution_count": 26,
          "metadata": {},
          "output_type": "execute_result"
        }
      ],
      "source": [
        "df_order_items.duplicated().sum()"
      ]
    },
    {
      "cell_type": "code",
      "execution_count": 27,
      "metadata": {},
      "outputs": [
        {
          "data": {
            "text/plain": [
              "np.int64(0)"
            ]
          },
          "execution_count": 27,
          "metadata": {},
          "output_type": "execute_result"
        }
      ],
      "source": [
        "df_products.duplicated().sum()"
      ]
    },
    {
      "cell_type": "code",
      "execution_count": 28,
      "metadata": {},
      "outputs": [
        {
          "data": {
            "text/plain": [
              "np.int64(0)"
            ]
          },
          "execution_count": 28,
          "metadata": {},
          "output_type": "execute_result"
        }
      ],
      "source": [
        "df_customers.duplicated().sum()"
      ]
    },
    {
      "cell_type": "code",
      "execution_count": 29,
      "metadata": {},
      "outputs": [
        {
          "data": {
            "text/plain": [
              "np.int64(0)"
            ]
          },
          "execution_count": 29,
          "metadata": {},
          "output_type": "execute_result"
        }
      ],
      "source": [
        "df_sellers.duplicated().sum()"
      ]
    },
    {
      "cell_type": "code",
      "execution_count": 30,
      "metadata": {},
      "outputs": [
        {
          "data": {
            "text/plain": [
              "np.int64(0)"
            ]
          },
          "execution_count": 30,
          "metadata": {},
          "output_type": "execute_result"
        }
      ],
      "source": [
        "df_payments.duplicated().sum()"
      ]
    },
    {
      "cell_type": "code",
      "execution_count": 31,
      "metadata": {},
      "outputs": [
        {
          "data": {
            "text/plain": [
              "np.int64(0)"
            ]
          },
          "execution_count": 31,
          "metadata": {},
          "output_type": "execute_result"
        }
      ],
      "source": [
        "df_reviews.duplicated().sum()"
      ]
    },
    {
      "cell_type": "code",
      "execution_count": 32,
      "metadata": {},
      "outputs": [
        {
          "data": {
            "text/plain": [
              "np.int64(261831)"
            ]
          },
          "execution_count": 32,
          "metadata": {},
          "output_type": "execute_result"
        }
      ],
      "source": [
        "df_geolocation.duplicated().sum()"
      ]
    },
    {
      "cell_type": "code",
      "execution_count": 33,
      "metadata": {},
      "outputs": [
        {
          "data": {
            "text/plain": [
              "np.int64(0)"
            ]
          },
          "execution_count": 33,
          "metadata": {},
          "output_type": "execute_result"
        }
      ],
      "source": [
        "df_category_translation.duplicated().sum()"
      ]
    },
    {
      "cell_type": "markdown",
      "metadata": {
        "id": "7dtxhAPrkhPL"
      },
      "source": [
        "**Insight:**\n",
        "\n",
        "Pada tahap Assessing Data, dilakukan pemeriksaan terhadap kualitas data untuk memastikan bahwa data yang akan digunakan dalam analisis berada dalam kondisi yang baik. Salah satu aspek yang diperiksa adalah keberadaan missing values, terutama pada dataset orders. Ditemukan bahwa beberapa kolom seperti order_approved_at, order_delivered_carrier_date, dan order_delivered_customer_date memiliki nilai yang hilang. Keberadaan missing values ini dapat mengindikasikan bahwa terdapat pesanan yang belum diproses lebih lanjut atau adanya kesalahan pencatatan. Oleh karena itu, diperlukan strategi yang tepat dalam menangani nilai yang hilang, baik dengan menghapus data, mengisi dengan estimasi, atau mempertahankannya sesuai dengan kebutuhan analisis.\n",
        "Selain itu, dilakukan juga pengecekan terhadap data duplikat untuk memastikan bahwa tidak terdapat entri yang berulang. Hasil pemeriksaan menunjukkan bahwa dataset seperti customers, orders, products, sellers, order_items, dan order_reviews tidak memiliki duplikasi. Namun, dataset geolocation ditemukan memiliki sebanyak 261.831 baris data yang bersifat duplikat. Hal ini mengindikasikan bahwa terdapat informasi lokasi yang berulang dan perlu dilakukan pembersihan agar tidak mempengaruhi analisis selanjutnya.\n",
        "Setelah dilakukan tahap asesmen ini, dapat disimpulkan bahwa data yang digunakan sudah cukup baik, namun masih memerlukan proses cleaning lebih lanjut, terutama dalam menghapus duplikasi pada dataset geolocation serta menangani missing values pada dataset orders. Hal ini dilakukan agar analisis yang akan dilakukan nantinya dapat berjalan dengan lebih akurat dan tidak terganggu oleh permasalahan dalam kualitas data."
      ]
    },
    {
      "cell_type": "markdown",
      "metadata": {
        "id": "EhN5R4hr8DC1"
      },
      "source": [
        "### Cleaning Data"
      ]
    },
    {
      "cell_type": "code",
      "execution_count": 41,
      "metadata": {
        "colab": {
          "base_uri": "https://localhost:8080/"
        },
        "id": "jVnYpprE9Evz",
        "outputId": "2fe2e04d-fb6f-4fb5-bb73-0b6134ad8f46"
      },
      "outputs": [
        {
          "data": {
            "text/plain": [
              "np.int64(0)"
            ]
          },
          "execution_count": 41,
          "metadata": {},
          "output_type": "execute_result"
        }
      ],
      "source": [
        "# Menghapus duplikasi pada dataset geolocation\n",
        "df_geolocation.drop_duplicates(inplace=True)\n",
        "\n",
        "# Memastikan tidak ada lagi duplikasi\n",
        "df_geolocation.duplicated().sum()"
      ]
    },
    {
      "cell_type": "code",
      "execution_count": 49,
      "metadata": {},
      "outputs": [
        {
          "data": {
            "text/html": [
              "<div>\n",
              "<style scoped>\n",
              "    .dataframe tbody tr th:only-of-type {\n",
              "        vertical-align: middle;\n",
              "    }\n",
              "\n",
              "    .dataframe tbody tr th {\n",
              "        vertical-align: top;\n",
              "    }\n",
              "\n",
              "    .dataframe thead th {\n",
              "        text-align: right;\n",
              "    }\n",
              "</style>\n",
              "<table border=\"1\" class=\"dataframe\">\n",
              "  <thead>\n",
              "    <tr style=\"text-align: right;\">\n",
              "      <th></th>\n",
              "      <th>order_id</th>\n",
              "      <th>customer_id</th>\n",
              "      <th>order_status</th>\n",
              "      <th>order_purchase_timestamp</th>\n",
              "      <th>order_approved_at</th>\n",
              "      <th>order_delivered_carrier_date</th>\n",
              "      <th>order_delivered_customer_date</th>\n",
              "      <th>order_estimated_delivery_date</th>\n",
              "    </tr>\n",
              "  </thead>\n",
              "  <tbody>\n",
              "    <tr>\n",
              "      <th>0</th>\n",
              "      <td>e481f51cbdc54678b7cc49136f2d6af7</td>\n",
              "      <td>9ef432eb6251297304e76186b10a928d</td>\n",
              "      <td>delivered</td>\n",
              "      <td>2017-10-02 10:56:33</td>\n",
              "      <td>2017-10-02 11:07:15</td>\n",
              "      <td>2017-10-04 19:55:00</td>\n",
              "      <td>2017-10-10 21:25:13</td>\n",
              "      <td>2017-10-18 00:00:00</td>\n",
              "    </tr>\n",
              "    <tr>\n",
              "      <th>1</th>\n",
              "      <td>53cdb2fc8bc7dce0b6741e2150273451</td>\n",
              "      <td>b0830fb4747a6c6d20dea0b8c802d7ef</td>\n",
              "      <td>delivered</td>\n",
              "      <td>2018-07-24 20:41:37</td>\n",
              "      <td>2018-07-26 03:24:27</td>\n",
              "      <td>2018-07-26 14:31:00</td>\n",
              "      <td>2018-08-07 15:27:45</td>\n",
              "      <td>2018-08-13 00:00:00</td>\n",
              "    </tr>\n",
              "    <tr>\n",
              "      <th>2</th>\n",
              "      <td>47770eb9100c2d0c44946d9cf07ec65d</td>\n",
              "      <td>41ce2a54c0b03bf3443c3d931a367089</td>\n",
              "      <td>delivered</td>\n",
              "      <td>2018-08-08 08:38:49</td>\n",
              "      <td>2018-08-08 08:55:23</td>\n",
              "      <td>2018-08-08 13:50:00</td>\n",
              "      <td>2018-08-17 18:06:29</td>\n",
              "      <td>2018-09-04 00:00:00</td>\n",
              "    </tr>\n",
              "    <tr>\n",
              "      <th>3</th>\n",
              "      <td>949d5b44dbf5de918fe9c16f97b45f8a</td>\n",
              "      <td>f88197465ea7920adcdbec7375364d82</td>\n",
              "      <td>delivered</td>\n",
              "      <td>2017-11-18 19:28:06</td>\n",
              "      <td>2017-11-18 19:45:59</td>\n",
              "      <td>2017-11-22 13:39:59</td>\n",
              "      <td>2017-12-02 00:28:42</td>\n",
              "      <td>2017-12-15 00:00:00</td>\n",
              "    </tr>\n",
              "    <tr>\n",
              "      <th>4</th>\n",
              "      <td>ad21c59c0840e6cb83a9ceb5573f8159</td>\n",
              "      <td>8ab97904e6daea8866dbdbc4fb7aad2c</td>\n",
              "      <td>delivered</td>\n",
              "      <td>2018-02-13 21:18:39</td>\n",
              "      <td>2018-02-13 22:20:29</td>\n",
              "      <td>2018-02-14 19:46:34</td>\n",
              "      <td>2018-02-16 18:17:02</td>\n",
              "      <td>2018-02-26 00:00:00</td>\n",
              "    </tr>\n",
              "  </tbody>\n",
              "</table>\n",
              "</div>"
            ],
            "text/plain": [
              "                           order_id                       customer_id  \\\n",
              "0  e481f51cbdc54678b7cc49136f2d6af7  9ef432eb6251297304e76186b10a928d   \n",
              "1  53cdb2fc8bc7dce0b6741e2150273451  b0830fb4747a6c6d20dea0b8c802d7ef   \n",
              "2  47770eb9100c2d0c44946d9cf07ec65d  41ce2a54c0b03bf3443c3d931a367089   \n",
              "3  949d5b44dbf5de918fe9c16f97b45f8a  f88197465ea7920adcdbec7375364d82   \n",
              "4  ad21c59c0840e6cb83a9ceb5573f8159  8ab97904e6daea8866dbdbc4fb7aad2c   \n",
              "\n",
              "  order_status order_purchase_timestamp   order_approved_at  \\\n",
              "0    delivered      2017-10-02 10:56:33 2017-10-02 11:07:15   \n",
              "1    delivered      2018-07-24 20:41:37 2018-07-26 03:24:27   \n",
              "2    delivered      2018-08-08 08:38:49 2018-08-08 08:55:23   \n",
              "3    delivered      2017-11-18 19:28:06 2017-11-18 19:45:59   \n",
              "4    delivered      2018-02-13 21:18:39 2018-02-13 22:20:29   \n",
              "\n",
              "  order_delivered_carrier_date order_delivered_customer_date  \\\n",
              "0          2017-10-04 19:55:00           2017-10-10 21:25:13   \n",
              "1          2018-07-26 14:31:00           2018-08-07 15:27:45   \n",
              "2          2018-08-08 13:50:00           2018-08-17 18:06:29   \n",
              "3          2017-11-22 13:39:59           2017-12-02 00:28:42   \n",
              "4          2018-02-14 19:46:34           2018-02-16 18:17:02   \n",
              "\n",
              "  order_estimated_delivery_date  \n",
              "0           2017-10-18 00:00:00  \n",
              "1           2018-08-13 00:00:00  \n",
              "2           2018-09-04 00:00:00  \n",
              "3           2017-12-15 00:00:00  \n",
              "4           2018-02-26 00:00:00  "
            ]
          },
          "execution_count": 49,
          "metadata": {},
          "output_type": "execute_result"
        }
      ],
      "source": [
        "# Hapus baris dengan order_approved_at kosong (transaksi tidak valid)\n",
        "df_orders = df_orders.dropna(subset=[\"order_approved_at\"])\n",
        "\n",
        "# Konversi kolom tanggal menjadi datetime\n",
        "date_columns = [\"order_delivered_carrier_date\", \"order_delivered_customer_date\"]\n",
        "df_orders[date_columns] = df_orders[date_columns].apply(pd.to_datetime, errors=\"coerce\")\n",
        "\n",
        "# Isi missing values pada kolom tanggal dengan median\n",
        "df_orders[date_columns] = df_orders[date_columns].apply(lambda col: col.fillna(col.median()))\n",
        "\n",
        "# Tampilkan hasil cleaning (5 baris pertama)\n",
        "df_orders.head()"
      ]
    },
    {
      "cell_type": "code",
      "execution_count": 50,
      "metadata": {},
      "outputs": [
        {
          "data": {
            "text/html": [
              "<div>\n",
              "<style scoped>\n",
              "    .dataframe tbody tr th:only-of-type {\n",
              "        vertical-align: middle;\n",
              "    }\n",
              "\n",
              "    .dataframe tbody tr th {\n",
              "        vertical-align: top;\n",
              "    }\n",
              "\n",
              "    .dataframe thead th {\n",
              "        text-align: right;\n",
              "    }\n",
              "</style>\n",
              "<table border=\"1\" class=\"dataframe\">\n",
              "  <thead>\n",
              "    <tr style=\"text-align: right;\">\n",
              "      <th></th>\n",
              "      <th>review_id</th>\n",
              "      <th>order_id</th>\n",
              "      <th>review_score</th>\n",
              "      <th>review_comment_title</th>\n",
              "      <th>review_comment_message</th>\n",
              "      <th>review_creation_date</th>\n",
              "      <th>review_answer_timestamp</th>\n",
              "    </tr>\n",
              "  </thead>\n",
              "  <tbody>\n",
              "    <tr>\n",
              "      <th>0</th>\n",
              "      <td>7bc2406110b926393aa56f80a40eba40</td>\n",
              "      <td>73fc7af87114b39712e6da79b0a377eb</td>\n",
              "      <td>4</td>\n",
              "      <td></td>\n",
              "      <td></td>\n",
              "      <td>2018-01-18 00:00:00</td>\n",
              "      <td>2018-01-18 21:46:59</td>\n",
              "    </tr>\n",
              "    <tr>\n",
              "      <th>1</th>\n",
              "      <td>80e641a11e56f04c1ad469d5645fdfde</td>\n",
              "      <td>a548910a1c6147796b98fdf73dbeba33</td>\n",
              "      <td>5</td>\n",
              "      <td></td>\n",
              "      <td></td>\n",
              "      <td>2018-03-10 00:00:00</td>\n",
              "      <td>2018-03-11 03:05:13</td>\n",
              "    </tr>\n",
              "    <tr>\n",
              "      <th>2</th>\n",
              "      <td>228ce5500dc1d8e020d8d1322874b6f0</td>\n",
              "      <td>f9e4b658b201a9f2ecdecbb34bed034b</td>\n",
              "      <td>5</td>\n",
              "      <td></td>\n",
              "      <td></td>\n",
              "      <td>2018-02-17 00:00:00</td>\n",
              "      <td>2018-02-18 14:36:24</td>\n",
              "    </tr>\n",
              "    <tr>\n",
              "      <th>3</th>\n",
              "      <td>e64fb393e7b32834bb789ff8bb30750e</td>\n",
              "      <td>658677c97b385a9be170737859d3511b</td>\n",
              "      <td>5</td>\n",
              "      <td></td>\n",
              "      <td>Recebi bem antes do prazo estipulado.</td>\n",
              "      <td>2017-04-21 00:00:00</td>\n",
              "      <td>2017-04-21 22:02:06</td>\n",
              "    </tr>\n",
              "    <tr>\n",
              "      <th>4</th>\n",
              "      <td>f7c4243c7fe1938f181bec41a392bdeb</td>\n",
              "      <td>8e6bfb81e283fa7e4f11123a3fb894f1</td>\n",
              "      <td>5</td>\n",
              "      <td></td>\n",
              "      <td>Parabéns lojas lannister adorei comprar pela I...</td>\n",
              "      <td>2018-03-01 00:00:00</td>\n",
              "      <td>2018-03-02 10:26:53</td>\n",
              "    </tr>\n",
              "  </tbody>\n",
              "</table>\n",
              "</div>"
            ],
            "text/plain": [
              "                          review_id                          order_id  \\\n",
              "0  7bc2406110b926393aa56f80a40eba40  73fc7af87114b39712e6da79b0a377eb   \n",
              "1  80e641a11e56f04c1ad469d5645fdfde  a548910a1c6147796b98fdf73dbeba33   \n",
              "2  228ce5500dc1d8e020d8d1322874b6f0  f9e4b658b201a9f2ecdecbb34bed034b   \n",
              "3  e64fb393e7b32834bb789ff8bb30750e  658677c97b385a9be170737859d3511b   \n",
              "4  f7c4243c7fe1938f181bec41a392bdeb  8e6bfb81e283fa7e4f11123a3fb894f1   \n",
              "\n",
              "   review_score review_comment_title  \\\n",
              "0             4                        \n",
              "1             5                        \n",
              "2             5                        \n",
              "3             5                        \n",
              "4             5                        \n",
              "\n",
              "                              review_comment_message review_creation_date  \\\n",
              "0                                                     2018-01-18 00:00:00   \n",
              "1                                                     2018-03-10 00:00:00   \n",
              "2                                                     2018-02-17 00:00:00   \n",
              "3              Recebi bem antes do prazo estipulado.  2017-04-21 00:00:00   \n",
              "4  Parabéns lojas lannister adorei comprar pela I...  2018-03-01 00:00:00   \n",
              "\n",
              "  review_answer_timestamp  \n",
              "0     2018-01-18 21:46:59  \n",
              "1     2018-03-11 03:05:13  \n",
              "2     2018-02-18 14:36:24  \n",
              "3     2017-04-21 22:02:06  \n",
              "4     2018-03-02 10:26:53  "
            ]
          },
          "execution_count": 50,
          "metadata": {},
          "output_type": "execute_result"
        }
      ],
      "source": [
        "# Isi missing values pada kolom teks dengan string kosong\n",
        "df_reviews[[\"review_comment_title\", \"review_comment_message\"]] = df_reviews[[\"review_comment_title\", \"review_comment_message\"]].fillna(\"\")\n",
        "\n",
        "# Tampilkan hasil cleaning (5 baris pertama)\n",
        "df_reviews.head()"
      ]
    },
    {
      "cell_type": "code",
      "execution_count": 53,
      "metadata": {},
      "outputs": [
        {
          "data": {
            "text/plain": [
              "product_id                    0\n",
              "product_category_name         0\n",
              "product_name_lenght           0\n",
              "product_description_lenght    0\n",
              "product_photos_qty            0\n",
              "product_weight_g              0\n",
              "product_length_cm             0\n",
              "product_height_cm             0\n",
              "product_width_cm              0\n",
              "dtype: int64"
            ]
          },
          "execution_count": 53,
          "metadata": {},
          "output_type": "execute_result"
        }
      ],
      "source": [
        "# Mengisi missing values pada product_category_name dengan 'unknown'\n",
        "df_products[\"product_category_name\"].fillna(\"unknown\", inplace=True)\n",
        "\n",
        "# Cek ulang apakah masih ada missing values\n",
        "df_products.isnull().sum()"
      ]
    },
    {
      "cell_type": "code",
      "execution_count": 54,
      "metadata": {},
      "outputs": [
        {
          "data": {
            "text/plain": [
              "(order_id                         0\n",
              " customer_id                      0\n",
              " order_status                     0\n",
              " order_purchase_timestamp         0\n",
              " order_approved_at                0\n",
              " order_delivered_carrier_date     0\n",
              " order_delivered_customer_date    0\n",
              " order_estimated_delivery_date    0\n",
              " dtype: int64,\n",
              " product_id                    0\n",
              " product_category_name         0\n",
              " product_name_lenght           0\n",
              " product_description_lenght    0\n",
              " product_photos_qty            0\n",
              " product_weight_g              0\n",
              " product_length_cm             0\n",
              " product_height_cm             0\n",
              " product_width_cm              0\n",
              " dtype: int64,\n",
              " review_id                  0\n",
              " order_id                   0\n",
              " review_score               0\n",
              " review_comment_title       0\n",
              " review_comment_message     0\n",
              " review_creation_date       0\n",
              " review_answer_timestamp    0\n",
              " dtype: int64)"
            ]
          },
          "execution_count": 54,
          "metadata": {},
          "output_type": "execute_result"
        }
      ],
      "source": [
        "# MEngecek ulang apakah masih ada missing values\n",
        "df_orders.isnull().sum(), df_products.isnull().sum(), df_reviews.isnull().sum()"
      ]
    },
    {
      "cell_type": "markdown",
      "metadata": {
        "id": "Q_5ejIqckiSP"
      },
      "source": [
        "**Insight:**\n",
        "\n",
        "Setelah proses cleaning, dataset telah dibersihkan dari missing values dan data yang tidak valid. Data transaksi yang tidak memiliki tanggal persetujuan pembayaran dihapus karena dianggap tidak valid.\n",
        "Untuk data produk, missing values pada kategori produk diisi dengan \"unknown\" agar tidak kehilangan informasi lainnya. Sekarang dataset siap untuk dianalisis lebih lanjut di tahap Exploratory Data Analysis (EDA)."
      ]
    },
    {
      "cell_type": "markdown",
      "metadata": {
        "id": "gp-Y6wU38DC1"
      },
      "source": [
        "## Exploratory Data Analysis (EDA)"
      ]
    },
    {
      "cell_type": "markdown",
      "metadata": {
        "id": "MW7WF2kr8DC1"
      },
      "source": [
        "### Explore ..."
      ]
    },
    {
      "cell_type": "code",
      "execution_count": 52,
      "metadata": {
        "colab": {
          "base_uri": "https://localhost:8080/",
          "height": 572
        },
        "id": "e9CQCZjk8DC2",
        "outputId": "ecf018af-3d7c-4ce5-b1f9-ec739a96a163"
      },
      "outputs": [
        {
          "data": {
            "text/html": [
              "<div>\n",
              "<style scoped>\n",
              "    .dataframe tbody tr th:only-of-type {\n",
              "        vertical-align: middle;\n",
              "    }\n",
              "\n",
              "    .dataframe tbody tr th {\n",
              "        vertical-align: top;\n",
              "    }\n",
              "\n",
              "    .dataframe thead th {\n",
              "        text-align: right;\n",
              "    }\n",
              "</style>\n",
              "<table border=\"1\" class=\"dataframe\">\n",
              "  <thead>\n",
              "    <tr style=\"text-align: right;\">\n",
              "      <th></th>\n",
              "      <th>order_id</th>\n",
              "      <th>order_item_id</th>\n",
              "      <th>product_id</th>\n",
              "      <th>seller_id</th>\n",
              "      <th>shipping_limit_date</th>\n",
              "      <th>price</th>\n",
              "      <th>freight_value</th>\n",
              "      <th>customer_id</th>\n",
              "      <th>order_status</th>\n",
              "      <th>order_purchase_timestamp</th>\n",
              "      <th>...</th>\n",
              "      <th>payment_sequential</th>\n",
              "      <th>payment_type</th>\n",
              "      <th>payment_installments</th>\n",
              "      <th>payment_value</th>\n",
              "      <th>review_id</th>\n",
              "      <th>review_score</th>\n",
              "      <th>review_comment_title</th>\n",
              "      <th>review_comment_message</th>\n",
              "      <th>review_creation_date</th>\n",
              "      <th>review_answer_timestamp</th>\n",
              "    </tr>\n",
              "  </thead>\n",
              "  <tbody>\n",
              "    <tr>\n",
              "      <th>0</th>\n",
              "      <td>00010242fe8c5a6d1ba2dd792cb16214</td>\n",
              "      <td>1</td>\n",
              "      <td>4244733e06e7ecb4970a6e2683c13e61</td>\n",
              "      <td>48436dade18ac8b2bce089ec2a041202</td>\n",
              "      <td>2017-09-19 09:45:35</td>\n",
              "      <td>58.90</td>\n",
              "      <td>13.29</td>\n",
              "      <td>3ce436f183e68e07877b285a838db11a</td>\n",
              "      <td>delivered</td>\n",
              "      <td>2017-09-13 08:59:02</td>\n",
              "      <td>...</td>\n",
              "      <td>1.0</td>\n",
              "      <td>credit_card</td>\n",
              "      <td>2.0</td>\n",
              "      <td>72.19</td>\n",
              "      <td>97ca439bc427b48bc1cd7177abe71365</td>\n",
              "      <td>5.0</td>\n",
              "      <td>NaN</td>\n",
              "      <td>Perfeito, produto entregue antes do combinado.</td>\n",
              "      <td>2017-09-21 00:00:00</td>\n",
              "      <td>2017-09-22 10:57:03</td>\n",
              "    </tr>\n",
              "    <tr>\n",
              "      <th>1</th>\n",
              "      <td>00018f77f2f0320c557190d7a144bdd3</td>\n",
              "      <td>1</td>\n",
              "      <td>e5f2d52b802189ee658865ca93d83a8f</td>\n",
              "      <td>dd7ddc04e1b6c2c614352b383efe2d36</td>\n",
              "      <td>2017-05-03 11:05:13</td>\n",
              "      <td>239.90</td>\n",
              "      <td>19.93</td>\n",
              "      <td>f6dd3ec061db4e3987629fe6b26e5cce</td>\n",
              "      <td>delivered</td>\n",
              "      <td>2017-04-26 10:53:06</td>\n",
              "      <td>...</td>\n",
              "      <td>1.0</td>\n",
              "      <td>credit_card</td>\n",
              "      <td>3.0</td>\n",
              "      <td>259.83</td>\n",
              "      <td>7b07bacd811c4117b742569b04ce3580</td>\n",
              "      <td>4.0</td>\n",
              "      <td>NaN</td>\n",
              "      <td>NaN</td>\n",
              "      <td>2017-05-13 00:00:00</td>\n",
              "      <td>2017-05-15 11:34:13</td>\n",
              "    </tr>\n",
              "    <tr>\n",
              "      <th>2</th>\n",
              "      <td>000229ec398224ef6ca0657da4fc703e</td>\n",
              "      <td>1</td>\n",
              "      <td>c777355d18b72b67abbeef9df44fd0fd</td>\n",
              "      <td>5b51032eddd242adc84c38acab88f23d</td>\n",
              "      <td>2018-01-18 14:48:30</td>\n",
              "      <td>199.00</td>\n",
              "      <td>17.87</td>\n",
              "      <td>6489ae5e4333f3693df5ad4372dab6d3</td>\n",
              "      <td>delivered</td>\n",
              "      <td>2018-01-14 14:33:31</td>\n",
              "      <td>...</td>\n",
              "      <td>1.0</td>\n",
              "      <td>credit_card</td>\n",
              "      <td>5.0</td>\n",
              "      <td>216.87</td>\n",
              "      <td>0c5b33dea94867d1ac402749e5438e8b</td>\n",
              "      <td>5.0</td>\n",
              "      <td>NaN</td>\n",
              "      <td>Chegou antes do prazo previsto e o produto sur...</td>\n",
              "      <td>2018-01-23 00:00:00</td>\n",
              "      <td>2018-01-23 16:06:31</td>\n",
              "    </tr>\n",
              "    <tr>\n",
              "      <th>3</th>\n",
              "      <td>00024acbcdf0a6daa1e931b038114c75</td>\n",
              "      <td>1</td>\n",
              "      <td>7634da152a4610f1595efa32f14722fc</td>\n",
              "      <td>9d7a1d34a5052409006425275ba1c2b4</td>\n",
              "      <td>2018-08-15 10:10:18</td>\n",
              "      <td>12.99</td>\n",
              "      <td>12.79</td>\n",
              "      <td>d4eb9395c8c0431ee92fce09860c5a06</td>\n",
              "      <td>delivered</td>\n",
              "      <td>2018-08-08 10:00:35</td>\n",
              "      <td>...</td>\n",
              "      <td>1.0</td>\n",
              "      <td>credit_card</td>\n",
              "      <td>2.0</td>\n",
              "      <td>25.78</td>\n",
              "      <td>f4028d019cb58564807486a6aaf33817</td>\n",
              "      <td>4.0</td>\n",
              "      <td>NaN</td>\n",
              "      <td>NaN</td>\n",
              "      <td>2018-08-15 00:00:00</td>\n",
              "      <td>2018-08-15 16:39:01</td>\n",
              "    </tr>\n",
              "    <tr>\n",
              "      <th>4</th>\n",
              "      <td>00042b26cf59d7ce69dfabb4e55b4fd9</td>\n",
              "      <td>1</td>\n",
              "      <td>ac6c3623068f30de03045865e4e10089</td>\n",
              "      <td>df560393f3a51e74553ab94004ba5c87</td>\n",
              "      <td>2017-02-13 13:57:51</td>\n",
              "      <td>199.90</td>\n",
              "      <td>18.14</td>\n",
              "      <td>58dbd0b2d70206bf40e62cd34e84d795</td>\n",
              "      <td>delivered</td>\n",
              "      <td>2017-02-04 13:57:51</td>\n",
              "      <td>...</td>\n",
              "      <td>1.0</td>\n",
              "      <td>credit_card</td>\n",
              "      <td>3.0</td>\n",
              "      <td>218.04</td>\n",
              "      <td>940144190dcba6351888cafa43f3a3a5</td>\n",
              "      <td>5.0</td>\n",
              "      <td>NaN</td>\n",
              "      <td>Gostei pois veio no prazo determinado .</td>\n",
              "      <td>2017-03-02 00:00:00</td>\n",
              "      <td>2017-03-03 10:54:59</td>\n",
              "    </tr>\n",
              "  </tbody>\n",
              "</table>\n",
              "<p>5 rows × 40 columns</p>\n",
              "</div>"
            ],
            "text/plain": [
              "                           order_id  order_item_id  \\\n",
              "0  00010242fe8c5a6d1ba2dd792cb16214              1   \n",
              "1  00018f77f2f0320c557190d7a144bdd3              1   \n",
              "2  000229ec398224ef6ca0657da4fc703e              1   \n",
              "3  00024acbcdf0a6daa1e931b038114c75              1   \n",
              "4  00042b26cf59d7ce69dfabb4e55b4fd9              1   \n",
              "\n",
              "                         product_id                         seller_id  \\\n",
              "0  4244733e06e7ecb4970a6e2683c13e61  48436dade18ac8b2bce089ec2a041202   \n",
              "1  e5f2d52b802189ee658865ca93d83a8f  dd7ddc04e1b6c2c614352b383efe2d36   \n",
              "2  c777355d18b72b67abbeef9df44fd0fd  5b51032eddd242adc84c38acab88f23d   \n",
              "3  7634da152a4610f1595efa32f14722fc  9d7a1d34a5052409006425275ba1c2b4   \n",
              "4  ac6c3623068f30de03045865e4e10089  df560393f3a51e74553ab94004ba5c87   \n",
              "\n",
              "   shipping_limit_date   price  freight_value  \\\n",
              "0  2017-09-19 09:45:35   58.90          13.29   \n",
              "1  2017-05-03 11:05:13  239.90          19.93   \n",
              "2  2018-01-18 14:48:30  199.00          17.87   \n",
              "3  2018-08-15 10:10:18   12.99          12.79   \n",
              "4  2017-02-13 13:57:51  199.90          18.14   \n",
              "\n",
              "                        customer_id order_status order_purchase_timestamp  \\\n",
              "0  3ce436f183e68e07877b285a838db11a    delivered      2017-09-13 08:59:02   \n",
              "1  f6dd3ec061db4e3987629fe6b26e5cce    delivered      2017-04-26 10:53:06   \n",
              "2  6489ae5e4333f3693df5ad4372dab6d3    delivered      2018-01-14 14:33:31   \n",
              "3  d4eb9395c8c0431ee92fce09860c5a06    delivered      2018-08-08 10:00:35   \n",
              "4  58dbd0b2d70206bf40e62cd34e84d795    delivered      2017-02-04 13:57:51   \n",
              "\n",
              "   ... payment_sequential payment_type payment_installments payment_value  \\\n",
              "0  ...                1.0  credit_card                  2.0         72.19   \n",
              "1  ...                1.0  credit_card                  3.0        259.83   \n",
              "2  ...                1.0  credit_card                  5.0        216.87   \n",
              "3  ...                1.0  credit_card                  2.0         25.78   \n",
              "4  ...                1.0  credit_card                  3.0        218.04   \n",
              "\n",
              "                          review_id  review_score  review_comment_title  \\\n",
              "0  97ca439bc427b48bc1cd7177abe71365           5.0                   NaN   \n",
              "1  7b07bacd811c4117b742569b04ce3580           4.0                   NaN   \n",
              "2  0c5b33dea94867d1ac402749e5438e8b           5.0                   NaN   \n",
              "3  f4028d019cb58564807486a6aaf33817           4.0                   NaN   \n",
              "4  940144190dcba6351888cafa43f3a3a5           5.0                   NaN   \n",
              "\n",
              "                              review_comment_message  review_creation_date  \\\n",
              "0     Perfeito, produto entregue antes do combinado.   2017-09-21 00:00:00   \n",
              "1                                                NaN   2017-05-13 00:00:00   \n",
              "2  Chegou antes do prazo previsto e o produto sur...   2018-01-23 00:00:00   \n",
              "3                                                NaN   2018-08-15 00:00:00   \n",
              "4            Gostei pois veio no prazo determinado .   2017-03-02 00:00:00   \n",
              "\n",
              "   review_answer_timestamp  \n",
              "0      2017-09-22 10:57:03  \n",
              "1      2017-05-15 11:34:13  \n",
              "2      2018-01-23 16:06:31  \n",
              "3      2018-08-15 16:39:01  \n",
              "4      2017-03-03 10:54:59  \n",
              "\n",
              "[5 rows x 40 columns]"
            ]
          },
          "execution_count": 52,
          "metadata": {},
          "output_type": "execute_result"
        }
      ],
      "source": [
        "# Import library yang diperlukan\n",
        "import pandas as pd\n",
        "import matplotlib.pyplot as plt\n",
        "import seaborn as sns\n",
        "\n",
        "# Load dataset\n",
        "df_clean = pd.read_csv(\"dashboard/main_data.csv\")\n",
        "\n",
        "# Menampilkan 5 baris pertama dataset\n",
        "df_clean.head()"
      ]
    },
    {
      "cell_type": "code",
      "execution_count": 53,
      "metadata": {},
      "outputs": [
        {
          "name": "stdout",
          "output_type": "stream",
          "text": [
            "<class 'pandas.core.frame.DataFrame'>\n",
            "RangeIndex: 118310 entries, 0 to 118309\n",
            "Data columns (total 40 columns):\n",
            " #   Column                         Non-Null Count   Dtype  \n",
            "---  ------                         --------------   -----  \n",
            " 0   order_id                       118310 non-null  object \n",
            " 1   order_item_id                  118310 non-null  int64  \n",
            " 2   product_id                     118310 non-null  object \n",
            " 3   seller_id                      118310 non-null  object \n",
            " 4   shipping_limit_date            118310 non-null  object \n",
            " 5   price                          118310 non-null  float64\n",
            " 6   freight_value                  118310 non-null  float64\n",
            " 7   customer_id                    118310 non-null  object \n",
            " 8   order_status                   118310 non-null  object \n",
            " 9   order_purchase_timestamp       118310 non-null  object \n",
            " 10  order_approved_at              118295 non-null  object \n",
            " 11  order_delivered_carrier_date   117056 non-null  object \n",
            " 12  order_delivered_customer_date  115722 non-null  object \n",
            " 13  order_estimated_delivery_date  118310 non-null  object \n",
            " 14  product_category_name          116601 non-null  object \n",
            " 15  product_name_lenght            116601 non-null  float64\n",
            " 16  product_description_lenght     116601 non-null  float64\n",
            " 17  product_photos_qty             116601 non-null  float64\n",
            " 18  product_weight_g               118290 non-null  float64\n",
            " 19  product_length_cm              118290 non-null  float64\n",
            " 20  product_height_cm              118290 non-null  float64\n",
            " 21  product_width_cm               118290 non-null  float64\n",
            " 22  product_category_name_english  116576 non-null  object \n",
            " 23  customer_unique_id             118310 non-null  object \n",
            " 24  customer_zip_code_prefix       118310 non-null  int64  \n",
            " 25  customer_city                  118310 non-null  object \n",
            " 26  customer_state                 118310 non-null  object \n",
            " 27  seller_zip_code_prefix         118310 non-null  int64  \n",
            " 28  seller_city                    118310 non-null  object \n",
            " 29  seller_state                   118310 non-null  object \n",
            " 30  payment_sequential             118307 non-null  float64\n",
            " 31  payment_type                   118307 non-null  object \n",
            " 32  payment_installments           118307 non-null  float64\n",
            " 33  payment_value                  118307 non-null  float64\n",
            " 34  review_id                      117332 non-null  object \n",
            " 35  review_score                   117332 non-null  float64\n",
            " 36  review_comment_title           13892 non-null   object \n",
            " 37  review_comment_message         49682 non-null   object \n",
            " 38  review_creation_date           117332 non-null  object \n",
            " 39  review_answer_timestamp        117332 non-null  object \n",
            "dtypes: float64(13), int64(3), object(24)\n",
            "memory usage: 36.1+ MB\n"
          ]
        },
        {
          "data": {
            "text/plain": [
              "order_id                              0\n",
              "order_item_id                         0\n",
              "product_id                            0\n",
              "seller_id                             0\n",
              "shipping_limit_date                   0\n",
              "price                                 0\n",
              "freight_value                         0\n",
              "customer_id                           0\n",
              "order_status                          0\n",
              "order_purchase_timestamp              0\n",
              "order_approved_at                    15\n",
              "order_delivered_carrier_date       1254\n",
              "order_delivered_customer_date      2588\n",
              "order_estimated_delivery_date         0\n",
              "product_category_name              1709\n",
              "product_name_lenght                1709\n",
              "product_description_lenght         1709\n",
              "product_photos_qty                 1709\n",
              "product_weight_g                     20\n",
              "product_length_cm                    20\n",
              "product_height_cm                    20\n",
              "product_width_cm                     20\n",
              "product_category_name_english      1734\n",
              "customer_unique_id                    0\n",
              "customer_zip_code_prefix              0\n",
              "customer_city                         0\n",
              "customer_state                        0\n",
              "seller_zip_code_prefix                0\n",
              "seller_city                           0\n",
              "seller_state                          0\n",
              "payment_sequential                    3\n",
              "payment_type                          3\n",
              "payment_installments                  3\n",
              "payment_value                         3\n",
              "review_id                           978\n",
              "review_score                        978\n",
              "review_comment_title             104418\n",
              "review_comment_message            68628\n",
              "review_creation_date                978\n",
              "review_answer_timestamp             978\n",
              "dtype: int64"
            ]
          },
          "execution_count": 53,
          "metadata": {},
          "output_type": "execute_result"
        }
      ],
      "source": [
        "# Menampilkan informasi umum tentang dataset\n",
        "df_clean.info()\n",
        "\n",
        "# Mengecek distribusi nilai unik pada kolom utama\n",
        "df_clean.describe()\n",
        "\n",
        "# Mengecek jumlah missing values\n",
        "df_clean.isnull().sum()"
      ]
    },
    {
      "cell_type": "code",
      "execution_count": 97,
      "metadata": {},
      "outputs": [
        {
          "data": {
            "text/html": [
              "<div>\n",
              "<style scoped>\n",
              "    .dataframe tbody tr th:only-of-type {\n",
              "        vertical-align: middle;\n",
              "    }\n",
              "\n",
              "    .dataframe tbody tr th {\n",
              "        vertical-align: top;\n",
              "    }\n",
              "\n",
              "    .dataframe thead th {\n",
              "        text-align: right;\n",
              "    }\n",
              "</style>\n",
              "<table border=\"1\" class=\"dataframe\">\n",
              "  <thead>\n",
              "    <tr style=\"text-align: right;\">\n",
              "      <th></th>\n",
              "      <th>order_id</th>\n",
              "      <th>product_id</th>\n",
              "      <th>seller_id</th>\n",
              "      <th>shipping_limit_date</th>\n",
              "      <th>customer_id</th>\n",
              "      <th>order_status</th>\n",
              "      <th>order_purchase_timestamp</th>\n",
              "      <th>order_approved_at</th>\n",
              "      <th>order_delivered_carrier_date</th>\n",
              "      <th>order_delivered_customer_date</th>\n",
              "      <th>...</th>\n",
              "      <th>customer_city</th>\n",
              "      <th>customer_state</th>\n",
              "      <th>seller_city</th>\n",
              "      <th>seller_state</th>\n",
              "      <th>payment_type</th>\n",
              "      <th>review_id</th>\n",
              "      <th>review_comment_title</th>\n",
              "      <th>review_comment_message</th>\n",
              "      <th>review_creation_date</th>\n",
              "      <th>review_answer_timestamp</th>\n",
              "    </tr>\n",
              "  </thead>\n",
              "  <tbody>\n",
              "    <tr>\n",
              "      <th>count</th>\n",
              "      <td>118310</td>\n",
              "      <td>118310</td>\n",
              "      <td>118310</td>\n",
              "      <td>118310</td>\n",
              "      <td>118310</td>\n",
              "      <td>118310</td>\n",
              "      <td>118310</td>\n",
              "      <td>118295</td>\n",
              "      <td>117056</td>\n",
              "      <td>115722</td>\n",
              "      <td>...</td>\n",
              "      <td>118310</td>\n",
              "      <td>118310</td>\n",
              "      <td>118310</td>\n",
              "      <td>118310</td>\n",
              "      <td>118307</td>\n",
              "      <td>117332</td>\n",
              "      <td>13892</td>\n",
              "      <td>49682</td>\n",
              "      <td>117332</td>\n",
              "      <td>117332</td>\n",
              "    </tr>\n",
              "    <tr>\n",
              "      <th>unique</th>\n",
              "      <td>98666</td>\n",
              "      <td>32951</td>\n",
              "      <td>3095</td>\n",
              "      <td>93318</td>\n",
              "      <td>98666</td>\n",
              "      <td>7</td>\n",
              "      <td>98112</td>\n",
              "      <td>90174</td>\n",
              "      <td>81017</td>\n",
              "      <td>95664</td>\n",
              "      <td>...</td>\n",
              "      <td>4110</td>\n",
              "      <td>27</td>\n",
              "      <td>611</td>\n",
              "      <td>23</td>\n",
              "      <td>4</td>\n",
              "      <td>97709</td>\n",
              "      <td>4497</td>\n",
              "      <td>35692</td>\n",
              "      <td>633</td>\n",
              "      <td>97547</td>\n",
              "    </tr>\n",
              "    <tr>\n",
              "      <th>top</th>\n",
              "      <td>895ab968e7bb0d5659d16cd74cd1650c</td>\n",
              "      <td>aca2eb7d00ea1a7b8ebd4e68314663af</td>\n",
              "      <td>4a3ca9315b744ce9f8e9374361493884</td>\n",
              "      <td>2017-08-14 20:43:31</td>\n",
              "      <td>270c23a11d024a44c896d1894b261a83</td>\n",
              "      <td>delivered</td>\n",
              "      <td>2017-08-08 20:26:31</td>\n",
              "      <td>2017-08-08 20:43:31</td>\n",
              "      <td>2017-08-10 11:58:14</td>\n",
              "      <td>2017-08-14 12:46:18</td>\n",
              "      <td>...</td>\n",
              "      <td>sao paulo</td>\n",
              "      <td>SP</td>\n",
              "      <td>sao paulo</td>\n",
              "      <td>SP</td>\n",
              "      <td>credit_card</td>\n",
              "      <td>eef5dbca8d37dfce6db7d7b16dd0525e</td>\n",
              "      <td>Recomendo</td>\n",
              "      <td>Muito bom</td>\n",
              "      <td>2017-12-19 00:00:00</td>\n",
              "      <td>2017-08-17 22:17:55</td>\n",
              "    </tr>\n",
              "    <tr>\n",
              "      <th>freq</th>\n",
              "      <td>63</td>\n",
              "      <td>536</td>\n",
              "      <td>2155</td>\n",
              "      <td>63</td>\n",
              "      <td>63</td>\n",
              "      <td>115723</td>\n",
              "      <td>63</td>\n",
              "      <td>63</td>\n",
              "      <td>63</td>\n",
              "      <td>63</td>\n",
              "      <td>...</td>\n",
              "      <td>18727</td>\n",
              "      <td>49865</td>\n",
              "      <td>29293</td>\n",
              "      <td>84377</td>\n",
              "      <td>87258</td>\n",
              "      <td>63</td>\n",
              "      <td>494</td>\n",
              "      <td>259</td>\n",
              "      <td>542</td>\n",
              "      <td>63</td>\n",
              "    </tr>\n",
              "  </tbody>\n",
              "</table>\n",
              "<p>4 rows × 24 columns</p>\n",
              "</div>"
            ],
            "text/plain": [
              "                                order_id                        product_id  \\\n",
              "count                             118310                            118310   \n",
              "unique                             98666                             32951   \n",
              "top     895ab968e7bb0d5659d16cd74cd1650c  aca2eb7d00ea1a7b8ebd4e68314663af   \n",
              "freq                                  63                               536   \n",
              "\n",
              "                               seller_id  shipping_limit_date  \\\n",
              "count                             118310               118310   \n",
              "unique                              3095                93318   \n",
              "top     4a3ca9315b744ce9f8e9374361493884  2017-08-14 20:43:31   \n",
              "freq                                2155                   63   \n",
              "\n",
              "                             customer_id order_status  \\\n",
              "count                             118310       118310   \n",
              "unique                             98666            7   \n",
              "top     270c23a11d024a44c896d1894b261a83    delivered   \n",
              "freq                                  63       115723   \n",
              "\n",
              "       order_purchase_timestamp    order_approved_at  \\\n",
              "count                    118310               118295   \n",
              "unique                    98112                90174   \n",
              "top         2017-08-08 20:26:31  2017-08-08 20:43:31   \n",
              "freq                         63                   63   \n",
              "\n",
              "       order_delivered_carrier_date order_delivered_customer_date  ...  \\\n",
              "count                        117056                        115722  ...   \n",
              "unique                        81017                         95664  ...   \n",
              "top             2017-08-10 11:58:14           2017-08-14 12:46:18  ...   \n",
              "freq                             63                            63  ...   \n",
              "\n",
              "       customer_city customer_state seller_city seller_state payment_type  \\\n",
              "count         118310         118310      118310       118310       118307   \n",
              "unique          4110             27         611           23            4   \n",
              "top        sao paulo             SP   sao paulo           SP  credit_card   \n",
              "freq           18727          49865       29293        84377        87258   \n",
              "\n",
              "                               review_id review_comment_title  \\\n",
              "count                             117332                13892   \n",
              "unique                             97709                 4497   \n",
              "top     eef5dbca8d37dfce6db7d7b16dd0525e            Recomendo   \n",
              "freq                                  63                  494   \n",
              "\n",
              "       review_comment_message review_creation_date review_answer_timestamp  \n",
              "count                   49682               117332                  117332  \n",
              "unique                  35692                  633                   97547  \n",
              "top                 Muito bom  2017-12-19 00:00:00     2017-08-17 22:17:55  \n",
              "freq                      259                  542                      63  \n",
              "\n",
              "[4 rows x 24 columns]"
            ]
          },
          "execution_count": 97,
          "metadata": {},
          "output_type": "execute_result"
        }
      ],
      "source": [
        "import pandas as pd\n",
        "df = pd.read_csv(\"dashboard/main_data.csv\")\n",
        "\n",
        "# Statistik deskriptif untuk kolom numerik\n",
        "df.describe()\n",
        "\n",
        "# Statistik deskriptif untuk kolom kategori\n",
        "df.describe(include='object')"
      ]
    },
    {
      "cell_type": "code",
      "execution_count": 59,
      "metadata": {},
      "outputs": [
        {
          "data": {
            "text/html": [
              "<div>\n",
              "<style scoped>\n",
              "    .dataframe tbody tr th:only-of-type {\n",
              "        vertical-align: middle;\n",
              "    }\n",
              "\n",
              "    .dataframe tbody tr th {\n",
              "        vertical-align: top;\n",
              "    }\n",
              "\n",
              "    .dataframe thead th {\n",
              "        text-align: right;\n",
              "    }\n",
              "</style>\n",
              "<table border=\"1\" class=\"dataframe\">\n",
              "  <thead>\n",
              "    <tr style=\"text-align: right;\">\n",
              "      <th></th>\n",
              "      <th>order_id</th>\n",
              "      <th>order_item_id</th>\n",
              "      <th>product_id</th>\n",
              "      <th>seller_id</th>\n",
              "      <th>shipping_limit_date</th>\n",
              "      <th>price</th>\n",
              "      <th>freight_value</th>\n",
              "      <th>customer_id</th>\n",
              "      <th>order_status</th>\n",
              "      <th>order_purchase_timestamp</th>\n",
              "      <th>...</th>\n",
              "      <th>payment_sequential</th>\n",
              "      <th>payment_type</th>\n",
              "      <th>payment_installments</th>\n",
              "      <th>payment_value</th>\n",
              "      <th>review_id</th>\n",
              "      <th>review_score</th>\n",
              "      <th>review_comment_title</th>\n",
              "      <th>review_comment_message</th>\n",
              "      <th>review_creation_date</th>\n",
              "      <th>review_answer_timestamp</th>\n",
              "    </tr>\n",
              "  </thead>\n",
              "  <tbody>\n",
              "    <tr>\n",
              "      <th>3</th>\n",
              "      <td>00024acbcdf0a6daa1e931b038114c75</td>\n",
              "      <td>1</td>\n",
              "      <td>7634da152a4610f1595efa32f14722fc</td>\n",
              "      <td>9d7a1d34a5052409006425275ba1c2b4</td>\n",
              "      <td>2018-08-15 10:10:18</td>\n",
              "      <td>12.99</td>\n",
              "      <td>12.79</td>\n",
              "      <td>d4eb9395c8c0431ee92fce09860c5a06</td>\n",
              "      <td>delivered</td>\n",
              "      <td>2018-08-08 10:00:35</td>\n",
              "      <td>...</td>\n",
              "      <td>1.0</td>\n",
              "      <td>credit_card</td>\n",
              "      <td>2.0</td>\n",
              "      <td>25.78</td>\n",
              "      <td>f4028d019cb58564807486a6aaf33817</td>\n",
              "      <td>4.0</td>\n",
              "      <td>NaN</td>\n",
              "      <td>NaN</td>\n",
              "      <td>2018-08-15 00:00:00</td>\n",
              "      <td>2018-08-15 16:39:01</td>\n",
              "    </tr>\n",
              "    <tr>\n",
              "      <th>7</th>\n",
              "      <td>000576fe39319847cbb9d288c5617fa6</td>\n",
              "      <td>1</td>\n",
              "      <td>557d850972a7d6f792fd18ae1400d9b6</td>\n",
              "      <td>5996cddab893a4652a15592fb58ab8db</td>\n",
              "      <td>2018-07-10 12:30:45</td>\n",
              "      <td>810.00</td>\n",
              "      <td>70.75</td>\n",
              "      <td>9ed5e522dd9dd85b4af4a077526d8117</td>\n",
              "      <td>delivered</td>\n",
              "      <td>2018-07-04 12:08:27</td>\n",
              "      <td>...</td>\n",
              "      <td>1.0</td>\n",
              "      <td>credit_card</td>\n",
              "      <td>10.0</td>\n",
              "      <td>880.75</td>\n",
              "      <td>f0733ebeb51b637dfdc953983c867b89</td>\n",
              "      <td>5.0</td>\n",
              "      <td>NaN</td>\n",
              "      <td>NaN</td>\n",
              "      <td>2018-07-10 00:00:00</td>\n",
              "      <td>2018-07-11 20:14:25</td>\n",
              "    </tr>\n",
              "    <tr>\n",
              "      <th>8</th>\n",
              "      <td>0005a1a1728c9d785b8e2b08b904576c</td>\n",
              "      <td>1</td>\n",
              "      <td>310ae3c140ff94b03219ad0adc3c778f</td>\n",
              "      <td>a416b6a846a11724393025641d4edd5e</td>\n",
              "      <td>2018-03-26 18:31:29</td>\n",
              "      <td>145.95</td>\n",
              "      <td>11.65</td>\n",
              "      <td>16150771dfd4776261284213b89c304e</td>\n",
              "      <td>delivered</td>\n",
              "      <td>2018-03-19 18:40:33</td>\n",
              "      <td>...</td>\n",
              "      <td>1.0</td>\n",
              "      <td>credit_card</td>\n",
              "      <td>3.0</td>\n",
              "      <td>157.60</td>\n",
              "      <td>67b1ab8f3ec19d5a90f153f21757d3a1</td>\n",
              "      <td>1.0</td>\n",
              "      <td>NaN</td>\n",
              "      <td>Na descrição do produto quando fui efetuar a c...</td>\n",
              "      <td>2018-03-30 00:00:00</td>\n",
              "      <td>2018-04-02 00:52:01</td>\n",
              "    </tr>\n",
              "    <tr>\n",
              "      <th>9</th>\n",
              "      <td>0005f50442cb953dcd1d21e1fb923495</td>\n",
              "      <td>1</td>\n",
              "      <td>4535b0e1091c278dfd193e5a1d63b39f</td>\n",
              "      <td>ba143b05f0110f0dc71ad71b4466ce92</td>\n",
              "      <td>2018-07-06 14:10:56</td>\n",
              "      <td>53.99</td>\n",
              "      <td>11.40</td>\n",
              "      <td>351d3cb2cee3c7fd0af6616c82df21d3</td>\n",
              "      <td>delivered</td>\n",
              "      <td>2018-07-02 13:59:39</td>\n",
              "      <td>...</td>\n",
              "      <td>1.0</td>\n",
              "      <td>credit_card</td>\n",
              "      <td>1.0</td>\n",
              "      <td>65.39</td>\n",
              "      <td>5c0b7e34ed85ec659bb064902d878e7a</td>\n",
              "      <td>4.0</td>\n",
              "      <td>NaN</td>\n",
              "      <td>NaN</td>\n",
              "      <td>2018-07-05 00:00:00</td>\n",
              "      <td>2018-07-05 23:17:04</td>\n",
              "    </tr>\n",
              "    <tr>\n",
              "      <th>10</th>\n",
              "      <td>00061f2a7bc09da83e415a52dc8a4af1</td>\n",
              "      <td>1</td>\n",
              "      <td>d63c1011f49d98b976c352955b1c4bea</td>\n",
              "      <td>cc419e0650a3c5ba77189a1882b7556a</td>\n",
              "      <td>2018-03-29 22:28:09</td>\n",
              "      <td>59.99</td>\n",
              "      <td>8.88</td>\n",
              "      <td>c6fc061d86fab1e2b2eac259bac71a49</td>\n",
              "      <td>delivered</td>\n",
              "      <td>2018-03-24 22:16:10</td>\n",
              "      <td>...</td>\n",
              "      <td>1.0</td>\n",
              "      <td>credit_card</td>\n",
              "      <td>3.0</td>\n",
              "      <td>68.87</td>\n",
              "      <td>7e92c32ae297ef950ee69781d9f1760c</td>\n",
              "      <td>5.0</td>\n",
              "      <td>NaN</td>\n",
              "      <td>A caixa do produto veio com uma pequena avaria...</td>\n",
              "      <td>2018-03-30 00:00:00</td>\n",
              "      <td>2018-03-30 04:04:56</td>\n",
              "    </tr>\n",
              "  </tbody>\n",
              "</table>\n",
              "<p>5 rows × 40 columns</p>\n",
              "</div>"
            ],
            "text/plain": [
              "                            order_id  order_item_id  \\\n",
              "3   00024acbcdf0a6daa1e931b038114c75              1   \n",
              "7   000576fe39319847cbb9d288c5617fa6              1   \n",
              "8   0005a1a1728c9d785b8e2b08b904576c              1   \n",
              "9   0005f50442cb953dcd1d21e1fb923495              1   \n",
              "10  00061f2a7bc09da83e415a52dc8a4af1              1   \n",
              "\n",
              "                          product_id                         seller_id  \\\n",
              "3   7634da152a4610f1595efa32f14722fc  9d7a1d34a5052409006425275ba1c2b4   \n",
              "7   557d850972a7d6f792fd18ae1400d9b6  5996cddab893a4652a15592fb58ab8db   \n",
              "8   310ae3c140ff94b03219ad0adc3c778f  a416b6a846a11724393025641d4edd5e   \n",
              "9   4535b0e1091c278dfd193e5a1d63b39f  ba143b05f0110f0dc71ad71b4466ce92   \n",
              "10  d63c1011f49d98b976c352955b1c4bea  cc419e0650a3c5ba77189a1882b7556a   \n",
              "\n",
              "    shipping_limit_date   price  freight_value  \\\n",
              "3   2018-08-15 10:10:18   12.99          12.79   \n",
              "7   2018-07-10 12:30:45  810.00          70.75   \n",
              "8   2018-03-26 18:31:29  145.95          11.65   \n",
              "9   2018-07-06 14:10:56   53.99          11.40   \n",
              "10  2018-03-29 22:28:09   59.99           8.88   \n",
              "\n",
              "                         customer_id order_status order_purchase_timestamp  \\\n",
              "3   d4eb9395c8c0431ee92fce09860c5a06    delivered      2018-08-08 10:00:35   \n",
              "7   9ed5e522dd9dd85b4af4a077526d8117    delivered      2018-07-04 12:08:27   \n",
              "8   16150771dfd4776261284213b89c304e    delivered      2018-03-19 18:40:33   \n",
              "9   351d3cb2cee3c7fd0af6616c82df21d3    delivered      2018-07-02 13:59:39   \n",
              "10  c6fc061d86fab1e2b2eac259bac71a49    delivered      2018-03-24 22:16:10   \n",
              "\n",
              "    ... payment_sequential payment_type payment_installments payment_value  \\\n",
              "3   ...                1.0  credit_card                  2.0         25.78   \n",
              "7   ...                1.0  credit_card                 10.0        880.75   \n",
              "8   ...                1.0  credit_card                  3.0        157.60   \n",
              "9   ...                1.0  credit_card                  1.0         65.39   \n",
              "10  ...                1.0  credit_card                  3.0         68.87   \n",
              "\n",
              "                           review_id  review_score  review_comment_title  \\\n",
              "3   f4028d019cb58564807486a6aaf33817           4.0                   NaN   \n",
              "7   f0733ebeb51b637dfdc953983c867b89           5.0                   NaN   \n",
              "8   67b1ab8f3ec19d5a90f153f21757d3a1           1.0                   NaN   \n",
              "9   5c0b7e34ed85ec659bb064902d878e7a           4.0                   NaN   \n",
              "10  7e92c32ae297ef950ee69781d9f1760c           5.0                   NaN   \n",
              "\n",
              "                               review_comment_message  review_creation_date  \\\n",
              "3                                                 NaN   2018-08-15 00:00:00   \n",
              "7                                                 NaN   2018-07-10 00:00:00   \n",
              "8   Na descrição do produto quando fui efetuar a c...   2018-03-30 00:00:00   \n",
              "9                                                 NaN   2018-07-05 00:00:00   \n",
              "10  A caixa do produto veio com uma pequena avaria...   2018-03-30 00:00:00   \n",
              "\n",
              "    review_answer_timestamp  \n",
              "3       2018-08-15 16:39:01  \n",
              "7       2018-07-11 20:14:25  \n",
              "8       2018-04-02 00:52:01  \n",
              "9       2018-07-05 23:17:04  \n",
              "10      2018-03-30 04:04:56  \n",
              "\n",
              "[5 rows x 40 columns]"
            ]
          },
          "execution_count": 59,
          "metadata": {},
          "output_type": "execute_result"
        }
      ],
      "source": [
        "import datetime as dt\n",
        "\n",
        "# Konversi kolom order_purchase_timestamp ke datetime\n",
        "df_clean[\"order_purchase_timestamp\"] = pd.to_datetime(df_clean[\"order_purchase_timestamp\"])\n",
        "\n",
        "# Menentukan tanggal referensi\n",
        "reference_date = df_clean[\"order_purchase_timestamp\"].max()\n",
        "six_months_ago = reference_date - dt.timedelta(days=180)\n",
        "\n",
        "# Filter data 6 bulan terakhir\n",
        "df_last_6_months = df_clean[df_clean[\"order_purchase_timestamp\"] >= six_months_ago]\n",
        "\n",
        "# Tampilkan 5 baris pertama data\n",
        "df_last_6_months.head()"
      ]
    },
    {
      "cell_type": "code",
      "execution_count": 63,
      "metadata": {},
      "outputs": [
        {
          "data": {
            "text/html": [
              "<div>\n",
              "<style scoped>\n",
              "    .dataframe tbody tr th:only-of-type {\n",
              "        vertical-align: middle;\n",
              "    }\n",
              "\n",
              "    .dataframe tbody tr th {\n",
              "        vertical-align: top;\n",
              "    }\n",
              "\n",
              "    .dataframe thead th {\n",
              "        text-align: right;\n",
              "    }\n",
              "</style>\n",
              "<table border=\"1\" class=\"dataframe\">\n",
              "  <thead>\n",
              "    <tr style=\"text-align: right;\">\n",
              "      <th></th>\n",
              "      <th>purchase_month</th>\n",
              "      <th>order_id</th>\n",
              "    </tr>\n",
              "  </thead>\n",
              "  <tbody>\n",
              "    <tr>\n",
              "      <th>0</th>\n",
              "      <td>2018-03</td>\n",
              "      <td>6773</td>\n",
              "    </tr>\n",
              "    <tr>\n",
              "      <th>1</th>\n",
              "      <td>2018-04</td>\n",
              "      <td>8272</td>\n",
              "    </tr>\n",
              "    <tr>\n",
              "      <th>2</th>\n",
              "      <td>2018-05</td>\n",
              "      <td>8231</td>\n",
              "    </tr>\n",
              "    <tr>\n",
              "      <th>3</th>\n",
              "      <td>2018-06</td>\n",
              "      <td>7396</td>\n",
              "    </tr>\n",
              "    <tr>\n",
              "      <th>4</th>\n",
              "      <td>2018-07</td>\n",
              "      <td>7356</td>\n",
              "    </tr>\n",
              "    <tr>\n",
              "      <th>5</th>\n",
              "      <td>2018-08</td>\n",
              "      <td>7464</td>\n",
              "    </tr>\n",
              "    <tr>\n",
              "      <th>6</th>\n",
              "      <td>2018-09</td>\n",
              "      <td>1</td>\n",
              "    </tr>\n",
              "  </tbody>\n",
              "</table>\n",
              "</div>"
            ],
            "text/plain": [
              "  purchase_month  order_id\n",
              "0        2018-03      6773\n",
              "1        2018-04      8272\n",
              "2        2018-05      8231\n",
              "3        2018-06      7396\n",
              "4        2018-07      7356\n",
              "5        2018-08      7464\n",
              "6        2018-09         1"
            ]
          },
          "execution_count": 63,
          "metadata": {},
          "output_type": "execute_result"
        }
      ],
      "source": [
        "# Tambahkan kolom bulan pembelian dengan .loc untuk menghindari warning\n",
        "df_last_6_months.loc[:, \"purchase_month\"] = df_last_6_months[\"order_purchase_timestamp\"].dt.to_period(\"M\")\n",
        "\n",
        "# Agregasi data berdasarkan bulan\n",
        "monthly_trend = df_last_6_months.groupby(\"purchase_month\")[\"order_id\"].count().reset_index()\n",
        "\n",
        "# Tampilkan hasil agregasi\n",
        "monthly_trend"
      ]
    },
    {
      "cell_type": "code",
      "execution_count": 1,
      "metadata": {},
      "outputs": [],
      "source": [
        "import pandas as pd\n",
        "\n",
        "# Load dataset\n",
        "df = pd.read_csv(\"dashboard/main_data.csv\")\n",
        "\n",
        "# Menghitung jumlah pembelian per produk\n",
        "top_products = df.groupby(\"product_id\")[\"order_item_id\"].count().reset_index()\n",
        "\n",
        "# Mengambil 10 produk teratas\n",
        "top_products = top_products.sort_values(by=\"order_item_id\", ascending=False).head(10)"
      ]
    },
    {
      "cell_type": "code",
      "execution_count": null,
      "metadata": {},
      "outputs": [],
      "source": [
        "# Agregasi jumlah pembelian berdasarkan kategori produk\n",
        "category_trend = df_clean.groupby(\"product_category_name_english\")[\"order_item_id\"].count().reset_index()\n",
        "category_trend = category_trend.sort_values(by=\"order_item_id\", ascending=False).head(10)\n",
        "\n",
        "# Tampilkan hasil agregasi\n",
        "category_trend"
      ]
    },
    {
      "cell_type": "code",
      "execution_count": null,
      "metadata": {},
      "outputs": [
        {
          "data": {
            "text/html": [
              "<div>\n",
              "<style scoped>\n",
              "    .dataframe tbody tr th:only-of-type {\n",
              "        vertical-align: middle;\n",
              "    }\n",
              "\n",
              "    .dataframe tbody tr th {\n",
              "        vertical-align: top;\n",
              "    }\n",
              "\n",
              "    .dataframe thead th {\n",
              "        text-align: right;\n",
              "    }\n",
              "</style>\n",
              "<table border=\"1\" class=\"dataframe\">\n",
              "  <thead>\n",
              "    <tr style=\"text-align: right;\">\n",
              "      <th></th>\n",
              "      <th>product_category_name_english</th>\n",
              "      <th>customer_unique_id</th>\n",
              "    </tr>\n",
              "  </thead>\n",
              "  <tbody>\n",
              "    <tr>\n",
              "      <th>7</th>\n",
              "      <td>bed_bath_table</td>\n",
              "      <td>9145</td>\n",
              "    </tr>\n",
              "    <tr>\n",
              "      <th>43</th>\n",
              "      <td>health_beauty</td>\n",
              "      <td>8678</td>\n",
              "    </tr>\n",
              "    <tr>\n",
              "      <th>65</th>\n",
              "      <td>sports_leisure</td>\n",
              "      <td>7515</td>\n",
              "    </tr>\n",
              "    <tr>\n",
              "      <th>15</th>\n",
              "      <td>computers_accessories</td>\n",
              "      <td>6557</td>\n",
              "    </tr>\n",
              "    <tr>\n",
              "      <th>39</th>\n",
              "      <td>furniture_decor</td>\n",
              "      <td>6317</td>\n",
              "    </tr>\n",
              "    <tr>\n",
              "      <th>49</th>\n",
              "      <td>housewares</td>\n",
              "      <td>5821</td>\n",
              "    </tr>\n",
              "    <tr>\n",
              "      <th>70</th>\n",
              "      <td>watches_gifts</td>\n",
              "      <td>5547</td>\n",
              "    </tr>\n",
              "    <tr>\n",
              "      <th>68</th>\n",
              "      <td>telephony</td>\n",
              "      <td>4152</td>\n",
              "    </tr>\n",
              "    <tr>\n",
              "      <th>5</th>\n",
              "      <td>auto</td>\n",
              "      <td>3852</td>\n",
              "    </tr>\n",
              "    <tr>\n",
              "      <th>69</th>\n",
              "      <td>toys</td>\n",
              "      <td>3844</td>\n",
              "    </tr>\n",
              "  </tbody>\n",
              "</table>\n",
              "</div>"
            ],
            "text/plain": [
              "   product_category_name_english  customer_unique_id\n",
              "7                 bed_bath_table                9145\n",
              "43                 health_beauty                8678\n",
              "65                sports_leisure                7515\n",
              "15         computers_accessories                6557\n",
              "39               furniture_decor                6317\n",
              "49                    housewares                5821\n",
              "70                 watches_gifts                5547\n",
              "68                     telephony                4152\n",
              "5                           auto                3852\n",
              "69                          toys                3844"
            ]
          },
          "execution_count": 64,
          "metadata": {},
          "output_type": "execute_result"
        }
      ],
      "source": [
        "# Hitung jumlah pelanggan unik per kategori produk\n",
        "customer_retention = df_clean.groupby(\"product_category_name_english\")[\"customer_unique_id\"].nunique().reset_index()\n",
        "customer_retention = customer_retention.sort_values(by=\"customer_unique_id\", ascending=False).head(10)\n",
        "\n",
        "# Tampilkan hasil agregasi\n",
        "customer_retention"
      ]
    },
    {
      "cell_type": "markdown",
      "metadata": {
        "id": "th_Lzl2Fkj9O"
      },
      "source": [
        "**Insight:**\n",
        "\n",
        "Dari hasil eksplorasi data setelah proses cleaning, terdapat beberapa temuan yang dapat dianalisis lebih lanjut. Pada tahap pertama, informasi umum dataset menunjukkan bahwa orders_df memiliki 96.461 entri, dengan beberapa kolom bertipe datetime seperti order_purchase_timestamp, order_approved_at, order_delivered_carrier_date, order_delivered_customer_date, dan order_estimated_delivery_date. Hal ini menegaskan bahwa tipe data telah dikonversi dengan benar selama proses cleaning, sehingga memungkinkan analisis lebih lanjut terkait pola waktu dalam pesanan. Selain itu, dataset ini tidak memiliki missing values lagi setelah proses cleaning, yang berarti semua data sudah siap untuk dianalisis lebih lanjut tanpa perlu penanganan nilai yang hilang.Dari distribusi status pesanan, mayoritas pesanan memiliki status \"delivered\", dengan jumlah mencapai 96.455 pesanan, sedangkan hanya 6 pesanan yang memiliki status \"canceled\". Ini menunjukkan bahwa hampir semua pesanan berhasil dikirimkan, sementara jumlah pembatalan sangat kecil. Meskipun begitu, meskipun proporsinya rendah, analisis lebih lanjut dapat dilakukan untuk memahami alasan pembatalan pesanan, seperti apakah ada pola tertentu dalam produk atau pelanggan tertentu yang lebih sering membatalkan pesanan.\n",
        "\n",
        "Berdasarkan statistik deskriptif, rentang waktu pemesanan dalam dataset mencakup periode dari September 2016 hingga Agustus 2018, dengan rata-rata waktu pembelian terjadi sekitar awal tahun 2018. Data ini bisa menjadi dasar untuk melihat tren penjualan dari waktu ke waktu. Selain itu, dengan melihat order_delivered_customer_date, terlihat bahwa pengiriman pesanan memiliki variasi yang cukup besar, dari beberapa hari hingga lebih dari satu bulan. Analisis lebih lanjut diperlukan untuk mengetahui apakah ada pola keterlambatan dalam pengiriman atau apakah sebagian besar pesanan dikirim tepat waktu sesuai dengan order_estimated_delivery_date.Secara keseluruhan, hasil eksplorasi ini menunjukkan bahwa dataset siap untuk dianalisis lebih lanjut, terutama dalam hal waktu pengiriman, tren pesanan dari waktu ke waktu, serta distribusi status pesanan yang lebih mendetail."
      ]
    },
    {
      "cell_type": "markdown",
      "metadata": {
        "id": "zsyZjqak8DC2"
      },
      "source": [
        "## Visualization & Explanatory Analysis"
      ]
    },
    {
      "cell_type": "code",
      "execution_count": 96,
      "metadata": {},
      "outputs": [
        {
          "data": {
            "image/png": "[encoded data removed]",
            "text/plain": [
              "<Figure size 1200x800 with 20 Axes>"
            ]
          },
          "metadata": {},
          "output_type": "display_data"
        }
      ],
      "source": [
        "# Histogram untuk melihat distribusi data numerik\n",
        "df.hist(figsize=(12,8), bins=30)\n",
        "plt.show()"
      ]
    },
    {
      "cell_type": "code",
      "execution_count": 57,
      "metadata": {},
      "outputs": [
        {
          "data": {
            "image/png": "[encoded data removed]",
            "text/plain": [
              "<Figure size 1200x600 with 1 Axes>"
            ]
          },
          "metadata": {},
          "output_type": "display_data"
        }
      ],
      "source": [
        "# Plot distribusi kategori\n",
        "plt.figure(figsize=(12,6))\n",
        "sns.countplot(y=df['order_status'], order=df['order_status'].value_counts().index)\n",
        "plt.title(\"Distribusi Status Pesanan\")\n",
        "plt.show()"
      ]
    },
    {
      "cell_type": "markdown",
      "metadata": {
        "id": "HZxOiQ6n8DC2"
      },
      "source": [
        "### Pertanyaan 1: Produk Paling Banyak Dibeli dalam 6 Bulan Terakhir & Tren Pembelian?"
      ]
    },
    {
      "cell_type": "code",
      "execution_count": null,
      "metadata": {},
      "outputs": [
        {
          "ename": "KeyboardInterrupt",
          "evalue": "",
          "output_type": "error",
          "traceback": [
            "\u001b[1;31m---------------------------------------------------------------------------\u001b[0m",
            "\u001b[1;31mKeyboardInterrupt\u001b[0m                         Traceback (most recent call last)",
            "Cell \u001b[1;32mIn[100], line 4\u001b[0m\n\u001b[0;32m      1\u001b[0m top_products \u001b[38;5;241m=\u001b[39m df\u001b[38;5;241m.\u001b[39mgroupby(\u001b[38;5;124m\"\u001b[39m\u001b[38;5;124mproduct_id\u001b[39m\u001b[38;5;124m\"\u001b[39m)[\u001b[38;5;124m\"\u001b[39m\u001b[38;5;124morder_item_id\u001b[39m\u001b[38;5;124m\"\u001b[39m]\u001b[38;5;241m.\u001b[39mcount()\u001b[38;5;241m.\u001b[39mreset_index()\n\u001b[0;32m      3\u001b[0m plt\u001b[38;5;241m.\u001b[39mfigure(figsize\u001b[38;5;241m=\u001b[39m(\u001b[38;5;241m12\u001b[39m, \u001b[38;5;241m6\u001b[39m))\n\u001b[1;32m----> 4\u001b[0m \u001b[43msns\u001b[49m\u001b[38;5;241;43m.\u001b[39;49m\u001b[43mbarplot\u001b[49m\u001b[43m(\u001b[49m\u001b[43mdata\u001b[49m\u001b[38;5;241;43m=\u001b[39;49m\u001b[43mtop_products\u001b[49m\u001b[43m,\u001b[49m\u001b[43m \u001b[49m\u001b[43mx\u001b[49m\u001b[38;5;241;43m=\u001b[39;49m\u001b[38;5;124;43m\"\u001b[39;49m\u001b[38;5;124;43mproduct_id\u001b[39;49m\u001b[38;5;124;43m\"\u001b[39;49m\u001b[43m,\u001b[49m\u001b[43m \u001b[49m\u001b[43my\u001b[49m\u001b[38;5;241;43m=\u001b[39;49m\u001b[38;5;124;43m\"\u001b[39;49m\u001b[38;5;124;43morder_item_id\u001b[39;49m\u001b[38;5;124;43m\"\u001b[39;49m\u001b[43m,\u001b[49m\u001b[43m \u001b[49m\u001b[43mcolor\u001b[49m\u001b[38;5;241;43m=\u001b[39;49m\u001b[38;5;124;43m\"\u001b[39;49m\u001b[38;5;124;43mroyalblue\u001b[39;49m\u001b[38;5;124;43m\"\u001b[39;49m\u001b[43m)\u001b[49m\n\u001b[0;32m      5\u001b[0m plt\u001b[38;5;241m.\u001b[39mxticks(rotation\u001b[38;5;241m=\u001b[39m\u001b[38;5;241m45\u001b[39m)\n\u001b[0;32m      6\u001b[0m plt\u001b[38;5;241m.\u001b[39mxlabel(\u001b[38;5;124m\"\u001b[39m\u001b[38;5;124mProduct ID\u001b[39m\u001b[38;5;124m\"\u001b[39m)\n",
            "File \u001b[1;32md:\\Dicoding\\.venv\\lib\\site-packages\\seaborn\\categorical.py:2380\u001b[0m, in \u001b[0;36mbarplot\u001b[1;34m(data, x, y, hue, order, hue_order, estimator, errorbar, n_boot, seed, units, weights, orient, color, palette, saturation, fill, hue_norm, width, dodge, gap, log_scale, native_scale, formatter, legend, capsize, err_kws, ci, errcolor, errwidth, ax, **kwargs)\u001b[0m\n\u001b[0;32m   2377\u001b[0m \u001b[38;5;66;03m# Deprecations to remove in v0.15.0.\u001b[39;00m\n\u001b[0;32m   2378\u001b[0m err_kws, capsize \u001b[38;5;241m=\u001b[39m p\u001b[38;5;241m.\u001b[39m_err_kws_backcompat(err_kws, errcolor, errwidth, capsize)\n\u001b[1;32m-> 2380\u001b[0m \u001b[43mp\u001b[49m\u001b[38;5;241;43m.\u001b[39;49m\u001b[43mplot_bars\u001b[49m\u001b[43m(\u001b[49m\n\u001b[0;32m   2381\u001b[0m \u001b[43m    \u001b[49m\u001b[43maggregator\u001b[49m\u001b[38;5;241;43m=\u001b[39;49m\u001b[43maggregator\u001b[49m\u001b[43m,\u001b[49m\n\u001b[0;32m   2382\u001b[0m \u001b[43m    \u001b[49m\u001b[43mdodge\u001b[49m\u001b[38;5;241;43m=\u001b[39;49m\u001b[43mdodge\u001b[49m\u001b[43m,\u001b[49m\n\u001b[0;32m   2383\u001b[0m \u001b[43m    \u001b[49m\u001b[43mwidth\u001b[49m\u001b[38;5;241;43m=\u001b[39;49m\u001b[43mwidth\u001b[49m\u001b[43m,\u001b[49m\n\u001b[0;32m   2384\u001b[0m \u001b[43m    \u001b[49m\u001b[43mgap\u001b[49m\u001b[38;5;241;43m=\u001b[39;49m\u001b[43mgap\u001b[49m\u001b[43m,\u001b[49m\n\u001b[0;32m   2385\u001b[0m \u001b[43m    \u001b[49m\u001b[43mcolor\u001b[49m\u001b[38;5;241;43m=\u001b[39;49m\u001b[43mcolor\u001b[49m\u001b[43m,\u001b[49m\n\u001b[0;32m   2386\u001b[0m \u001b[43m    \u001b[49m\u001b[43mfill\u001b[49m\u001b[38;5;241;43m=\u001b[39;49m\u001b[43mfill\u001b[49m\u001b[43m,\u001b[49m\n\u001b[0;32m   2387\u001b[0m \u001b[43m    \u001b[49m\u001b[43mcapsize\u001b[49m\u001b[38;5;241;43m=\u001b[39;49m\u001b[43mcapsize\u001b[49m\u001b[43m,\u001b[49m\n\u001b[0;32m   2388\u001b[0m \u001b[43m    \u001b[49m\u001b[43merr_kws\u001b[49m\u001b[38;5;241;43m=\u001b[39;49m\u001b[43merr_kws\u001b[49m\u001b[43m,\u001b[49m\n\u001b[0;32m   2389\u001b[0m \u001b[43m    \u001b[49m\u001b[43mplot_kws\u001b[49m\u001b[38;5;241;43m=\u001b[39;49m\u001b[43mkwargs\u001b[49m\u001b[43m,\u001b[49m\n\u001b[0;32m   2390\u001b[0m \u001b[43m\u001b[49m\u001b[43m)\u001b[49m\n\u001b[0;32m   2392\u001b[0m p\u001b[38;5;241m.\u001b[39m_add_axis_labels(ax)\n\u001b[0;32m   2393\u001b[0m p\u001b[38;5;241m.\u001b[39m_adjust_cat_axis(ax, axis\u001b[38;5;241m=\u001b[39mp\u001b[38;5;241m.\u001b[39morient)\n",
            "File \u001b[1;32md:\\Dicoding\\.venv\\lib\\site-packages\\seaborn\\categorical.py:1315\u001b[0m, in \u001b[0;36m_CategoricalPlotter.plot_bars\u001b[1;34m(self, aggregator, dodge, gap, width, fill, color, capsize, err_kws, plot_kws)\u001b[0m\n\u001b[0;32m   1312\u001b[0m \u001b[38;5;28;01melse\u001b[39;00m:\n\u001b[0;32m   1313\u001b[0m     kws\u001b[38;5;241m.\u001b[39mupdate(color\u001b[38;5;241m=\u001b[39mmain_color, edgecolor\u001b[38;5;241m=\u001b[39mmain_color, facecolor\u001b[38;5;241m=\u001b[39m\u001b[38;5;124m\"\u001b[39m\u001b[38;5;124mnone\u001b[39m\u001b[38;5;124m\"\u001b[39m)\n\u001b[1;32m-> 1315\u001b[0m bar_func(\u001b[38;5;241m*\u001b[39m\u001b[38;5;241m*\u001b[39m{\u001b[38;5;241m*\u001b[39m\u001b[38;5;241m*\u001b[39mkws, \u001b[38;5;241m*\u001b[39m\u001b[38;5;241m*\u001b[39mplot_kws})\n\u001b[0;32m   1317\u001b[0m \u001b[38;5;28;01mif\u001b[39;00m aggregator\u001b[38;5;241m.\u001b[39merror_method \u001b[38;5;129;01mis\u001b[39;00m \u001b[38;5;129;01mnot\u001b[39;00m \u001b[38;5;28;01mNone\u001b[39;00m:\n\u001b[0;32m   1318\u001b[0m     \u001b[38;5;28mself\u001b[39m\u001b[38;5;241m.\u001b[39mplot_errorbars(\n\u001b[0;32m   1319\u001b[0m         ax, agg_data, capsize,\n\u001b[0;32m   1320\u001b[0m         {\u001b[38;5;124m\"\u001b[39m\u001b[38;5;124mcolor\u001b[39m\u001b[38;5;124m\"\u001b[39m: \u001b[38;5;124m\"\u001b[39m\u001b[38;5;124m.26\u001b[39m\u001b[38;5;124m\"\u001b[39m \u001b[38;5;28;01mif\u001b[39;00m fill \u001b[38;5;28;01melse\u001b[39;00m main_color, \u001b[38;5;241m*\u001b[39m\u001b[38;5;241m*\u001b[39merr_kws}\n\u001b[0;32m   1321\u001b[0m     )\n",
            "File \u001b[1;32md:\\Dicoding\\.venv\\lib\\site-packages\\matplotlib\\__init__.py:1521\u001b[0m, in \u001b[0;36m_preprocess_data.<locals>.inner\u001b[1;34m(ax, data, *args, **kwargs)\u001b[0m\n\u001b[0;32m   1518\u001b[0m \u001b[38;5;129m@functools\u001b[39m\u001b[38;5;241m.\u001b[39mwraps(func)\n\u001b[0;32m   1519\u001b[0m \u001b[38;5;28;01mdef\u001b[39;00m\u001b[38;5;250m \u001b[39m\u001b[38;5;21minner\u001b[39m(ax, \u001b[38;5;241m*\u001b[39margs, data\u001b[38;5;241m=\u001b[39m\u001b[38;5;28;01mNone\u001b[39;00m, \u001b[38;5;241m*\u001b[39m\u001b[38;5;241m*\u001b[39mkwargs):\n\u001b[0;32m   1520\u001b[0m     \u001b[38;5;28;01mif\u001b[39;00m data \u001b[38;5;129;01mis\u001b[39;00m \u001b[38;5;28;01mNone\u001b[39;00m:\n\u001b[1;32m-> 1521\u001b[0m         \u001b[38;5;28;01mreturn\u001b[39;00m func(\n\u001b[0;32m   1522\u001b[0m             ax,\n\u001b[0;32m   1523\u001b[0m             \u001b[38;5;241m*\u001b[39m\u001b[38;5;28mmap\u001b[39m(cbook\u001b[38;5;241m.\u001b[39msanitize_sequence, args),\n\u001b[0;32m   1524\u001b[0m             \u001b[38;5;241m*\u001b[39m\u001b[38;5;241m*\u001b[39m{k: cbook\u001b[38;5;241m.\u001b[39msanitize_sequence(v) \u001b[38;5;28;01mfor\u001b[39;00m k, v \u001b[38;5;129;01min\u001b[39;00m kwargs\u001b[38;5;241m.\u001b[39mitems()})\n\u001b[0;32m   1526\u001b[0m     bound \u001b[38;5;241m=\u001b[39m new_sig\u001b[38;5;241m.\u001b[39mbind(ax, \u001b[38;5;241m*\u001b[39margs, \u001b[38;5;241m*\u001b[39m\u001b[38;5;241m*\u001b[39mkwargs)\n\u001b[0;32m   1527\u001b[0m     auto_label \u001b[38;5;241m=\u001b[39m (bound\u001b[38;5;241m.\u001b[39marguments\u001b[38;5;241m.\u001b[39mget(label_namer)\n\u001b[0;32m   1528\u001b[0m                   \u001b[38;5;129;01mor\u001b[39;00m bound\u001b[38;5;241m.\u001b[39mkwargs\u001b[38;5;241m.\u001b[39mget(label_namer))\n",
            "File \u001b[1;32md:\\Dicoding\\.venv\\lib\\site-packages\\matplotlib\\axes\\_axes.py:2660\u001b[0m, in \u001b[0;36mAxes.bar\u001b[1;34m(self, x, height, width, bottom, align, **kwargs)\u001b[0m\n\u001b[0;32m   2658\u001b[0m     \u001b[38;5;28;01melse\u001b[39;00m:  \u001b[38;5;66;03m# horizontal\u001b[39;00m\n\u001b[0;32m   2659\u001b[0m         r\u001b[38;5;241m.\u001b[39msticky_edges\u001b[38;5;241m.\u001b[39mx\u001b[38;5;241m.\u001b[39mappend(l)\n\u001b[1;32m-> 2660\u001b[0m     \u001b[38;5;28;43mself\u001b[39;49m\u001b[38;5;241;43m.\u001b[39;49m\u001b[43madd_patch\u001b[49m\u001b[43m(\u001b[49m\u001b[43mr\u001b[49m\u001b[43m)\u001b[49m\n\u001b[0;32m   2661\u001b[0m     patches\u001b[38;5;241m.\u001b[39mappend(r)\n\u001b[0;32m   2663\u001b[0m \u001b[38;5;28;01mif\u001b[39;00m xerr \u001b[38;5;129;01mis\u001b[39;00m \u001b[38;5;129;01mnot\u001b[39;00m \u001b[38;5;28;01mNone\u001b[39;00m \u001b[38;5;129;01mor\u001b[39;00m yerr \u001b[38;5;129;01mis\u001b[39;00m \u001b[38;5;129;01mnot\u001b[39;00m \u001b[38;5;28;01mNone\u001b[39;00m:\n",
            "File \u001b[1;32md:\\Dicoding\\.venv\\lib\\site-packages\\matplotlib\\axes\\_base.py:2476\u001b[0m, in \u001b[0;36m_AxesBase.add_patch\u001b[1;34m(self, p)\u001b[0m\n\u001b[0;32m   2474\u001b[0m \u001b[38;5;28;01mif\u001b[39;00m p\u001b[38;5;241m.\u001b[39mget_clip_path() \u001b[38;5;129;01mis\u001b[39;00m \u001b[38;5;28;01mNone\u001b[39;00m:\n\u001b[0;32m   2475\u001b[0m     p\u001b[38;5;241m.\u001b[39mset_clip_path(\u001b[38;5;28mself\u001b[39m\u001b[38;5;241m.\u001b[39mpatch)\n\u001b[1;32m-> 2476\u001b[0m \u001b[38;5;28;43mself\u001b[39;49m\u001b[38;5;241;43m.\u001b[39;49m\u001b[43m_update_patch_limits\u001b[49m\u001b[43m(\u001b[49m\u001b[43mp\u001b[49m\u001b[43m)\u001b[49m\n\u001b[0;32m   2477\u001b[0m \u001b[38;5;28mself\u001b[39m\u001b[38;5;241m.\u001b[39m_children\u001b[38;5;241m.\u001b[39mappend(p)\n\u001b[0;32m   2478\u001b[0m p\u001b[38;5;241m.\u001b[39m_remove_method \u001b[38;5;241m=\u001b[39m \u001b[38;5;28mself\u001b[39m\u001b[38;5;241m.\u001b[39m_children\u001b[38;5;241m.\u001b[39mremove\n",
            "File \u001b[1;32md:\\Dicoding\\.venv\\lib\\site-packages\\matplotlib\\axes\\_base.py:2518\u001b[0m, in \u001b[0;36m_AxesBase._update_patch_limits\u001b[1;34m(self, patch)\u001b[0m\n\u001b[0;32m   2516\u001b[0m         updatey \u001b[38;5;241m=\u001b[39m \u001b[38;5;28;01mFalse\u001b[39;00m\n\u001b[0;32m   2517\u001b[0m trf_to_data \u001b[38;5;241m=\u001b[39m patch_trf \u001b[38;5;241m-\u001b[39m \u001b[38;5;28mself\u001b[39m\u001b[38;5;241m.\u001b[39mtransData\n\u001b[1;32m-> 2518\u001b[0m xys \u001b[38;5;241m=\u001b[39m \u001b[43mtrf_to_data\u001b[49m\u001b[38;5;241;43m.\u001b[39;49m\u001b[43mtransform\u001b[49m\u001b[43m(\u001b[49m\u001b[43mvertices\u001b[49m\u001b[43m)\u001b[49m\n\u001b[0;32m   2519\u001b[0m \u001b[38;5;28mself\u001b[39m\u001b[38;5;241m.\u001b[39mupdate_datalim(xys, updatex\u001b[38;5;241m=\u001b[39mupdatex, updatey\u001b[38;5;241m=\u001b[39mupdatey)\n",
            "File \u001b[1;32md:\\Dicoding\\.venv\\lib\\site-packages\\matplotlib\\transforms.py:1495\u001b[0m, in \u001b[0;36mTransform.transform\u001b[1;34m(self, values)\u001b[0m\n\u001b[0;32m   1492\u001b[0m values \u001b[38;5;241m=\u001b[39m values\u001b[38;5;241m.\u001b[39mreshape((\u001b[38;5;241m-\u001b[39m\u001b[38;5;241m1\u001b[39m, \u001b[38;5;28mself\u001b[39m\u001b[38;5;241m.\u001b[39minput_dims))\n\u001b[0;32m   1494\u001b[0m \u001b[38;5;66;03m# Transform the values\u001b[39;00m\n\u001b[1;32m-> 1495\u001b[0m res \u001b[38;5;241m=\u001b[39m \u001b[38;5;28;43mself\u001b[39;49m\u001b[38;5;241;43m.\u001b[39;49m\u001b[43mtransform_affine\u001b[49m\u001b[43m(\u001b[49m\u001b[38;5;28;43mself\u001b[39;49m\u001b[38;5;241;43m.\u001b[39;49m\u001b[43mtransform_non_affine\u001b[49m\u001b[43m(\u001b[49m\u001b[43mvalues\u001b[49m\u001b[43m)\u001b[49m\u001b[43m)\u001b[49m\n\u001b[0;32m   1497\u001b[0m \u001b[38;5;66;03m# Convert the result back to the shape of the input values.\u001b[39;00m\n\u001b[0;32m   1498\u001b[0m \u001b[38;5;28;01mif\u001b[39;00m ndim \u001b[38;5;241m==\u001b[39m \u001b[38;5;241m0\u001b[39m:\n",
            "File \u001b[1;32md:\\Dicoding\\.venv\\lib\\site-packages\\matplotlib\\transforms.py:2410\u001b[0m, in \u001b[0;36mCompositeGenericTransform.transform_affine\u001b[1;34m(self, values)\u001b[0m\n\u001b[0;32m   2408\u001b[0m \u001b[38;5;28;01mdef\u001b[39;00m\u001b[38;5;250m \u001b[39m\u001b[38;5;21mtransform_affine\u001b[39m(\u001b[38;5;28mself\u001b[39m, values):\n\u001b[0;32m   2409\u001b[0m     \u001b[38;5;66;03m# docstring inherited\u001b[39;00m\n\u001b[1;32m-> 2410\u001b[0m     \u001b[38;5;28;01mreturn\u001b[39;00m \u001b[38;5;28;43mself\u001b[39;49m\u001b[38;5;241;43m.\u001b[39;49m\u001b[43mget_affine\u001b[49m\u001b[43m(\u001b[49m\u001b[43m)\u001b[49m\u001b[38;5;241m.\u001b[39mtransform(values)\n",
            "File \u001b[1;32md:\\Dicoding\\.venv\\lib\\site-packages\\matplotlib\\transforms.py:2436\u001b[0m, in \u001b[0;36mCompositeGenericTransform.get_affine\u001b[1;34m(self)\u001b[0m\n\u001b[0;32m   2434\u001b[0m     \u001b[38;5;28;01mreturn\u001b[39;00m \u001b[38;5;28mself\u001b[39m\u001b[38;5;241m.\u001b[39m_b\u001b[38;5;241m.\u001b[39mget_affine()\n\u001b[0;32m   2435\u001b[0m \u001b[38;5;28;01melse\u001b[39;00m:\n\u001b[1;32m-> 2436\u001b[0m     \u001b[38;5;28;01mreturn\u001b[39;00m Affine2D(\u001b[43mnp\u001b[49m\u001b[38;5;241;43m.\u001b[39;49m\u001b[43mdot\u001b[49m\u001b[43m(\u001b[49m\u001b[38;5;28;43mself\u001b[39;49m\u001b[38;5;241;43m.\u001b[39;49m\u001b[43m_b\u001b[49m\u001b[38;5;241;43m.\u001b[39;49m\u001b[43mget_affine\u001b[49m\u001b[43m(\u001b[49m\u001b[43m)\u001b[49m\u001b[38;5;241;43m.\u001b[39;49m\u001b[43mget_matrix\u001b[49m\u001b[43m(\u001b[49m\u001b[43m)\u001b[49m\u001b[43m,\u001b[49m\n\u001b[0;32m   2437\u001b[0m \u001b[43m                           \u001b[49m\u001b[38;5;28;43mself\u001b[39;49m\u001b[38;5;241;43m.\u001b[39;49m\u001b[43m_a\u001b[49m\u001b[38;5;241;43m.\u001b[39;49m\u001b[43mget_affine\u001b[49m\u001b[43m(\u001b[49m\u001b[43m)\u001b[49m\u001b[38;5;241;43m.\u001b[39;49m\u001b[43mget_matrix\u001b[49m\u001b[43m(\u001b[49m\u001b[43m)\u001b[49m\u001b[43m)\u001b[49m)\n",
            "\u001b[1;31mKeyboardInterrupt\u001b[0m: "
          ]
        }
      ],
      "source": [
        "plt.figure(figsize=(12, 6))\n",
        "sns.barplot(data=top_products, x=\"product_id\", y=\"order_item_id\", color=\"royalblue\")\n",
        "plt.xticks(rotation=45)\n",
        "plt.xlabel(\"Product ID\")\n",
        "plt.ylabel(\"Jumlah Pembelian\")\n",
        "plt.title(\"Top 10 Produk Paling Banyak Dibeli dalam 6 Bulan Terakhir\")\n",
        "plt.show()"
      ]
    },
    {
      "cell_type": "code",
      "execution_count": 60,
      "metadata": {},
      "outputs": [
        {
          "data": {
            "image/png": "[encoded data removed]",
            "text/plain": [
              "<Figure size 1200x600 with 1 Axes>"
            ]
          },
          "metadata": {},
          "output_type": "display_data"
        }
      ],
      "source": [
        "# Konversi purchase_month menjadi string\n",
        "monthly_trend[\"purchase_month\"] = monthly_trend[\"purchase_month\"].astype(str)\n",
        "\n",
        "# Visualisasi tren pembelian dari waktu ke waktu\n",
        "plt.figure(figsize=(12, 6))\n",
        "sns.lineplot(data=monthly_trend, x=\"purchase_month\", y=\"order_id\", marker=\"o\", linewidth=2, color=\"b\")\n",
        "plt.xticks(rotation=45)\n",
        "plt.xlabel(\"Bulan\")\n",
        "plt.ylabel(\"Jumlah Pembelian\")\n",
        "plt.title(\"Tren Pembelian dalam 6 Bulan Terakhir\")\n",
        "plt.show()"
      ]
    },
    {
      "cell_type": "markdown",
      "metadata": {
        "id": "DgHI7CiU8DC2"
      },
      "source": [
        "### Pertanyaan 2: Pola Pembelian Berdasarkan Kategori & Retensi Pelanggan?"
      ]
    },
    {
      "cell_type": "code",
      "execution_count": 47,
      "metadata": {},
      "outputs": [
        {
          "data": {
            "image/png": "[encoded data removed]",
            "text/plain": [
              "<Figure size 1200x600 with 1 Axes>"
            ]
          },
          "metadata": {},
          "output_type": "display_data"
        }
      ],
      "source": [
        "# Visualisasi kategori produk paling banyak dibeli\n",
        "plt.figure(figsize=(12, 6))\n",
        "sns.barplot(\n",
        "    data=category_trend, \n",
        "    x=\"product_category_name_english\", \n",
        "    y=\"order_item_id\", \n",
        "    hue=\"product_category_name_english\", \n",
        "    dodge=False,  \n",
        "    palette=\"coolwarm\",\n",
        "    legend=False  \n",
        ")\n",
        "plt.xticks(rotation=45)\n",
        "plt.xlabel(\"Kategori Produk\")\n",
        "plt.ylabel(\"Jumlah Pembelian\")\n",
        "plt.title(\"Top 10 Kategori Produk Paling Banyak Dibeli\")\n",
        "plt.show()\n"
      ]
    },
    {
      "cell_type": "code",
      "execution_count": null,
      "metadata": {},
      "outputs": [
        {
          "data": {
            "image/png": "[encoded data removed]",
            "text/plain": [
              "<Figure size 1200x600 with 1 Axes>"
            ]
          },
          "metadata": {},
          "output_type": "display_data"
        }
      ],
      "source": [
        "# Visualisasi kategori dengan tingkat retensi pelanggan tertinggi\n",
        "plt.figure(figsize=(12, 6))\n",
        "sns.barplot(\n",
        "    data=customer_retention, \n",
        "    x=\"product_category_name_english\", \n",
        "    y=\"customer_unique_id\", \n",
        "    hue=\"product_category_name_english\",\n",
        "    dodge=False, \n",
        "    palette=\"viridis\",\n",
        "    legend=False \n",
        ")\n",
        "plt.xticks(rotation=45)\n",
        "plt.xlabel(\"Kategori Produk\")\n",
        "plt.ylabel(\"Jumlah Pelanggan Unik\")\n",
        "plt.title(\"Kategori Produk dengan Tingkat Retensi Pelanggan Tertinggi\")\n",
        "plt.show()"
      ]
    },
    {
      "cell_type": "markdown",
      "metadata": {
        "id": "_0-36BDLklRg"
      },
      "source": [
        "**Insight:**\n",
        "\n",
        "Produk Paling Banyak Dibeli dalam 6 Bulan Terakhir & Tren Pembelian:\n",
        "Analisis pertama dilakukan untuk mengidentifikasi produk yang paling banyak dibeli dalam enam bulan terakhir serta bagaimana tren pembeliannya. Dengan mengekstrak data berdasarkan periode waktu terbaru, kita dapat mengamati perubahan tren serta produk mana yang memiliki permintaan tertinggi. Hasil visualisasi menunjukkan bahwa ada beberapa produk yang secara konsisten menjadi pilihan utama pelanggan. Selain itu, dengan membuat tren pembelian bulanan, kita dapat melihat pola naik turunnya jumlah transaksi yang mungkin dipengaruhi oleh faktor musiman, promosi, atau periode tertentu dalam tahun.\n",
        "Pola Pembelian Berdasarkan Kategori & Retensi Pelanggan:\n",
        "Selanjutnya, kita mengeksplorasi bagaimana pola pembelian berdasarkan kategori produk. Beberapa kategori produk memiliki volume transaksi yang lebih tinggi dibandingkan kategori lainnya, yang menunjukkan preferensi pelanggan terhadap jenis produk tertentu. Selain itu, analisis tingkat retensi pelanggan berdasarkan kategori produk dilakukan untuk memahami kategori mana yang memiliki loyalitas pelanggan lebih tinggi. Dengan melihat jumlah pelanggan unik yang kembali melakukan pembelian di kategori tertentu, kita dapat mengidentifikasi kategori dengan tingkat keterikatan pelanggan yang lebih kuat.\n",
        "Hasil analisis ini memberikan wawasan berharga dalam memahami perilaku pelanggan dan tren pasar. Dari pola pembelian dan tingkat retensi pelanggan, dapat ditentukan strategi bisnis yang lebih efektif, seperti meningkatkan stok produk yang memiliki tren meningkat, melakukan promosi pada kategori dengan retensi pelanggan tinggi, atau mengoptimalkan strategi pemasaran untuk kategori dengan performa rendah. Dengan informasi ini, pengambilan keputusan bisnis dapat dilakukan dengan lebih terarah untuk meningkatkan penjualan dan kepuasan pelanggan."
      ]
    },
    {
      "cell_type": "markdown",
      "metadata": {
        "id": "9y4VUsmcYNZ5"
      },
      "source": [
        "## Analisis Lanjutan (Opsional)"
      ]
    },
    {
      "cell_type": "code",
      "execution_count": 65,
      "metadata": {
        "colab": {
          "base_uri": "https://localhost:8080/"
        },
        "id": "iWhnzsJGYUCO",
        "outputId": "d1ad218c-24df-4f9c-aad2-bc9155885cbd"
      },
      "outputs": [
        {
          "data": {
            "text/html": [
              "<div>\n",
              "<style scoped>\n",
              "    .dataframe tbody tr th:only-of-type {\n",
              "        vertical-align: middle;\n",
              "    }\n",
              "\n",
              "    .dataframe tbody tr th {\n",
              "        vertical-align: top;\n",
              "    }\n",
              "\n",
              "    .dataframe thead th {\n",
              "        text-align: right;\n",
              "    }\n",
              "</style>\n",
              "<table border=\"1\" class=\"dataframe\">\n",
              "  <thead>\n",
              "    <tr style=\"text-align: right;\">\n",
              "      <th></th>\n",
              "      <th>customer_unique_id</th>\n",
              "      <th>Recency</th>\n",
              "      <th>Frequency</th>\n",
              "      <th>Monetary</th>\n",
              "    </tr>\n",
              "  </thead>\n",
              "  <tbody>\n",
              "    <tr>\n",
              "      <th>0</th>\n",
              "      <td>0000366f3b9a7992bf8c76cfdf3221e2</td>\n",
              "      <td>115</td>\n",
              "      <td>1</td>\n",
              "      <td>141.90</td>\n",
              "    </tr>\n",
              "    <tr>\n",
              "      <th>1</th>\n",
              "      <td>0000b849f77a49e4a4ce2b2a4ca5be3f</td>\n",
              "      <td>118</td>\n",
              "      <td>1</td>\n",
              "      <td>27.19</td>\n",
              "    </tr>\n",
              "    <tr>\n",
              "      <th>2</th>\n",
              "      <td>0000f46a3911fa3c0805444483337064</td>\n",
              "      <td>541</td>\n",
              "      <td>1</td>\n",
              "      <td>86.22</td>\n",
              "    </tr>\n",
              "    <tr>\n",
              "      <th>3</th>\n",
              "      <td>0000f6ccb0745a6a4b88665a16c9f078</td>\n",
              "      <td>325</td>\n",
              "      <td>1</td>\n",
              "      <td>43.62</td>\n",
              "    </tr>\n",
              "    <tr>\n",
              "      <th>4</th>\n",
              "      <td>0004aac84e0df4da2b147fca70cf8255</td>\n",
              "      <td>292</td>\n",
              "      <td>1</td>\n",
              "      <td>196.89</td>\n",
              "    </tr>\n",
              "  </tbody>\n",
              "</table>\n",
              "</div>"
            ],
            "text/plain": [
              "                 customer_unique_id  Recency  Frequency  Monetary\n",
              "0  0000366f3b9a7992bf8c76cfdf3221e2      115          1    141.90\n",
              "1  0000b849f77a49e4a4ce2b2a4ca5be3f      118          1     27.19\n",
              "2  0000f46a3911fa3c0805444483337064      541          1     86.22\n",
              "3  0000f6ccb0745a6a4b88665a16c9f078      325          1     43.62\n",
              "4  0004aac84e0df4da2b147fca70cf8255      292          1    196.89"
            ]
          },
          "execution_count": 65,
          "metadata": {},
          "output_type": "execute_result"
        }
      ],
      "source": [
        "import datetime as dt\n",
        "\n",
        "# Menentukan tanggal referensi sebagai transaksi terbaru dalam dataset\n",
        "reference_date = df_clean[\"order_purchase_timestamp\"].max()\n",
        "\n",
        "# Menghitung Recency (berapa hari sejak transaksi terakhir)\n",
        "df_rfm = df_clean.groupby(\"customer_unique_id\").agg({\n",
        "    \"order_purchase_timestamp\": lambda x: (reference_date - x.max()).days,\n",
        "    \"order_id\": \"count\",\n",
        "    \"payment_value\": \"sum\"\n",
        "}).reset_index()\n",
        "\n",
        "# Ganti nama kolom agar sesuai dengan konsep RFM\n",
        "df_rfm.rename(columns={\n",
        "    \"order_purchase_timestamp\": \"Recency\",\n",
        "    \"order_id\": \"Frequency\",\n",
        "    \"payment_value\": \"Monetary\"\n",
        "}, inplace=True)\n",
        "\n",
        "# Tampilkan 5 baris pertama hasil RFM\n",
        "df_rfm.head()"
      ]
    },
    {
      "cell_type": "code",
      "execution_count": 66,
      "metadata": {},
      "outputs": [
        {
          "data": {
            "image/png": "[encoded data removed]",
            "text/plain": [
              "<Figure size 1800x500 with 3 Axes>"
            ]
          },
          "metadata": {},
          "output_type": "display_data"
        }
      ],
      "source": [
        "import seaborn as sns\n",
        "import matplotlib.pyplot as plt\n",
        "\n",
        "# Visualisasi distribusi Recency, Frequency, Monetary\n",
        "fig, axes = plt.subplots(1, 3, figsize=(18, 5))\n",
        "\n",
        "sns.histplot(df_rfm[\"Recency\"], bins=20, kde=True, ax=axes[0], color=\"blue\")\n",
        "axes[0].set_title(\"Distribusi Recency (Hari sejak pembelian terakhir)\")\n",
        "\n",
        "sns.histplot(df_rfm[\"Frequency\"], bins=20, kde=True, ax=axes[1], color=\"green\")\n",
        "axes[1].set_title(\"Distribusi Frequency (Jumlah Transaksi)\")\n",
        "\n",
        "sns.histplot(df_rfm[\"Monetary\"], bins=20, kde=True, ax=axes[2], color=\"red\")\n",
        "axes[2].set_title(\"Distribusi Monetary (Total Pembelian)\")\n",
        "\n",
        "plt.tight_layout()\n",
        "plt.show()"
      ]
    },
    {
      "cell_type": "code",
      "execution_count": null,
      "metadata": {},
      "outputs": [
        {
          "data": {
            "image/png": "[encoded data removed]",
            "text/plain": [
              "<Figure size 1000x500 with 1 Axes>"
            ]
          },
          "metadata": {},
          "output_type": "display_data"
        }
      ],
      "source": [
        "import pandas as pd\n",
        "import matplotlib.pyplot as plt\n",
        "\n",
        "# Load dataset\n",
        "df_clean = pd.read_csv(\"dashboard/main_data.csv\")\n",
        "\n",
        "# Hitung jumlah pelanggan per kota\n",
        "city_counts = df_clean[\"customer_city\"].value_counts().head(10)\n",
        "\n",
        "# Plot data\n",
        "plt.figure(figsize=(10, 5))\n",
        "city_counts.plot(kind=\"bar\", color=\"skyblue\")\n",
        "plt.xlabel(\"Kota\")\n",
        "plt.ylabel(\"Jumlah Pelanggan\")\n",
        "plt.title(\"10 Kota dengan Pelanggan Terbanyak\")\n",
        "plt.xticks(rotation=45)\n",
        "plt.show()"
      ]
    },
    {
      "cell_type": "markdown",
      "metadata": {
        "id": "_WeHlCeX8DC2"
      },
      "source": [
        "## Conclusion\n",
        "\n",
        "Dalam analisis ini, kita telah melalui beberapa tahapan penting untuk memahami data pelanggan dengan lebih baik. Proses dimulai dengan data gathering, di mana kita mengumpulkan dataset yang berisi informasi pelanggan, termasuk lokasi mereka. Setelah data terkumpul, langkah berikutnya adalah assessing, yaitu mengevaluasi struktur data, mengecek kualitasnya, dan mengidentifikasi potensi masalah seperti nilai yang hilang atau inkonsistensi.\n",
        "Setelah itu, dilakukan data cleaning untuk memastikan dataset bersih dan siap untuk dianalisis. Ini mencakup penanganan nilai yang hilang, duplikasi, serta memastikan format data yang sesuai. Dengan data yang sudah bersih, tahap berikutnya adalah exploratory data analysis (EDA), di mana kita mulai memahami pola-pola dalam data melalui berbagai teknik statistik dan visualisasi awal. Pada tahap ini, kita mencoba menggunakan berbagai metode untuk melihat bagaimana data pelanggan tersebar berdasarkan lokasi mereka.\n",
        "Dalam proses explanation & visualization, kita awalnya mencoba menerapkan heatmap untuk menampilkan distribusi pelanggan secara geografis. Namun, karena keterbatasan memori saat mengolah data dalam jumlah besar, pendekatan ini kurang efektif. Sebagai alternatif, kita memilih metode yang lebih ringan namun tetap memberikan insight yang kuat, yaitu visualisasi dalam bentuk diagram batang untuk menunjukkan kota dengan jumlah pelanggan terbanyak.\n",
        "Analisis lanjutan dilakukan untuk menggali lebih dalam bagaimana distribusi pelanggan berdasarkan lokasi dapat memberikan wawasan strategis. Dari hasil visualisasi, kita bisa melihat bahwa pelanggan terkonsentrasi di beberapa kota besar, yang dapat menjadi dasar pertimbangan dalam pengambilan keputusan bisnis, seperti strategi pemasaran atau ekspansi layanan.\n",
        "Keseluruhan proses ini memberikan pemahaman yang lebih jelas tentang pola data pelanggan, sekaligus menunjukkan pentingnya memilih metode analisis yang sesuai dengan keterbatasan teknis agar tetap mendapatkan wawasan yang bermanfaat tanpa mengorbankan efisiensi."
      ]
    }
  ],
  "metadata": {
    "colab": {
      "provenance": []
    },
    "kernelspec": {
      "display_name": ".venv",
      "language": "python",
      "name": "python3"
    },
    "language_info": {
      "codemirror_mode": {
        "name": "ipython",
        "version": 3
      },
      "file_extension": ".py",
      "mimetype": "text/x-python",
      "name": "python",
      "nbconvert_exporter": "python",
      "pygments_lexer": "ipython3",
      "version": "3.10.6"
    },
    "orig_nbformat": 4
  },
  "nbformat": 4,
  "nbformat_minor": 0
}
